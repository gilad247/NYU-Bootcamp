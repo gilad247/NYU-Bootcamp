{
 "cells": [
  {
   "cell_type": "markdown",
   "metadata": {},
   "source": [
    "### Data Bootcamp Midterm Project\n",
    "\n",
    "Using the data at https://reveliolabs.s3.us-east-2.amazonaws.com/Sample_Workforce_Data_0720.csv ,\n",
    "create a Jupyter Notebook that asks and answers a question about the workforce of any, or all, of the\n",
    "companies listed. You may address just one company, an industry, the 10 largest or all of them… there are\n",
    "no requirements on what question you may ask other than that it is interesting (Does Facebook have more\n",
    "software engineers than Walmart is not interesting).\n",
    "\n",
    "- This project is intended to be open ended. You will all start with the same dataset on employment data for\n",
    "xxx companies. The quesstion you choose to answer with that data, however, is up to you, as are the\n",
    "methods you use.\n",
    "- Unlike the problem sets, there is no specific \"checklist\" you have to follow in order to get a good grade on\n",
    "this, as long as you demonstrate the following:\n",
    "- Comprehensive use of python code & concepts learned over the semester thus far (30%)\n",
    "- Depth of project analysis, i.e. how many scenarios/“experiments” did you test (30%)\n",
    "- Interpretation of data results (30%)\n",
    "- Readability/reproducibility of code/visualiza9ons. How easy is it for someone else to understand what you\n",
    "are doing with your code? Would someone be able to replicate it for another project? Are your graphs\n",
    "legible? Do they have titles, appropriate axis, easily understood legends (10%)?\n",
    "- The code behind the graphs and statistics included in articles you read online is often made available to the\n",
    "public so it can assist others in their work and to help with reproducibility of results. Your Notebook should\n",
    "be created with this in mind, though you do not need to write paragraphs explaining every for-loop; simple\n",
    "notes on what a certain group of lines do is satisfactory"
   ]
  },
  {
   "cell_type": "code",
   "execution_count": null,
   "metadata": {},
   "outputs": [],
   "source": []
  }
 ],
 "metadata": {
  "kernelspec": {
   "display_name": "Python 3",
   "language": "python",
   "name": "python3"
  },
  "language_info": {
   "codemirror_mode": {
    "name": "ipython",
    "version": 3
   },
   "file_extension": ".py",
   "mimetype": "text/x-python",
   "name": "python",
   "nbconvert_exporter": "python",
   "pygments_lexer": "ipython3",
   "version": "3.8.3"
  }
 },
 "nbformat": 4,
 "nbformat_minor": 4
}
