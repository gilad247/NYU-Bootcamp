{
 "cells": [
  {
   "cell_type": "markdown",
   "metadata": {
    "id": "4C-q-hL-BMw6"
   },
   "source": [
    "### Unsupervised Learning: Clustering\n",
    "\n",
    "**OBJECTIVES**\n",
    "- Differentiate between supervised and unsupervised learning tasks\n",
    "- Understand and implement the KMeans clustering algorithm\n",
    "- Understand and implement the DBScan clustering algorithm\n",
    "- Apply clustering to problem of customer segmentation"
   ]
  },
  {
   "cell_type": "code",
   "execution_count": null,
   "metadata": {
    "id": "vX_lV_3N3_xv"
   },
   "outputs": [],
   "source": [
    "from sklearn.datasets import make_blobs\n",
    "import numpy as np\n",
    "import matplotlib.pyplot as plt\n",
    "import pandas as pd"
   ]
  },
  {
   "cell_type": "markdown",
   "metadata": {},
   "source": [
    "### Supervised vs. Unsupervised Learning\n",
    "\n",
    "- **SUPERVISED LEARNING**: Labels to predict are known (regression and classification)\n",
    "- **UNSUPERVISED LEARNING**: No target label to predict (clustering)"
   ]
  },
  {
   "cell_type": "code",
   "execution_count": null,
   "metadata": {
    "id": "TCXnDVWW7E5_"
   },
   "outputs": [],
   "source": [
    "#create a synthetic dataset\n",
    "X, y = make_blobs(n_samples=40, centers = 2, random_state = 22, cluster_std = 1)"
   ]
  },
  {
   "cell_type": "code",
   "execution_count": null,
   "metadata": {
    "colab": {
     "base_uri": "https://localhost:8080/",
     "height": 281
    },
    "id": "sOne1m567Kij",
    "outputId": "f7c70f88-91d8-4269-83db-85590bd28872"
   },
   "outputs": [],
   "source": [
    "#plot the data\n",
    "plt.scatter(X[:, 0], X[:, 1])\n",
    "plt.title(\"Clustering -- Problem Setting\");"
   ]
  },
  {
   "cell_type": "markdown",
   "metadata": {
    "id": "xBIK5GjwCnNT"
   },
   "source": [
    "### KMeans Algorithm\n",
    "\n",
    "Before implementing, you need to determine how many clusters you think exist in the data.  Here, we were able to visualize this but typically you will try a few values that are likely constrained by the context you are clustering within."
   ]
  },
  {
   "cell_type": "markdown",
   "metadata": {
    "id": "NNiEbIGUD4uk"
   },
   "source": [
    "#### STEP 1: Choose and Implement Centers\n",
    "\n",
    "Once you choose the number of centers, you will need to offer a first guess.  There are many ways to do so, below two centers are given for you."
   ]
  },
  {
   "cell_type": "code",
   "execution_count": null,
   "metadata": {
    "id": "GLMNH9F87Mrj"
   },
   "outputs": [],
   "source": [
    "#initial centers\n",
    "center_1 = np.array([-5, 4])\n",
    "center_2 = np.array([-3, 4])"
   ]
  },
  {
   "cell_type": "code",
   "execution_count": null,
   "metadata": {
    "colab": {
     "base_uri": "https://localhost:8080/",
     "height": 265
    },
    "id": "INtC-yTe7dPh",
    "outputId": "2031d805-3785-47f4-8376-0e8b452d194d"
   },
   "outputs": [],
   "source": [
    "#plot the examples and centers\n",
    "plt.scatter(X[:, 0], X[:, 1])\n",
    "plt.plot(center_1[0], center_1[1], 'x', markersize = 10, color = 'red', label = 'Center A')\n",
    "plt.plot(center_2[0], center_2[1], 'x', markersize = 10, color = 'black', label = 'Center B')\n",
    "plt.legend();"
   ]
  },
  {
   "cell_type": "markdown",
   "metadata": {
    "id": "O3nRQ44lE-ds"
   },
   "source": [
    "#### STEP 2: Measure Distance from points to each center\n",
    "\n"
   ]
  },
  {
   "cell_type": "code",
   "execution_count": null,
   "metadata": {
    "id": "HVzoNwLE7jqV"
   },
   "outputs": [],
   "source": [
    "#distance to the first center\n",
    "distance_to_c1 = np.linalg.norm(center_1 - X, axis = 1)"
   ]
  },
  {
   "cell_type": "code",
   "execution_count": null,
   "metadata": {
    "id": "Z3UAg5AD7xiw"
   },
   "outputs": [],
   "source": [
    "#distance to the second center\n",
    "distance_to_c2 = np.linalg.norm(center_2 - X, axis = 1)"
   ]
  },
  {
   "cell_type": "code",
   "execution_count": null,
   "metadata": {
    "id": "XyQCAjnq7_4N"
   },
   "outputs": [],
   "source": [
    "#create a DataFrame of the distances\n",
    "dists = pd.DataFrame({'c1': distance_to_c1,\n",
    "              'c2': distance_to_c2})"
   ]
  },
  {
   "cell_type": "code",
   "execution_count": null,
   "metadata": {
    "colab": {
     "base_uri": "https://localhost:8080/",
     "height": 206
    },
    "id": "L-Z3W0lSovo6",
    "outputId": "f759f5e4-9c30-4da6-b653-b50161be4ad3"
   },
   "outputs": [],
   "source": [
    "#the first few distances\n",
    "dists.head()"
   ]
  },
  {
   "cell_type": "code",
   "execution_count": null,
   "metadata": {
    "colab": {
     "base_uri": "https://localhost:8080/"
    },
    "id": "Q_tV2hDP8F_w",
    "outputId": "f7b0ebb2-6755-4c84-96b4-1b05f70e5f7f"
   },
   "outputs": [],
   "source": [
    "#which center is closest\n",
    "dists.apply(np.argmin, axis = 1)[:8]"
   ]
  },
  {
   "cell_type": "code",
   "execution_count": null,
   "metadata": {
    "id": "7NF-N9jq83CH"
   },
   "outputs": [],
   "source": [
    "#creating dataframe with data\n",
    "data = pd.DataFrame(X, columns = ['x1', 'x2'])"
   ]
  },
  {
   "cell_type": "code",
   "execution_count": null,
   "metadata": {
    "id": "I67-Ju7c8_r2"
   },
   "outputs": [],
   "source": [
    "#adding a label column\n",
    "data['label'] = dists.apply(np.argmin, axis = 1)"
   ]
  },
  {
   "cell_type": "code",
   "execution_count": null,
   "metadata": {
    "colab": {
     "base_uri": "https://localhost:8080/",
     "height": 206
    },
    "id": "rAMzui539sxK",
    "outputId": "164914be-54cd-4a6b-d31e-a4f08d1cdda8"
   },
   "outputs": [],
   "source": [
    "#examine the results\n",
    "data.head()"
   ]
  },
  {
   "cell_type": "markdown",
   "metadata": {
    "id": "z30EfcnIGAkw"
   },
   "source": [
    "#### STEP 3: Update the Centers\n",
    "\n",
    "Using our labels, we update the center points as the mean of the new labels."
   ]
  },
  {
   "cell_type": "code",
   "execution_count": null,
   "metadata": {
    "colab": {
     "base_uri": "https://localhost:8080/",
     "height": 143
    },
    "id": "2uGUXeG79tDY",
    "outputId": "496bc40f-f1d3-4735-e2c9-82ea746a04aa"
   },
   "outputs": [],
   "source": [
    "data.groupby('label').mean()"
   ]
  },
  {
   "cell_type": "code",
   "execution_count": null,
   "metadata": {
    "colab": {
     "base_uri": "https://localhost:8080/",
     "height": 265
    },
    "id": "SioOwKde9xso",
    "outputId": "f21e9321-9d11-49a6-f9ac-d988f5034ded"
   },
   "outputs": [],
   "source": [
    "plt.scatter(X[:, 0], X[:, 1])\n",
    "plt.plot(center_1[0], center_1[1], 'x', color = 'red', label = 'Start')\n",
    "plt.plot(center_2[0], center_2[1], 'x', color = 'black', label = 'Start')\n",
    "\n",
    "c2 = data.groupby('label').mean()\n",
    "plt.scatter(c2['x1'], c2['x2'], c = ['red', 'black'], label = 'Step 2')\n",
    "plt.legend();"
   ]
  },
  {
   "cell_type": "markdown",
   "metadata": {
    "id": "9kooy6x2GpKQ"
   },
   "source": [
    "#### STEP 4: Repeat until centers stop moving\n",
    "\n",
    "Now, you repeat the process of measuring the distances from the center, labeling by the closest, and updating the location of the centers appropriately."
   ]
  },
  {
   "cell_type": "markdown",
   "metadata": {
    "id": "K7gOcNEIIgHs"
   },
   "source": [
    "### Implementing with `sklearn`\n",
    "\n",
    "Last consideration is to scale the data prior to implementing the algorithm so that different scales don't affect the labels.  Below, we create a pipeline to scale and cluster our data. "
   ]
  },
  {
   "cell_type": "code",
   "execution_count": null,
   "metadata": {
    "id": "oKk8i0At9_sK"
   },
   "outputs": [],
   "source": [
    "from sklearn.cluster import KMeans\n",
    "from sklearn.preprocessing import StandardScaler\n",
    "from sklearn.pipeline import Pipeline"
   ]
  },
  {
   "cell_type": "code",
   "execution_count": null,
   "metadata": {
    "id": "ixobC9so--Um"
   },
   "outputs": [],
   "source": [
    "X, y = make_blobs(random_state = 20)"
   ]
  },
  {
   "cell_type": "code",
   "execution_count": null,
   "metadata": {
    "colab": {
     "base_uri": "https://localhost:8080/",
     "height": 283
    },
    "id": "ZwsN9R4t_AxQ",
    "outputId": "4dd47de3-b7ca-49db-d73b-81abae193e84"
   },
   "outputs": [],
   "source": [
    "plt.scatter(X[:, 0], X[:, 1], c = y)"
   ]
  },
  {
   "cell_type": "code",
   "execution_count": null,
   "metadata": {
    "id": "MpKpwqvc_Dsb"
   },
   "outputs": [],
   "source": [
    "pipe = Pipeline([('scale', StandardScaler()),\n",
    "                 ('cluster', KMeans(n_clusters = 3))])"
   ]
  },
  {
   "cell_type": "code",
   "execution_count": null,
   "metadata": {
    "colab": {
     "base_uri": "https://localhost:8080/"
    },
    "id": "2dAASCnDXSZv",
    "outputId": "65782425-aa92-4402-b2dd-c4c0020fee1e"
   },
   "outputs": [],
   "source": [
    "pipe.fit(X)"
   ]
  },
  {
   "cell_type": "code",
   "execution_count": null,
   "metadata": {
    "colab": {
     "base_uri": "https://localhost:8080/"
    },
    "id": "iw0DQMSYXSTd",
    "outputId": "7fc93cb0-da2d-4246-b740-e61966acd514"
   },
   "outputs": [],
   "source": [
    "pipe.predict(X)"
   ]
  },
  {
   "cell_type": "code",
   "execution_count": null,
   "metadata": {
    "colab": {
     "base_uri": "https://localhost:8080/",
     "height": 283
    },
    "id": "24UEtU4TXSPY",
    "outputId": "d52e78d6-1098-4341-9a11-ddce78b7c557"
   },
   "outputs": [],
   "source": [
    "plt.scatter(X[:, 0], X[:, 1], c = pipe.predict(X))"
   ]
  },
  {
   "cell_type": "code",
   "execution_count": null,
   "metadata": {
    "colab": {
     "base_uri": "https://localhost:8080/",
     "height": 283
    },
    "id": "uGWt3lVAXSK-",
    "outputId": "366f33da-101c-4d28-df55-6f6f73a8d536"
   },
   "outputs": [],
   "source": [
    "pipe = Pipeline([('scale', StandardScaler()),\n",
    "                ('cluster', KMeans(n_clusters = 3, init = 'random' ))])\n",
    "pipe.fit(X)\n",
    "plt.scatter(X[:, 0], X[:, 1], c = pipe.predict(X))"
   ]
  },
  {
   "cell_type": "markdown",
   "metadata": {
    "id": "Ysa-GgXIXSDl"
   },
   "source": [
    "### Finding the right number of clusters"
   ]
  },
  {
   "cell_type": "code",
   "execution_count": null,
   "metadata": {
    "id": "lsvYX0bCD8lf"
   },
   "outputs": [],
   "source": [
    "scores = []\n",
    "for i in range(2, 11):\n",
    "    pipe = Pipeline([('scale', StandardScaler()),\n",
    "                ('cluster', KMeans(n_clusters = i))])\n",
    "    pipe.fit(X)\n",
    "    scores.append(pipe.score(X))"
   ]
  },
  {
   "cell_type": "code",
   "execution_count": null,
   "metadata": {
    "colab": {
     "base_uri": "https://localhost:8080/",
     "height": 283
    },
    "id": "oydE8f8JEaxD",
    "outputId": "fbcc8b1a-7670-45ba-fa8a-8af4eb5a2473"
   },
   "outputs": [],
   "source": [
    "plt.plot(range(2, 11), scores, '--o')\n",
    "plt.title(\"\")"
   ]
  },
  {
   "cell_type": "markdown",
   "metadata": {
    "id": "BEijJKiuaT2Y"
   },
   "source": [
    "### Evaluating Cluster Models\n",
    "\n",
    "- [Inertia](https://scikit-learn.org/stable/modules/clustering.html#k-means): Within cluster sum of squares.\n",
    " $$\\sum_{i = 0}^n \\min_{u_j \\in C}(||x_i - u_j||^2)$$\n",
    "- [Silhouette](https://scikit-learn.org/stable/modules/clustering.html#silhouette-coefficient): Ratio of distances between points in same cluster to those in others\n",
    "\n",
    " - a: The mean distance between a sample and all other points in the same class\n",
    " - b: The mean distance between a sample and all other points in the next nearest cluster\n",
    "\n",
    "$$s = \\frac{b - a}{max(a, b)}$$"
   ]
  },
  {
   "cell_type": "code",
   "execution_count": null,
   "metadata": {
    "id": "11WaUldrE3ql"
   },
   "outputs": [],
   "source": [
    "from sklearn.metrics import silhouette_score, silhouette_samples"
   ]
  },
  {
   "cell_type": "code",
   "execution_count": null,
   "metadata": {
    "colab": {
     "base_uri": "https://localhost:8080/"
    },
    "id": "ez9UZ3OQGHAD",
    "outputId": "2497e97b-771e-4a7d-b1dc-4132d0839b7e"
   },
   "outputs": [],
   "source": [
    "silhouette_score(X, pipe.predict(X))"
   ]
  },
  {
   "cell_type": "markdown",
   "metadata": {
    "id": "Dl2wYekoegLc"
   },
   "source": [
    "- The score is bounded between -1 for incorrect clustering and +1 for highly dense clustering. Scores around zero indicate overlapping clusters.\n",
    "\n",
    "- The score is higher when clusters are dense and well separated, which relates to a standard concept of a cluster."
   ]
  },
  {
   "cell_type": "code",
   "execution_count": null,
   "metadata": {
    "colab": {
     "base_uri": "https://localhost:8080/"
    },
    "id": "EzI_xYJBen3H",
    "outputId": "437f4fac-08c6-4eb2-9c12-b1ea0feb4fe2"
   },
   "outputs": [],
   "source": [
    "pipe = Pipeline([('scale', StandardScaler()),\n",
    "                ('cluster', KMeans(n_clusters = 3))])\n",
    "pipe.fit(X)\n",
    "silhouette_score(X, pipe.predict(X))"
   ]
  },
  {
   "cell_type": "code",
   "execution_count": null,
   "metadata": {
    "id": "HsG6UfxPenxg"
   },
   "outputs": [],
   "source": [
    "scores = []\n",
    "for i in range(2, 11):\n",
    "    pipe = Pipeline([('scale', StandardScaler()),\n",
    "                ('cluster', KMeans(n_clusters = i))])\n",
    "    pipe.fit(X)\n",
    "    scores.append(silhouette_score(X, pipe.predict(X)))"
   ]
  },
  {
   "cell_type": "code",
   "execution_count": null,
   "metadata": {
    "id": "r5Xj_fXBgUHO"
   },
   "outputs": [],
   "source": [
    "# pip install scikit-plot"
   ]
  },
  {
   "cell_type": "code",
   "execution_count": null,
   "metadata": {
    "id": "o0I6N_G7enug"
   },
   "outputs": [],
   "source": [
    "from scikitplot.metrics import plot_silhouette"
   ]
  },
  {
   "cell_type": "code",
   "execution_count": null,
   "metadata": {
    "colab": {
     "base_uri": "https://localhost:8080/",
     "height": 1000
    },
    "id": "yKdEKC4YGLdA",
    "outputId": "8bcdabcb-da72-4ded-eae8-02cd775a17f0"
   },
   "outputs": [],
   "source": [
    "#trying different cluster values and silhouette scores\n",
    "scores = []\n",
    "for i in range(2, 11):\n",
    "    pipe = Pipeline([('scale', StandardScaler()),\n",
    "                ('cluster', KMeans(n_clusters = i))])\n",
    "    pipe.fit(X)\n",
    "    plot_silhouette(X, pipe.predict(X), title = f'{i} Clusters')"
   ]
  },
  {
   "cell_type": "markdown",
   "metadata": {
    "id": "R9aglGR6hkAM"
   },
   "source": [
    "### DBSCAN Algorithm\n",
    "\n",
    "A second approach to clustering is the DBSCAN algorithm.  Rather than using a preset number of clusters, DBSCAN learns a correct number of clusters based on an iterative process of nearness based grouping. Let's take a look at the algorithm in action [here](https://www.naftaliharris.com/blog/visualizing-dbscan-clustering/). The parameter for this algorithm is $ϵ$ -- the radius of the ball."
   ]
  },
  {
   "cell_type": "code",
   "execution_count": null,
   "metadata": {
    "id": "yAw5PP9sGMfy"
   },
   "outputs": [],
   "source": [
    "from sklearn.cluster import DBSCAN"
   ]
  },
  {
   "cell_type": "code",
   "execution_count": null,
   "metadata": {
    "id": "x18N6nD6GOCo"
   },
   "outputs": [],
   "source": [
    "#pipeline for scale and cluster\n"
   ]
  },
  {
   "cell_type": "code",
   "execution_count": null,
   "metadata": {
    "id": "ivf1Hy_yGp30"
   },
   "outputs": [],
   "source": [
    "#fit data\n"
   ]
  },
  {
   "cell_type": "code",
   "execution_count": null,
   "metadata": {
    "id": "rNKni1CWG8ej"
   },
   "outputs": [],
   "source": [
    "#score it\n"
   ]
  },
  {
   "cell_type": "code",
   "execution_count": null,
   "metadata": {
    "id": "NJuPHZkrGvnr"
   },
   "outputs": [],
   "source": [
    "#try with different epsilon values\n"
   ]
  },
  {
   "cell_type": "code",
   "execution_count": null,
   "metadata": {
    "colab": {
     "base_uri": "https://localhost:8080/"
    },
    "id": "-h2mNjDBGwwN",
    "outputId": "ed4b47ab-19b4-414a-d86b-efdd3a5d3494"
   },
   "outputs": [],
   "source": [
    "#visualize\n"
   ]
  },
  {
   "cell_type": "markdown",
   "metadata": {
    "id": "nfU0ABOIi1Ym"
   },
   "source": [
    "### Application: Customer Segmentation\n",
    "\n",
    "One important application of clustering algorithms is to group customers.  This profiling can help a business to understand patterns in purchasing or customer demographics.  The idea is to cluster and look for patterns with the clustered group. "
   ]
  },
  {
   "cell_type": "code",
   "execution_count": null,
   "metadata": {},
   "outputs": [],
   "source": [
    "from sklearn.preprocessing import OneHotEncoder\n",
    "from sklearn.compose import make_column_transformer"
   ]
  },
  {
   "cell_type": "code",
   "execution_count": null,
   "metadata": {
    "id": "rY-NDXcqrsJf"
   },
   "outputs": [],
   "source": [
    "churn = pd.read_csv('data/cell_phone_churn.csv')"
   ]
  },
  {
   "cell_type": "code",
   "execution_count": null,
   "metadata": {},
   "outputs": [],
   "source": [
    "churn.head()"
   ]
  },
  {
   "cell_type": "code",
   "execution_count": null,
   "metadata": {},
   "outputs": [],
   "source": [
    "#drop state and churn\n",
    "X = churn.iloc[:, 1:-1]"
   ]
  },
  {
   "cell_type": "code",
   "execution_count": null,
   "metadata": {},
   "outputs": [],
   "source": [
    "encoder = make_column_transformer((OneHotEncoder(), ['vmail_plan', 'intl_plan']),\n",
    "                                 remainder=StandardScaler())"
   ]
  },
  {
   "cell_type": "code",
   "execution_count": null,
   "metadata": {},
   "outputs": [],
   "source": [
    "pipe = Pipeline([('preprocess', encoder), ('cluster', KMeans(n_clusters = 4))])"
   ]
  },
  {
   "cell_type": "code",
   "execution_count": null,
   "metadata": {},
   "outputs": [],
   "source": [
    "pipe.fit(X)"
   ]
  },
  {
   "cell_type": "code",
   "execution_count": null,
   "metadata": {},
   "outputs": [],
   "source": [
    "pipe.predict(X)"
   ]
  },
  {
   "cell_type": "code",
   "execution_count": null,
   "metadata": {},
   "outputs": [],
   "source": [
    "X['label'] = pipe.predict(X)"
   ]
  },
  {
   "cell_type": "code",
   "execution_count": null,
   "metadata": {},
   "outputs": [],
   "source": [
    "#look for patterns within groups\n",
    "X.groupby('label').mean()"
   ]
  }
 ],
 "metadata": {
  "colab": {
   "provenance": []
  },
  "kernelspec": {
   "display_name": "Python 3",
   "language": "python",
   "name": "python3"
  },
  "language_info": {
   "codemirror_mode": {
    "name": "ipython",
    "version": 3
   },
   "file_extension": ".py",
   "mimetype": "text/x-python",
   "name": "python",
   "nbconvert_exporter": "python",
   "pygments_lexer": "ipython3",
   "version": "3.8.3"
  }
 },
 "nbformat": 4,
 "nbformat_minor": 4
}
