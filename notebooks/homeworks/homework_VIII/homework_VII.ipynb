{
 "cells": [
  {
   "cell_type": "markdown",
   "metadata": {},
   "source": [
    "### Description\n",
    "\n",
    "In this project you'll use your skills with Python, machine learning, APIs, and NLP. \n",
    "\n",
    "For this homework you have two objective:\n",
    "\n",
    "1. Using [Pushshift's](https://github.com/pushshift/api) API, collect posts from two subreddits of your choosing.\n",
    "2. Then use NLP to train a classifier to determine which subreddit a given post came from. This is a binary classification problem.\n",
    "\n",
    "\n",
    "#### About the API\n",
    "\n",
    "You'll be using Pushshift's API. As an example, if you want to get posts from [`/r/boardgames`](https://www.reddit.com/r/boardgames), use the following url: https://api.pushshift.io/reddit/search/submission?subreddit=boardgames\n",
    "\n",
    "\n",
    "\n",
    "---\n",
    "## Checkpoints and Advice\n",
    "\n",
    "If you aren't familiar with [reddit](https://www.reddit.com/), go check it out and browse different subreddits. Each subreddit is like a forum on a different topic. [Here's a list of subreddits by topic.](https://www.reddit.com/r/ListOfSubreddits/wiki/listofsubreddits)\n",
    "\n",
    "- In your project you can classify posts, comments, titles, or some combination of those things. What you choose will partly determine how difficult your data cleaning will be and how challenging the classification task will be for your algorithms. In your presentation and executive summary, **tell us what you used**.\n",
    "\n",
    "- You can also include other information from posts or comments as features, but you must include some text.\n",
    "\n",
    "- You can make the project more challenging by choosing subreddits that are more similar. \n",
    "\n",
    "\n",
    "- The more data you can pull the better for your classifier. You will want data from at least 300 unique, non-null posts.\n",
    "\n",
    "\n",
    "\n",
    "\n",
    "---\n",
    "\n",
    "### Requirements\n",
    "\n",
    "- Gather and prepare your data using the `requests` library.\n",
    "- **Create and compare at least two models**. One of these must be a Bayes classifier, however the other can be a classifier of your choosing: logistic regression, KNN, etc.\n",
    "- A Jupyter Notebook with your analysis."
   ]
  },
  {
   "cell_type": "code",
   "execution_count": null,
   "metadata": {},
   "outputs": [],
   "source": []
  }
 ],
 "metadata": {
  "kernelspec": {
   "display_name": "Python 3",
   "language": "python",
   "name": "python3"
  },
  "language_info": {
   "codemirror_mode": {
    "name": "ipython",
    "version": 3
   },
   "file_extension": ".py",
   "mimetype": "text/x-python",
   "name": "python",
   "nbconvert_exporter": "python",
   "pygments_lexer": "ipython3",
   "version": "3.8.3"
  }
 },
 "nbformat": 4,
 "nbformat_minor": 4
}
