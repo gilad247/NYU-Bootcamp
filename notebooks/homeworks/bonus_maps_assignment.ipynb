{
  "cells": [
    {
      "cell_type": "markdown",
      "metadata": {
        "id": "w7m7Do_RKlyn"
      },
      "source": [
        "### NYPD Arrest Exploration\n",
        "\n",
        "**Objectives**:\n",
        "\n",
        "- Explore data about arrests in New York City.  \n",
        "- Build maps using latitude and longitude\n",
        "- Build a Heatmap to explore certain crime hotspots\n",
        "\n",
        "The Data:\n",
        "\n",
        "![](images/nypd_data.png)"
      ]
    },
    {
      "cell_type": "markdown",
      "metadata": {
        "id": "DXgRl2QFKlyr"
      },
      "source": [
        "Our data comes to us from the New York City Open Data Portal.  For more information about the data please visit the portal and examine the description and footnotes [here](https://data.cityofnewyork.us/Public-Safety/NYPD-Arrest-Data-Year-to-Date-/uip8-fykc)."
      ]
    },
    {
      "cell_type": "markdown",
      "metadata": {
        "id": "5H3h0ROBKlyr"
      },
      "source": [
        "### Loading our data"
      ]
    },
    {
      "cell_type": "code",
      "execution_count": null,
      "metadata": {
        "id": "04MnqwtYKlys"
      },
      "outputs": [],
      "source": [
        "import pandas as pd"
      ]
    },
    {
      "cell_type": "code",
      "execution_count": null,
      "metadata": {
        "id": "q42ZciGtKlyt"
      },
      "outputs": [],
      "source": [
        "arrest_df = pd.read_csv('https://raw.githubusercontent.com/jfkoehler/Data-and-Design/master/week_4/data/NYPD_Arrest_Data__Year_to_Date_.csv')"
      ]
    },
    {
      "cell_type": "markdown",
      "metadata": {
        "id": "pY9siTrjKlyt"
      },
      "source": [
        "### Problem\n",
        "\n",
        "Examine the top five rows of the DataFrame."
      ]
    },
    {
      "cell_type": "code",
      "execution_count": null,
      "metadata": {
        "id": "25dy2BUHKlyu",
        "colab": {
          "base_uri": "https://localhost:8080/",
          "height": 206
        },
        "outputId": "717645f1-4b58-4bcb-c21c-3ae93efd74f1"
      },
      "outputs": [
        {
          "output_type": "execute_result",
          "data": {
            "text/plain": [
              "   ARREST_KEY ARREST_DATE  PD_CD                         PD_DESC  KY_CD  \\\n",
              "0   214353678  06/18/2020  109.0        ASSAULT 2,1,UNCLASSIFIED  106.0   \n",
              "1   210517846  03/04/2020  969.0  TRAFFIC,UNCLASSIFIED INFRACTIO  881.0   \n",
              "2   209190141  02/07/2020  569.0           MARIJUANA, SALE 4 & 5  235.0   \n",
              "3   208085722  01/17/2020  639.0         AGGRAVATED HARASSMENT 2  361.0   \n",
              "4   214476276  06/23/2020  105.0               STRANGULATION 1ST  106.0   \n",
              "\n",
              "                       OFNS_DESC    LAW_CODE LAW_CAT_CD ARREST_BORO  \\\n",
              "0                 FELONY ASSAULT  PL 1200501          F           K   \n",
              "1       OTHER TRAFFIC INFRACTION  VTL051101A          M           M   \n",
              "2                DANGEROUS DRUGS  PL 2214000          M           K   \n",
              "3  OFF. AGNST PUB ORD SENSBLTY &  PL 2403002          M           Q   \n",
              "4                 FELONY ASSAULT  PL 1211200          F           B   \n",
              "\n",
              "   ARREST_PRECINCT  JURISDICTION_CODE AGE_GROUP PERP_SEX       PERP_RACE  \\\n",
              "0               68                  0     18-24        F  WHITE HISPANIC   \n",
              "1               10                  0     25-44        M  BLACK HISPANIC   \n",
              "2               70                  0     25-44        M           WHITE   \n",
              "3              101                  0     45-64        M  BLACK HISPANIC   \n",
              "4               48                  0     25-44        M  WHITE HISPANIC   \n",
              "\n",
              "   X_COORD_CD  Y_COORD_CD   Latitude  Longitude  \\\n",
              "0      978016      172087  40.639022 -74.022464   \n",
              "1      984331      209268  40.741077 -73.999709   \n",
              "2      996733      162284  40.612108 -73.955041   \n",
              "3     1053650      158969  40.602746 -73.750078   \n",
              "4     1011779      246746  40.843901 -73.900505   \n",
              "\n",
              "                       New Georeferenced Column  \n",
              "0  POINT (-74.02246352399999 40.63902167200007)  \n",
              "1  POINT (-73.99970914499994 40.74107715900004)  \n",
              "2  POINT (-73.95504136299996 40.61210789100005)  \n",
              "3  POINT (-73.75007786499998 40.60274595100003)  \n",
              "4  POINT (-73.90050463199998 40.84390125500005)  "
            ],
            "text/html": [
              "\n",
              "  <div id=\"df-3d4c3918-1bd8-4f54-8d2f-dfcea71857e7\">\n",
              "    <div class=\"colab-df-container\">\n",
              "      <div>\n",
              "<style scoped>\n",
              "    .dataframe tbody tr th:only-of-type {\n",
              "        vertical-align: middle;\n",
              "    }\n",
              "\n",
              "    .dataframe tbody tr th {\n",
              "        vertical-align: top;\n",
              "    }\n",
              "\n",
              "    .dataframe thead th {\n",
              "        text-align: right;\n",
              "    }\n",
              "</style>\n",
              "<table border=\"1\" class=\"dataframe\">\n",
              "  <thead>\n",
              "    <tr style=\"text-align: right;\">\n",
              "      <th></th>\n",
              "      <th>ARREST_KEY</th>\n",
              "      <th>ARREST_DATE</th>\n",
              "      <th>PD_CD</th>\n",
              "      <th>PD_DESC</th>\n",
              "      <th>KY_CD</th>\n",
              "      <th>OFNS_DESC</th>\n",
              "      <th>LAW_CODE</th>\n",
              "      <th>LAW_CAT_CD</th>\n",
              "      <th>ARREST_BORO</th>\n",
              "      <th>ARREST_PRECINCT</th>\n",
              "      <th>JURISDICTION_CODE</th>\n",
              "      <th>AGE_GROUP</th>\n",
              "      <th>PERP_SEX</th>\n",
              "      <th>PERP_RACE</th>\n",
              "      <th>X_COORD_CD</th>\n",
              "      <th>Y_COORD_CD</th>\n",
              "      <th>Latitude</th>\n",
              "      <th>Longitude</th>\n",
              "      <th>New Georeferenced Column</th>\n",
              "    </tr>\n",
              "  </thead>\n",
              "  <tbody>\n",
              "    <tr>\n",
              "      <th>0</th>\n",
              "      <td>214353678</td>\n",
              "      <td>06/18/2020</td>\n",
              "      <td>109.0</td>\n",
              "      <td>ASSAULT 2,1,UNCLASSIFIED</td>\n",
              "      <td>106.0</td>\n",
              "      <td>FELONY ASSAULT</td>\n",
              "      <td>PL 1200501</td>\n",
              "      <td>F</td>\n",
              "      <td>K</td>\n",
              "      <td>68</td>\n",
              "      <td>0</td>\n",
              "      <td>18-24</td>\n",
              "      <td>F</td>\n",
              "      <td>WHITE HISPANIC</td>\n",
              "      <td>978016</td>\n",
              "      <td>172087</td>\n",
              "      <td>40.639022</td>\n",
              "      <td>-74.022464</td>\n",
              "      <td>POINT (-74.02246352399999 40.63902167200007)</td>\n",
              "    </tr>\n",
              "    <tr>\n",
              "      <th>1</th>\n",
              "      <td>210517846</td>\n",
              "      <td>03/04/2020</td>\n",
              "      <td>969.0</td>\n",
              "      <td>TRAFFIC,UNCLASSIFIED INFRACTIO</td>\n",
              "      <td>881.0</td>\n",
              "      <td>OTHER TRAFFIC INFRACTION</td>\n",
              "      <td>VTL051101A</td>\n",
              "      <td>M</td>\n",
              "      <td>M</td>\n",
              "      <td>10</td>\n",
              "      <td>0</td>\n",
              "      <td>25-44</td>\n",
              "      <td>M</td>\n",
              "      <td>BLACK HISPANIC</td>\n",
              "      <td>984331</td>\n",
              "      <td>209268</td>\n",
              "      <td>40.741077</td>\n",
              "      <td>-73.999709</td>\n",
              "      <td>POINT (-73.99970914499994 40.74107715900004)</td>\n",
              "    </tr>\n",
              "    <tr>\n",
              "      <th>2</th>\n",
              "      <td>209190141</td>\n",
              "      <td>02/07/2020</td>\n",
              "      <td>569.0</td>\n",
              "      <td>MARIJUANA, SALE 4 &amp; 5</td>\n",
              "      <td>235.0</td>\n",
              "      <td>DANGEROUS DRUGS</td>\n",
              "      <td>PL 2214000</td>\n",
              "      <td>M</td>\n",
              "      <td>K</td>\n",
              "      <td>70</td>\n",
              "      <td>0</td>\n",
              "      <td>25-44</td>\n",
              "      <td>M</td>\n",
              "      <td>WHITE</td>\n",
              "      <td>996733</td>\n",
              "      <td>162284</td>\n",
              "      <td>40.612108</td>\n",
              "      <td>-73.955041</td>\n",
              "      <td>POINT (-73.95504136299996 40.61210789100005)</td>\n",
              "    </tr>\n",
              "    <tr>\n",
              "      <th>3</th>\n",
              "      <td>208085722</td>\n",
              "      <td>01/17/2020</td>\n",
              "      <td>639.0</td>\n",
              "      <td>AGGRAVATED HARASSMENT 2</td>\n",
              "      <td>361.0</td>\n",
              "      <td>OFF. AGNST PUB ORD SENSBLTY &amp;</td>\n",
              "      <td>PL 2403002</td>\n",
              "      <td>M</td>\n",
              "      <td>Q</td>\n",
              "      <td>101</td>\n",
              "      <td>0</td>\n",
              "      <td>45-64</td>\n",
              "      <td>M</td>\n",
              "      <td>BLACK HISPANIC</td>\n",
              "      <td>1053650</td>\n",
              "      <td>158969</td>\n",
              "      <td>40.602746</td>\n",
              "      <td>-73.750078</td>\n",
              "      <td>POINT (-73.75007786499998 40.60274595100003)</td>\n",
              "    </tr>\n",
              "    <tr>\n",
              "      <th>4</th>\n",
              "      <td>214476276</td>\n",
              "      <td>06/23/2020</td>\n",
              "      <td>105.0</td>\n",
              "      <td>STRANGULATION 1ST</td>\n",
              "      <td>106.0</td>\n",
              "      <td>FELONY ASSAULT</td>\n",
              "      <td>PL 1211200</td>\n",
              "      <td>F</td>\n",
              "      <td>B</td>\n",
              "      <td>48</td>\n",
              "      <td>0</td>\n",
              "      <td>25-44</td>\n",
              "      <td>M</td>\n",
              "      <td>WHITE HISPANIC</td>\n",
              "      <td>1011779</td>\n",
              "      <td>246746</td>\n",
              "      <td>40.843901</td>\n",
              "      <td>-73.900505</td>\n",
              "      <td>POINT (-73.90050463199998 40.84390125500005)</td>\n",
              "    </tr>\n",
              "  </tbody>\n",
              "</table>\n",
              "</div>\n",
              "      <button class=\"colab-df-convert\" onclick=\"convertToInteractive('df-3d4c3918-1bd8-4f54-8d2f-dfcea71857e7')\"\n",
              "              title=\"Convert this dataframe to an interactive table.\"\n",
              "              style=\"display:none;\">\n",
              "        \n",
              "  <svg xmlns=\"http://www.w3.org/2000/svg\" height=\"24px\"viewBox=\"0 0 24 24\"\n",
              "       width=\"24px\">\n",
              "    <path d=\"M0 0h24v24H0V0z\" fill=\"none\"/>\n",
              "    <path d=\"M18.56 5.44l.94 2.06.94-2.06 2.06-.94-2.06-.94-.94-2.06-.94 2.06-2.06.94zm-11 1L8.5 8.5l.94-2.06 2.06-.94-2.06-.94L8.5 2.5l-.94 2.06-2.06.94zm10 10l.94 2.06.94-2.06 2.06-.94-2.06-.94-.94-2.06-.94 2.06-2.06.94z\"/><path d=\"M17.41 7.96l-1.37-1.37c-.4-.4-.92-.59-1.43-.59-.52 0-1.04.2-1.43.59L10.3 9.45l-7.72 7.72c-.78.78-.78 2.05 0 2.83L4 21.41c.39.39.9.59 1.41.59.51 0 1.02-.2 1.41-.59l7.78-7.78 2.81-2.81c.8-.78.8-2.07 0-2.86zM5.41 20L4 18.59l7.72-7.72 1.47 1.35L5.41 20z\"/>\n",
              "  </svg>\n",
              "      </button>\n",
              "      \n",
              "  <style>\n",
              "    .colab-df-container {\n",
              "      display:flex;\n",
              "      flex-wrap:wrap;\n",
              "      gap: 12px;\n",
              "    }\n",
              "\n",
              "    .colab-df-convert {\n",
              "      background-color: #E8F0FE;\n",
              "      border: none;\n",
              "      border-radius: 50%;\n",
              "      cursor: pointer;\n",
              "      display: none;\n",
              "      fill: #1967D2;\n",
              "      height: 32px;\n",
              "      padding: 0 0 0 0;\n",
              "      width: 32px;\n",
              "    }\n",
              "\n",
              "    .colab-df-convert:hover {\n",
              "      background-color: #E2EBFA;\n",
              "      box-shadow: 0px 1px 2px rgba(60, 64, 67, 0.3), 0px 1px 3px 1px rgba(60, 64, 67, 0.15);\n",
              "      fill: #174EA6;\n",
              "    }\n",
              "\n",
              "    [theme=dark] .colab-df-convert {\n",
              "      background-color: #3B4455;\n",
              "      fill: #D2E3FC;\n",
              "    }\n",
              "\n",
              "    [theme=dark] .colab-df-convert:hover {\n",
              "      background-color: #434B5C;\n",
              "      box-shadow: 0px 1px 3px 1px rgba(0, 0, 0, 0.15);\n",
              "      filter: drop-shadow(0px 1px 2px rgba(0, 0, 0, 0.3));\n",
              "      fill: #FFFFFF;\n",
              "    }\n",
              "  </style>\n",
              "\n",
              "      <script>\n",
              "        const buttonEl =\n",
              "          document.querySelector('#df-3d4c3918-1bd8-4f54-8d2f-dfcea71857e7 button.colab-df-convert');\n",
              "        buttonEl.style.display =\n",
              "          google.colab.kernel.accessAllowed ? 'block' : 'none';\n",
              "\n",
              "        async function convertToInteractive(key) {\n",
              "          const element = document.querySelector('#df-3d4c3918-1bd8-4f54-8d2f-dfcea71857e7');\n",
              "          const dataTable =\n",
              "            await google.colab.kernel.invokeFunction('convertToInteractive',\n",
              "                                                     [key], {});\n",
              "          if (!dataTable) return;\n",
              "\n",
              "          const docLinkHtml = 'Like what you see? Visit the ' +\n",
              "            '<a target=\"_blank\" href=https://colab.research.google.com/notebooks/data_table.ipynb>data table notebook</a>'\n",
              "            + ' to learn more about interactive tables.';\n",
              "          element.innerHTML = '';\n",
              "          dataTable['output_type'] = 'display_data';\n",
              "          await google.colab.output.renderOutput(dataTable, element);\n",
              "          const docLink = document.createElement('div');\n",
              "          docLink.innerHTML = docLinkHtml;\n",
              "          element.appendChild(docLink);\n",
              "        }\n",
              "      </script>\n",
              "    </div>\n",
              "  </div>\n",
              "  "
            ]
          },
          "metadata": {},
          "execution_count": 3
        }
      ],
      "source": [
        "arrest_df.head()"
      ]
    },
    {
      "cell_type": "markdown",
      "metadata": {
        "id": "GJzWSoK0Klyu"
      },
      "source": [
        "### Problem\n",
        "\n",
        "Look over the columns and `.info()` of the data."
      ]
    },
    {
      "cell_type": "code",
      "execution_count": null,
      "metadata": {
        "id": "5ATHNY4JKlyv"
      },
      "outputs": [],
      "source": []
    },
    {
      "cell_type": "markdown",
      "metadata": {
        "id": "JJ2gQZluKlyv"
      },
      "source": [
        "### Problem"
      ]
    },
    {
      "cell_type": "markdown",
      "metadata": {
        "id": "q-BsOD9yKlyw"
      },
      "source": [
        "Take a look at the different kinds of offenses in the `OFNS_DESC` column using the `.value_counts()` method."
      ]
    },
    {
      "cell_type": "code",
      "execution_count": null,
      "metadata": {
        "id": "CLrGAD1KKlyw"
      },
      "outputs": [],
      "source": []
    },
    {
      "cell_type": "markdown",
      "metadata": {
        "id": "ZaQDoiD5Klyw"
      },
      "source": [
        "### Problem\n",
        "\n",
        "Select the rows where the `OFNS_DESC` is `DANGEROUS WEAPONS`.  Assign this data to the variable `dangerous_weapons` below.  "
      ]
    },
    {
      "cell_type": "code",
      "source": [],
      "metadata": {
        "id": "lmeb3fTJsQJO"
      },
      "execution_count": null,
      "outputs": []
    },
    {
      "cell_type": "code",
      "execution_count": null,
      "metadata": {
        "id": "SXdGy9Y_Klyx"
      },
      "outputs": [],
      "source": []
    },
    {
      "cell_type": "code",
      "execution_count": null,
      "metadata": {
        "id": "_9j5AYybKlyx"
      },
      "outputs": [],
      "source": []
    },
    {
      "cell_type": "markdown",
      "metadata": {
        "id": "6ZIqjCv0Klyx"
      },
      "source": [
        "### Problem\n",
        "\n",
        "What is the row id for the first row in the `'DANGEROUS WEAPONS'` data?"
      ]
    },
    {
      "cell_type": "code",
      "execution_count": null,
      "metadata": {
        "id": "mvMNHk4iKlyy"
      },
      "outputs": [],
      "source": []
    },
    {
      "cell_type": "markdown",
      "metadata": {
        "id": "fd6Wf5tmKlyy"
      },
      "source": [
        "### Problem\n",
        "\n",
        "Make a map centered on the first `Latitude,Longitude` pair in the data."
      ]
    },
    {
      "cell_type": "code",
      "execution_count": null,
      "metadata": {
        "id": "Qrzha1fcKlyy"
      },
      "outputs": [],
      "source": [
        "import folium"
      ]
    },
    {
      "cell_type": "code",
      "execution_count": null,
      "metadata": {
        "id": "BMSgOfn8Klyy"
      },
      "outputs": [],
      "source": []
    },
    {
      "cell_type": "code",
      "execution_count": null,
      "metadata": {
        "id": "mVEe18mBKlyz"
      },
      "outputs": [],
      "source": []
    },
    {
      "cell_type": "markdown",
      "metadata": {
        "id": "p0zRRS1tKlyz"
      },
      "source": [
        "### Problem\n",
        "\n",
        "Make a second map using a different style and start the zoom at 14."
      ]
    },
    {
      "cell_type": "code",
      "execution_count": null,
      "metadata": {
        "id": "ovQdVJOkKlyz"
      },
      "outputs": [],
      "source": []
    },
    {
      "cell_type": "markdown",
      "metadata": {
        "id": "7-qkqkUcKlyz"
      },
      "source": [
        "### Problem\n",
        "\n",
        "Add a circle marker for the first row of our 'DANGEROUS WEAPONS' dataset.  Include a label that contains the `PD_DESC` and `ARREST_DATE`."
      ]
    },
    {
      "cell_type": "code",
      "execution_count": null,
      "metadata": {
        "id": "nZe77RbuKlyz"
      },
      "outputs": [],
      "source": []
    },
    {
      "cell_type": "markdown",
      "metadata": {
        "id": "wPs3YXguKlyz"
      },
      "source": [
        "### Problem\n",
        "\n",
        "Add markers for the first 10 arrests in our 'DANGEROUS WEAPONS' to the map, including the arrests `PD_DESC` and `ARREST_DATE`."
      ]
    },
    {
      "cell_type": "code",
      "source": [
        "dangerous_weapons.head(1)\n",
        "import folium "
      ],
      "metadata": {
        "id": "MhuU6t5uun0d"
      },
      "execution_count": null,
      "outputs": []
    },
    {
      "cell_type": "code",
      "source": [
        "m = folium.Map(location = [40.828198,\t-73.93801])\n",
        "m"
      ],
      "metadata": {
        "colab": {
          "base_uri": "https://localhost:8080/",
          "height": 1000
        },
        "id": "aEG4BpUKuu-G",
        "outputId": "37f67163-dee0-48d4-f9a7-bb8692e3a103"
      },
      "execution_count": null,
      "outputs": [
        {
          "output_type": "execute_result",
          "data": {
            "text/plain": [
              "<folium.folium.Map at 0x7f30ded70890>"
            ],
            "text/html": [
              "<div style=\"width:100%;\"><div style=\"position:relative;width:100%;height:0;padding-bottom:60%;\"><span style=\"color:#565656\">Make this Notebook Trusted to load map: File -> Trust Notebook</span><iframe srcdoc=\"&lt;!DOCTYPE html&gt;\n",
              "&lt;head&gt;    \n",
              "    &lt;meta http-equiv=&quot;content-type&quot; content=&quot;text/html; charset=UTF-8&quot; /&gt;\n",
              "    \n",
              "        &lt;script&gt;\n",
              "            L_NO_TOUCH = false;\n",
              "            L_DISABLE_3D = false;\n",
              "        &lt;/script&gt;\n",
              "    \n",
              "    &lt;style&gt;html, body {width: 100%;height: 100%;margin: 0;padding: 0;}&lt;/style&gt;\n",
              "    &lt;style&gt;#map {position:absolute;top:0;bottom:0;right:0;left:0;}&lt;/style&gt;\n",
              "    &lt;script src=&quot;https://cdn.jsdelivr.net/npm/leaflet@1.6.0/dist/leaflet.js&quot;&gt;&lt;/script&gt;\n",
              "    &lt;script src=&quot;https://code.jquery.com/jquery-1.12.4.min.js&quot;&gt;&lt;/script&gt;\n",
              "    &lt;script src=&quot;https://maxcdn.bootstrapcdn.com/bootstrap/3.2.0/js/bootstrap.min.js&quot;&gt;&lt;/script&gt;\n",
              "    &lt;script src=&quot;https://cdnjs.cloudflare.com/ajax/libs/Leaflet.awesome-markers/2.0.2/leaflet.awesome-markers.js&quot;&gt;&lt;/script&gt;\n",
              "    &lt;link rel=&quot;stylesheet&quot; href=&quot;https://cdn.jsdelivr.net/npm/leaflet@1.6.0/dist/leaflet.css&quot;/&gt;\n",
              "    &lt;link rel=&quot;stylesheet&quot; href=&quot;https://maxcdn.bootstrapcdn.com/bootstrap/3.2.0/css/bootstrap.min.css&quot;/&gt;\n",
              "    &lt;link rel=&quot;stylesheet&quot; href=&quot;https://maxcdn.bootstrapcdn.com/bootstrap/3.2.0/css/bootstrap-theme.min.css&quot;/&gt;\n",
              "    &lt;link rel=&quot;stylesheet&quot; href=&quot;https://maxcdn.bootstrapcdn.com/font-awesome/4.6.3/css/font-awesome.min.css&quot;/&gt;\n",
              "    &lt;link rel=&quot;stylesheet&quot; href=&quot;https://cdnjs.cloudflare.com/ajax/libs/Leaflet.awesome-markers/2.0.2/leaflet.awesome-markers.css&quot;/&gt;\n",
              "    &lt;link rel=&quot;stylesheet&quot; href=&quot;https://cdn.jsdelivr.net/gh/python-visualization/folium/folium/templates/leaflet.awesome.rotate.min.css&quot;/&gt;\n",
              "    \n",
              "            &lt;meta name=&quot;viewport&quot; content=&quot;width=device-width,\n",
              "                initial-scale=1.0, maximum-scale=1.0, user-scalable=no&quot; /&gt;\n",
              "            &lt;style&gt;\n",
              "                #map_dadc1d1fdfb12796eb365e2b1333c5bf {\n",
              "                    position: relative;\n",
              "                    width: 100.0%;\n",
              "                    height: 100.0%;\n",
              "                    left: 0.0%;\n",
              "                    top: 0.0%;\n",
              "                }\n",
              "            &lt;/style&gt;\n",
              "        \n",
              "&lt;/head&gt;\n",
              "&lt;body&gt;    \n",
              "    \n",
              "            &lt;div class=&quot;folium-map&quot; id=&quot;map_dadc1d1fdfb12796eb365e2b1333c5bf&quot; &gt;&lt;/div&gt;\n",
              "        \n",
              "&lt;/body&gt;\n",
              "&lt;script&gt;    \n",
              "    \n",
              "            var map_dadc1d1fdfb12796eb365e2b1333c5bf = L.map(\n",
              "                &quot;map_dadc1d1fdfb12796eb365e2b1333c5bf&quot;,\n",
              "                {\n",
              "                    center: [40.828198, -73.93801],\n",
              "                    crs: L.CRS.EPSG3857,\n",
              "                    zoom: 10,\n",
              "                    zoomControl: true,\n",
              "                    preferCanvas: false,\n",
              "                }\n",
              "            );\n",
              "\n",
              "            \n",
              "\n",
              "        \n",
              "    \n",
              "            var tile_layer_282f3e827fd2a0429502cceac2f1d8d2 = L.tileLayer(\n",
              "                &quot;https://{s}.tile.openstreetmap.org/{z}/{x}/{y}.png&quot;,\n",
              "                {&quot;attribution&quot;: &quot;Data by \\u0026copy; \\u003ca href=\\&quot;http://openstreetmap.org\\&quot;\\u003eOpenStreetMap\\u003c/a\\u003e, under \\u003ca href=\\&quot;http://www.openstreetmap.org/copyright\\&quot;\\u003eODbL\\u003c/a\\u003e.&quot;, &quot;detectRetina&quot;: false, &quot;maxNativeZoom&quot;: 18, &quot;maxZoom&quot;: 18, &quot;minZoom&quot;: 0, &quot;noWrap&quot;: false, &quot;opacity&quot;: 1, &quot;subdomains&quot;: &quot;abc&quot;, &quot;tms&quot;: false}\n",
              "            ).addTo(map_dadc1d1fdfb12796eb365e2b1333c5bf);\n",
              "        \n",
              "&lt;/script&gt;\" style=\"position:absolute;width:100%;height:100%;left:0;top:0;border:none !important;\" allowfullscreen webkitallowfullscreen mozallowfullscreen></iframe></div></div>"
            ]
          },
          "metadata": {},
          "execution_count": 14
        }
      ]
    },
    {
      "cell_type": "code",
      "execution_count": null,
      "metadata": {
        "id": "up3x3DsVKly0"
      },
      "outputs": [],
      "source": []
    },
    {
      "cell_type": "markdown",
      "metadata": {
        "id": "lTFGhWzOKly0"
      },
      "source": [
        "### Problem\n",
        "\n",
        "Where do marijuana arrests occur in the city?  Are there any patterns to this?  Use a map to answer the question.\n",
        "\n",
        "**HINT**: `marijuana_df = arrest_df.loc[arrest_df['PD_DESC'].str.contains(\"MARIJUANA\")]`"
      ]
    },
    {
      "cell_type": "code",
      "execution_count": null,
      "metadata": {
        "id": "ey_xXYfhKly0"
      },
      "outputs": [],
      "source": []
    },
    {
      "cell_type": "code",
      "execution_count": null,
      "metadata": {
        "id": "r5_nTTxWKly0"
      },
      "outputs": [],
      "source": []
    },
    {
      "cell_type": "markdown",
      "metadata": {
        "id": "piTqMGjUKly0"
      },
      "source": [
        "### Bonus Problem\n",
        "\n",
        "Make a map of the City's public recycling bins.  Are there any patterns here?  \n",
        "\n",
        "Get the data from here: \n",
        "https://data.cityofnewyork.us/Environment/Public-Recycling-Bins/sxx4-xhzg\n"
      ]
    },
    {
      "cell_type": "code",
      "execution_count": null,
      "metadata": {
        "id": "UKLIzWzKKly0"
      },
      "outputs": [],
      "source": []
    },
    {
      "cell_type": "code",
      "execution_count": null,
      "metadata": {
        "id": "yAB2WRqLKly1"
      },
      "outputs": [],
      "source": []
    },
    {
      "cell_type": "markdown",
      "source": [
        "Explore both the `Heatmap` [docs](https://python-visualization.github.io/folium/plugins.html#folium.plugins.HeatMap) and `HeatMapWithTime` [docs](https://python-visualization.github.io/folium/plugins.html#folium.plugins.HeatMapWithTime).  Use these to create maps for some new york city data such as a specific type of crime through time.  You may want to use the API directly and limit the data to a specific offense or other criteria as a way to get a wider array of time spans."
      ],
      "metadata": {
        "id": "k-huqLE9hT_W"
      }
    },
    {
      "cell_type": "code",
      "source": [],
      "metadata": {
        "id": "16YJLBiNiI_R"
      },
      "execution_count": null,
      "outputs": []
    },
    {
      "cell_type": "code",
      "source": [],
      "metadata": {
        "id": "esMwI0HxiI74"
      },
      "execution_count": null,
      "outputs": []
    },
    {
      "cell_type": "code",
      "source": [],
      "metadata": {
        "id": "dKeolSRLiHp2"
      },
      "execution_count": null,
      "outputs": []
    }
  ],
  "metadata": {
    "kernelspec": {
      "display_name": "Python 3",
      "language": "python",
      "name": "python3"
    },
    "language_info": {
      "codemirror_mode": {
        "name": "ipython",
        "version": 3
      },
      "file_extension": ".py",
      "mimetype": "text/x-python",
      "name": "python",
      "nbconvert_exporter": "python",
      "pygments_lexer": "ipython3",
      "version": "3.8.3"
    },
    "colab": {
      "provenance": [],
      "collapsed_sections": []
    }
  },
  "nbformat": 4,
  "nbformat_minor": 0
}