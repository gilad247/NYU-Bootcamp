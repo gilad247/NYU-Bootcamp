{
 "cells": [
  {
   "cell_type": "markdown",
   "metadata": {},
   "source": [
    "### Model Complexity and Evaluation\n",
    "\n"
   ]
  },
  {
   "cell_type": "code",
   "execution_count": null,
   "metadata": {},
   "outputs": [],
   "source": [
    "import matplotlib.pyplot as plt\n",
    "import numpy as np\n",
    "import pandas as pd\n",
    "from sklearn.linear_model import LinearRegression\n",
    "from sklearn.metrics import mean_squared_error"
   ]
  },
  {
   "cell_type": "markdown",
   "metadata": {},
   "source": [
    "### Polynomial Models\n",
    "\n",
    "Thus far, our regression models have taken the form:\n",
    "\n",
    "$$y = \\beta_0 + \\beta_1x_1 + \\beta_2x_2 + ... + \\beta_ix_i$$\n",
    "\n",
    "where all our inputs to the model were linear.  \n",
    "\n",
    "\n",
    "In this notebook, we consider models of the form:\n",
    "\n",
    "$$y = \\beta_0 + \\beta_1x_1 + \\beta_2x_1^2 + ... + \\beta_ix_1^i$$"
   ]
  },
  {
   "cell_type": "markdown",
   "metadata": {},
   "source": [
    "These are commonly referred to as *Polynomial Regression Models* -- however we are still using Linear Regression because the unknown quantities -- $\\beta$ -- are linear."
   ]
  },
  {
   "cell_type": "code",
   "execution_count": null,
   "metadata": {},
   "outputs": [],
   "source": [
    "#load in the cars data\n",
    "cars = pd.read_csv('data/mtcars.csv')"
   ]
  },
  {
   "cell_type": "code",
   "execution_count": null,
   "metadata": {},
   "outputs": [],
   "source": [
    "cars.head(2)"
   ]
  },
  {
   "cell_type": "code",
   "execution_count": null,
   "metadata": {},
   "outputs": [],
   "source": [
    "#x = mpg and y = hp\n"
   ]
  },
  {
   "cell_type": "code",
   "execution_count": null,
   "metadata": {},
   "outputs": [],
   "source": [
    "#scatter plot of x vs. y\n"
   ]
  },
  {
   "cell_type": "markdown",
   "metadata": {},
   "source": [
    "### Reminder on Least Squares\n",
    "\n",
    "$$f(m, b) = \\sum_{i = 1}^n (y_i - (mx_i + b))^2$$"
   ]
  },
  {
   "cell_type": "code",
   "execution_count": null,
   "metadata": {},
   "outputs": [],
   "source": [
    "#fit model\n",
    "lr = LinearRegression()\n",
    "lr.fit(x, y)\n",
    "preds = lr.predict(x)"
   ]
  },
  {
   "cell_type": "code",
   "execution_count": null,
   "metadata": {},
   "outputs": [],
   "source": [
    "#plot residuals\n",
    "resids = (y - preds)\n",
    "\n",
    "fig, ax = plt.subplots(1, 3, figsize = (20, 3))\n",
    "\n",
    "ax[0].plot(resids, 'o')\n",
    "ax[0].axhline(color = 'black')\n",
    "ax[1].hist(resids)\n",
    "ax[2].scatter(x['mpg'], y)\n",
    "#ax[2].plot(x['mpg'], lr.predict(x))"
   ]
  },
  {
   "cell_type": "code",
   "execution_count": null,
   "metadata": {},
   "outputs": [],
   "source": [
    "#Any assumptions violated?  Why?"
   ]
  },
  {
   "cell_type": "markdown",
   "metadata": {},
   "source": [
    "### Reminder: Quadratics\n",
    "\n",
    "$$f(x) = ax^2 + bx + c$$\n",
    "\n",
    "\n",
    "$$f(a, b, c) = \\sum_{i = 1}^n (y_i - (ax_i^2 + bx_i + c))^2$$"
   ]
  },
  {
   "cell_type": "markdown",
   "metadata": {},
   "source": [
    "In plain language, we add a new feature to represent the quadratic term and fit a linear regressor to these columns, essentially what we've done with multiple regression."
   ]
  },
  {
   "cell_type": "code",
   "execution_count": null,
   "metadata": {},
   "outputs": [],
   "source": [
    "#examine X\n",
    "x.head()"
   ]
  },
  {
   "cell_type": "code",
   "execution_count": null,
   "metadata": {},
   "outputs": [],
   "source": [
    "#add new feature\n"
   ]
  },
  {
   "cell_type": "code",
   "execution_count": null,
   "metadata": {},
   "outputs": [],
   "source": [
    "# check X again\n"
   ]
  },
  {
   "cell_type": "code",
   "execution_count": null,
   "metadata": {},
   "outputs": [],
   "source": [
    "#look at coefficients\n"
   ]
  },
  {
   "cell_type": "code",
   "execution_count": null,
   "metadata": {},
   "outputs": [],
   "source": [
    "# intercept\n"
   ]
  },
  {
   "cell_type": "code",
   "execution_count": null,
   "metadata": {},
   "outputs": [],
   "source": [
    "plt.scatter(x['mpg'], y)\n",
    "plt.scatter(x['mpg'], lr_quad.predict(x))"
   ]
  },
  {
   "cell_type": "code",
   "execution_count": null,
   "metadata": {},
   "outputs": [],
   "source": [
    "# mean squared error?\n"
   ]
  },
  {
   "cell_type": "markdown",
   "metadata": {},
   "source": [
    "**QUESTION**: Which is better -- the first or second degree model?"
   ]
  },
  {
   "cell_type": "markdown",
   "metadata": {},
   "source": [
    "### Problem\n",
    "\n",
    "1. Add a cubic term to the data.  \n",
    "2. Fit a new model to the cubic data.\n",
    "3. Determine the `mean_squared_error` of the linear, quadratic, and cubic models.  How do they compare?\n",
    "4. Would a quartic polynomial (4th degree) be better or worse in terms of `mean_squared_error`?\n"
   ]
  },
  {
   "cell_type": "code",
   "execution_count": null,
   "metadata": {},
   "outputs": [],
   "source": []
  },
  {
   "cell_type": "code",
   "execution_count": null,
   "metadata": {},
   "outputs": [],
   "source": []
  },
  {
   "cell_type": "code",
   "execution_count": null,
   "metadata": {},
   "outputs": [],
   "source": []
  },
  {
   "cell_type": "code",
   "execution_count": null,
   "metadata": {},
   "outputs": [],
   "source": []
  },
  {
   "cell_type": "code",
   "execution_count": null,
   "metadata": {},
   "outputs": [],
   "source": []
  },
  {
   "cell_type": "code",
   "execution_count": null,
   "metadata": {},
   "outputs": [],
   "source": []
  },
  {
   "cell_type": "markdown",
   "metadata": {},
   "source": [
    "### Experiment"
   ]
  },
  {
   "cell_type": "code",
   "execution_count": null,
   "metadata": {},
   "outputs": [],
   "source": [
    "from ipywidgets import interact\n",
    "import ipywidgets as widgets"
   ]
  },
  {
   "cell_type": "code",
   "execution_count": null,
   "metadata": {},
   "outputs": [],
   "source": [
    "x = np.linspace(0, 12, 20)\n",
    "y = 3*x + 15 + 4*np.sin(x) + np.random.randn(len(x))"
   ]
  },
  {
   "cell_type": "code",
   "execution_count": null,
   "metadata": {},
   "outputs": [],
   "source": [
    "# Don't Peek!\n",
    "# x = np.random.choice(x, 50, replace = False)\n",
    "def model_maker(n, newdata = False):\n",
    "    coefs = np.polyfit(x, y, n)\n",
    "    preds = np.polyval(coefs, x)\n",
    "    x_,y_,p_ = zip(*sorted(zip(x, y, preds)))\n",
    "    plt.scatter(x_, y_, label = 'Known Data')\n",
    "    plt.xlim(0, 6)\n",
    "    if newdata:\n",
    "        np.random.seed(42)\n",
    "        x2 = np.random.choice(np.linspace(0, 12, 1000), 35)\n",
    "        y2 = 3*x2 + 15 + 4*np.sin(x2) + np.random.randn(len(x2))\n",
    "        plt.scatter(x2, y2, label = 'New Data')\n",
    "    plt.plot(x_, p_, color = 'red')\n",
    "    plt.title(f'Degree {n}')\n",
    "    plt.legend();"
   ]
  },
  {
   "cell_type": "code",
   "execution_count": null,
   "metadata": {},
   "outputs": [],
   "source": [
    "interact(model_maker, n = widgets.IntSlider(start = 1, min = 1, max = len(y), step = 1));"
   ]
  },
  {
   "cell_type": "code",
   "execution_count": null,
   "metadata": {},
   "outputs": [],
   "source": [
    "#CHOOSE BETWEEN 1, 2, 3, 4"
   ]
  },
  {
   "cell_type": "code",
   "execution_count": null,
   "metadata": {},
   "outputs": [],
   "source": []
  },
  {
   "cell_type": "code",
   "execution_count": null,
   "metadata": {},
   "outputs": [],
   "source": []
  },
  {
   "cell_type": "markdown",
   "metadata": {},
   "source": [
    "`PolynomialFeatures`\n",
    "\n",
    "Scikitlearn has a transformer that will do the work of adding polynomial terms on to our dataset.  For more information see the documentation [here](https://scikit-learn.org/stable/modules/preprocessing.html#polynomial-features)."
   ]
  },
  {
   "cell_type": "code",
   "execution_count": null,
   "metadata": {},
   "outputs": [],
   "source": [
    "from sklearn.preprocessing import PolynomialFeatures"
   ]
  },
  {
   "cell_type": "code",
   "execution_count": null,
   "metadata": {},
   "outputs": [],
   "source": [
    "#create a little dataset (3, 2)\n"
   ]
  },
  {
   "cell_type": "code",
   "execution_count": null,
   "metadata": {},
   "outputs": [],
   "source": [
    "#instantiate and transform\n"
   ]
  },
  {
   "cell_type": "markdown",
   "metadata": {},
   "source": [
    "`interaction_only = True`"
   ]
  },
  {
   "cell_type": "code",
   "execution_count": null,
   "metadata": {},
   "outputs": [],
   "source": [
    "#look at the feature names\n"
   ]
  },
  {
   "cell_type": "code",
   "execution_count": null,
   "metadata": {},
   "outputs": [],
   "source": [
    "#create a dataframe from results\n"
   ]
  },
  {
   "cell_type": "markdown",
   "metadata": {},
   "source": [
    "Now, let's use `PolynomialFeatures` to solve the earlier problem predicting `hp` using `mpg`. "
   ]
  },
  {
   "cell_type": "code",
   "execution_count": 1,
   "metadata": {},
   "outputs": [],
   "source": [
    "#instantiate polynomial features\n"
   ]
  },
  {
   "cell_type": "code",
   "execution_count": 2,
   "metadata": {},
   "outputs": [],
   "source": [
    "#transform X\n"
   ]
  },
  {
   "cell_type": "code",
   "execution_count": 3,
   "metadata": {},
   "outputs": [],
   "source": [
    "#instantiate model\n"
   ]
  },
  {
   "cell_type": "code",
   "execution_count": 4,
   "metadata": {},
   "outputs": [],
   "source": [
    "#fit, predict and score\n"
   ]
  },
  {
   "cell_type": "markdown",
   "metadata": {},
   "source": [
    "#### `train_test_split`\n",
    "\n",
    "\n",
    "\n",
    "To this point, we have evaluated our models using the data they were built with.  If our goal is to use these models for future predictions, it would be better to understand the performance on data the model has *not* seen in the past.  To mimic this notion of unseen data, we create a small holdout set of data to use in evaluation.  \n",
    "\n",
    "- **Train Data**: Data to build our model with.\n",
    "- **Test Data**: Data to evaluate the model with (usually a smaller dataset than train)"
   ]
  },
  {
   "cell_type": "markdown",
   "metadata": {},
   "source": [
    "Scikitlearn has a `train_test_split` function that will create these datasets for us.  Below we load it from the `model_selection` module and explore its functionality. [User Guide](https://scikit-learn.org/stable/modules/cross_validation.html#cross-validation)"
   ]
  },
  {
   "cell_type": "code",
   "execution_count": 5,
   "metadata": {},
   "outputs": [],
   "source": [
    "# import function\n"
   ]
  },
  {
   "cell_type": "code",
   "execution_count": 6,
   "metadata": {},
   "outputs": [],
   "source": [
    "# create a train and test split\n"
   ]
  },
  {
   "cell_type": "code",
   "execution_count": 7,
   "metadata": {},
   "outputs": [],
   "source": [
    "# explore train data\n"
   ]
  },
  {
   "cell_type": "code",
   "execution_count": 8,
   "metadata": {},
   "outputs": [],
   "source": [
    "# explore test data\n"
   ]
  },
  {
   "cell_type": "code",
   "execution_count": 9,
   "metadata": {},
   "outputs": [],
   "source": [
    "# build model with train\n"
   ]
  },
  {
   "cell_type": "code",
   "execution_count": 10,
   "metadata": {},
   "outputs": [],
   "source": [
    "# evaluate train mse\n"
   ]
  },
  {
   "cell_type": "code",
   "execution_count": 11,
   "metadata": {},
   "outputs": [],
   "source": [
    "# evaluate test mse\n"
   ]
  },
  {
   "cell_type": "markdown",
   "metadata": {},
   "source": [
    "#### Using the test data to determine model complexity\n",
    "\n",
    "Now, you can use the test set to measure the performance of models with varied complexity -- choosing the \"best\" based on the scores on the test data."
   ]
  },
  {
   "cell_type": "code",
   "execution_count": null,
   "metadata": {},
   "outputs": [],
   "source": [
    "# create polynomial features for train and test\n"
   ]
  },
  {
   "cell_type": "code",
   "execution_count": 12,
   "metadata": {},
   "outputs": [],
   "source": [
    "# fit the model\n"
   ]
  },
  {
   "cell_type": "code",
   "execution_count": 13,
   "metadata": {},
   "outputs": [],
   "source": [
    "# train MSE\n"
   ]
  },
  {
   "cell_type": "code",
   "execution_count": 14,
   "metadata": {},
   "outputs": [],
   "source": [
    "# test MSE\n"
   ]
  },
  {
   "cell_type": "markdown",
   "metadata": {},
   "source": [
    "#### Another Example\n",
    "\n",
    "Returning to the credit dataset from earlier, we walk through a basic model building exercise.  Along the way we will explore the `OneHotEncoder` and `make_column_transformer` to help with preparing the data for modeling.  Our workflow is as follows:\n",
    "\n",
    "- Convert categorical columns to dummy encoded\n",
    "- Add polynomial features\n",
    "- Build `LinearRegression` model on train data\n",
    "- Evaluat on test data"
   ]
  },
  {
   "cell_type": "code",
   "execution_count": 17,
   "metadata": {},
   "outputs": [],
   "source": [
    "# load data\n"
   ]
  },
  {
   "cell_type": "code",
   "execution_count": null,
   "metadata": {},
   "outputs": [],
   "source": [
    "# train/test split\n"
   ]
  },
  {
   "cell_type": "code",
   "execution_count": 15,
   "metadata": {},
   "outputs": [],
   "source": [
    "# import OneHotEncoder\n"
   ]
  },
  {
   "cell_type": "code",
   "execution_count": 16,
   "metadata": {},
   "outputs": [],
   "source": [
    "# instantiate\n"
   ]
  },
  {
   "cell_type": "code",
   "execution_count": null,
   "metadata": {},
   "outputs": [],
   "source": [
    "# fit and transform train data\n"
   ]
  },
  {
   "cell_type": "code",
   "execution_count": 18,
   "metadata": {},
   "outputs": [],
   "source": [
    "# instead we specify columns with make_column_selector\n"
   ]
  },
  {
   "cell_type": "code",
   "execution_count": null,
   "metadata": {},
   "outputs": [],
   "source": [
    "# transform train and test\n"
   ]
  },
  {
   "cell_type": "code",
   "execution_count": 19,
   "metadata": {},
   "outputs": [],
   "source": [
    "# add polynomial features\n"
   ]
  },
  {
   "cell_type": "code",
   "execution_count": 20,
   "metadata": {},
   "outputs": [],
   "source": [
    "# fit regression model\n"
   ]
  },
  {
   "cell_type": "code",
   "execution_count": 21,
   "metadata": {},
   "outputs": [],
   "source": [
    "# score on train\n"
   ]
  },
  {
   "cell_type": "code",
   "execution_count": 22,
   "metadata": {},
   "outputs": [],
   "source": [
    "# score on test\n"
   ]
  },
  {
   "cell_type": "markdown",
   "metadata": {},
   "source": [
    "### A Larger Experiment"
   ]
  },
  {
   "cell_type": "code",
   "execution_count": null,
   "metadata": {},
   "outputs": [],
   "source": [
    "from sklearn.datasets import make_regression"
   ]
  },
  {
   "cell_type": "code",
   "execution_count": null,
   "metadata": {},
   "outputs": [],
   "source": [
    "#sample data\n",
    "X, y = make_regression(n_features = 4, n_samples = 1000, n_informative = 2)"
   ]
  },
  {
   "cell_type": "code",
   "execution_count": null,
   "metadata": {},
   "outputs": [],
   "source": [
    "data = pd.DataFrame(X, columns = ['x1', 'x2', 'x3', 'x4'])\n",
    "data['y'] = y"
   ]
  },
  {
   "cell_type": "code",
   "execution_count": null,
   "metadata": {},
   "outputs": [],
   "source": [
    "data.head()"
   ]
  },
  {
   "cell_type": "markdown",
   "metadata": {},
   "source": [
    "Now, we want to explore the effect of different complexities on the error of the model.  Your goal is to explore Linear Regression model complexities of degree 1 through 15 on a train and test set of data above.  "
   ]
  },
  {
   "cell_type": "code",
   "execution_count": null,
   "metadata": {},
   "outputs": [],
   "source": [
    "#create train and test data\n"
   ]
  },
  {
   "cell_type": "code",
   "execution_count": null,
   "metadata": {},
   "outputs": [],
   "source": [
    "#empty lists to hold train and test rmse\n"
   ]
  },
  {
   "cell_type": "code",
   "execution_count": null,
   "metadata": {},
   "outputs": [],
   "source": [
    "#loop over 15 complexities\n",
    "\n",
    "##instantiate polynomial transformer\n",
    "\n",
    "##transform\n",
    "\n",
    "##instantiate regressor\n",
    "\n",
    "##fit\n",
    "\n",
    "##append train and test rmse\n",
    "\n",
    "#plot model complexity vs. rmse for both train and test\n"
   ]
  },
  {
   "cell_type": "code",
   "execution_count": null,
   "metadata": {},
   "outputs": [],
   "source": []
  },
  {
   "cell_type": "code",
   "execution_count": null,
   "metadata": {},
   "outputs": [],
   "source": []
  },
  {
   "cell_type": "code",
   "execution_count": null,
   "metadata": {},
   "outputs": [],
   "source": []
  },
  {
   "cell_type": "code",
   "execution_count": null,
   "metadata": {},
   "outputs": [],
   "source": []
  },
  {
   "cell_type": "code",
   "execution_count": null,
   "metadata": {},
   "outputs": [],
   "source": []
  },
  {
   "cell_type": "code",
   "execution_count": null,
   "metadata": {},
   "outputs": [],
   "source": []
  },
  {
   "cell_type": "code",
   "execution_count": null,
   "metadata": {},
   "outputs": [],
   "source": []
  },
  {
   "cell_type": "code",
   "execution_count": null,
   "metadata": {},
   "outputs": [],
   "source": []
  },
  {
   "cell_type": "code",
   "execution_count": null,
   "metadata": {},
   "outputs": [],
   "source": []
  },
  {
   "cell_type": "code",
   "execution_count": null,
   "metadata": {},
   "outputs": [],
   "source": []
  },
  {
   "cell_type": "code",
   "execution_count": null,
   "metadata": {},
   "outputs": [],
   "source": []
  },
  {
   "cell_type": "code",
   "execution_count": null,
   "metadata": {},
   "outputs": [],
   "source": []
  },
  {
   "cell_type": "markdown",
   "metadata": {},
   "source": [
    "### Summary\n",
    "\n",
    "![](bigpic.png)"
   ]
  }
 ],
 "metadata": {
  "kernelspec": {
   "display_name": "Python 3",
   "language": "python",
   "name": "python3"
  },
  "language_info": {
   "codemirror_mode": {
    "name": "ipython",
    "version": 3
   },
   "file_extension": ".py",
   "mimetype": "text/x-python",
   "name": "python",
   "nbconvert_exporter": "python",
   "pygments_lexer": "ipython3",
   "version": "3.8.3"
  },
  "widgets": {
   "application/vnd.jupyter.widget-state+json": {
    "state": {
     "0b3152fce2124ae585b0d553a210001a": {
      "model_module": "@jupyter-widgets/controls",
      "model_module_version": "1.5.0",
      "model_name": "CheckboxModel",
      "state": {
       "description": "newdata",
       "disabled": false,
       "layout": "IPY_MODEL_d46e992470124f4380b838ceea185f03",
       "style": "IPY_MODEL_7d5e603f624d4fbe889c2f2cc29a31c5",
       "value": true
      }
     },
     "2bd198f1f8aa46dea0533c0bbdb578ae": {
      "model_module": "@jupyter-widgets/controls",
      "model_module_version": "1.5.0",
      "model_name": "SliderStyleModel",
      "state": {
       "description_width": ""
      }
     },
     "691200b1ff3f44d5bf3ee3c1058ecebd": {
      "model_module": "@jupyter-widgets/controls",
      "model_module_version": "1.5.0",
      "model_name": "IntSliderModel",
      "state": {
       "description": "n",
       "layout": "IPY_MODEL_d9e62ae94c534c93985ee5fffa159e47",
       "max": 10,
       "min": 1,
       "style": "IPY_MODEL_2bd198f1f8aa46dea0533c0bbdb578ae",
       "value": 8
      }
     },
     "7505ad4aa2ae4c77b797900364907268": {
      "model_module": "@jupyter-widgets/controls",
      "model_module_version": "1.5.0",
      "model_name": "VBoxModel",
      "state": {
       "_dom_classes": [
        "widget-interact"
       ],
       "children": [
        "IPY_MODEL_691200b1ff3f44d5bf3ee3c1058ecebd",
        "IPY_MODEL_0b3152fce2124ae585b0d553a210001a",
        "IPY_MODEL_caab7c951ebe40f6bc4eaf94b9fa24da"
       ],
       "layout": "IPY_MODEL_afa211e19ab1420cb5ed3d0c729d32bb"
      }
     },
     "7d5e603f624d4fbe889c2f2cc29a31c5": {
      "model_module": "@jupyter-widgets/controls",
      "model_module_version": "1.5.0",
      "model_name": "DescriptionStyleModel",
      "state": {
       "description_width": ""
      }
     },
     "96eeacf8594449629b06714beb2a3da3": {
      "model_module": "@jupyter-widgets/base",
      "model_module_version": "1.2.0",
      "model_name": "LayoutModel",
      "state": {}
     },
     "afa211e19ab1420cb5ed3d0c729d32bb": {
      "model_module": "@jupyter-widgets/base",
      "model_module_version": "1.2.0",
      "model_name": "LayoutModel",
      "state": {}
     },
     "caab7c951ebe40f6bc4eaf94b9fa24da": {
      "model_module": "@jupyter-widgets/output",
      "model_module_version": "1.0.0",
      "model_name": "OutputModel",
      "state": {
       "layout": "IPY_MODEL_96eeacf8594449629b06714beb2a3da3",
       "outputs": [
        {
         "data": {
          "image/png": "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\n",
          "text/plain": "<Figure size 432x288 with 1 Axes>"
         },
         "metadata": {
          "needs_background": "light"
         },
         "output_type": "display_data"
        }
       ]
      }
     },
     "d46e992470124f4380b838ceea185f03": {
      "model_module": "@jupyter-widgets/base",
      "model_module_version": "1.2.0",
      "model_name": "LayoutModel",
      "state": {}
     },
     "d9e62ae94c534c93985ee5fffa159e47": {
      "model_module": "@jupyter-widgets/base",
      "model_module_version": "1.2.0",
      "model_name": "LayoutModel",
      "state": {}
     }
    },
    "version_major": 2,
    "version_minor": 0
   }
  }
 },
 "nbformat": 4,
 "nbformat_minor": 4
}
