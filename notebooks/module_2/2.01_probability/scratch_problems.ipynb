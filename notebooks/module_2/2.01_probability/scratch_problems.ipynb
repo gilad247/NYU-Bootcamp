{
 "cells": [
  {
   "cell_type": "markdown",
   "metadata": {},
   "source": [
    "Load the titanic dataset from seaborn.  \n",
    "\n",
    "1. Determine the mean and standard deviation of the age column.  Draw a histogram of this.\n",
    "2. Determine the mean and standard deviation for each sex category in the data.  Is there a difference between the groups?\n",
    "3. What values for ages are within 2 standard deviations of the mean for the female group?\n",
    "4. What is the probability of choosing a female who's age is within two standard deviations of the mean?"
   ]
  },
  {
   "cell_type": "markdown",
   "metadata": {},
   "source": [
    "5. In the 2013 Jerry’s Artarama art supplies catalog, there are 560 pages. Eight of the pages feature signature artists. Suppose we randomly sample 100 pages. Let X = the number of pages that feature signature artists.\n",
    "- What values does x take on?\n",
    "- What is the probability distribution? Find the following probabilities:\n",
    "  - the probability that two pages feature signature artists\n",
    "  - the probability that at most six pages feature signature artists\n",
    "  - the probability that more than three pages feature signature artists.\n",
    "- Using the formulas, calculate the (i) mean and (ii) standard deviation."
   ]
  },
  {
   "cell_type": "code",
   "execution_count": null,
   "metadata": {},
   "outputs": [],
   "source": []
  }
 ],
 "metadata": {
  "kernelspec": {
   "display_name": "Python 3",
   "language": "python",
   "name": "python3"
  },
  "language_info": {
   "codemirror_mode": {
    "name": "ipython",
    "version": 3
   },
   "file_extension": ".py",
   "mimetype": "text/x-python",
   "name": "python",
   "nbconvert_exporter": "python",
   "pygments_lexer": "ipython3",
   "version": "3.8.3"
  }
 },
 "nbformat": 4,
 "nbformat_minor": 4
}
