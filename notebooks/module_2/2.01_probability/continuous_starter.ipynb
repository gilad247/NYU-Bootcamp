{
 "cells": [
  {
   "cell_type": "markdown",
   "metadata": {},
   "source": [
    "### Continuous Probability Distributions\n",
    "\n",
    "**Objectives**:\n",
    "\n",
    "- Use uniform and normal distributions\n",
    "- Use scaling to express data in standard form\n",
    "- Use key properties of normal distribution\n",
    "- Experiment with sample means and their distribution"
   ]
  },
  {
   "cell_type": "code",
   "execution_count": null,
   "metadata": {},
   "outputs": [],
   "source": [
    "import matplotlib.pyplot as plt\n",
    "import pandas as pd\n",
    "import numpy as np\n",
    "import scipy.stats as stats"
   ]
  },
  {
   "cell_type": "markdown",
   "metadata": {},
   "source": [
    "### Continuous Distributions\n",
    "\n",
    "Now, rather than discussing discrete distributions the topic shifts to distributions of *continuous random variables*.  This simply means the objects we are working with are on continuous scales -- weight, height, speed, etc."
   ]
  },
  {
   "cell_type": "markdown",
   "metadata": {},
   "source": [
    "### Uniform Distribution\n",
    "\n",
    "*The distribution describes an experiment where there is an arbitrary outcome that lies between certain bounds* -- [Wikipedia](https://en.wikipedia.org/wiki/Continuous_uniform_distribution)\n",
    "\n",
    "$$\\text{PDF} = \\begin{cases} \\frac{1}{b-a} & x \\in [a, b] \\\\ 0 & \\text{otherwise}\\end{cases}$$"
   ]
  },
  {
   "cell_type": "code",
   "execution_count": null,
   "metadata": {},
   "outputs": [],
   "source": [
    "#define the uniform distribution\n",
    "uniform_dist = stats.uniform()"
   ]
  },
  {
   "cell_type": "code",
   "execution_count": null,
   "metadata": {},
   "outputs": [],
   "source": [
    "#define a domain of values\n",
    "x = np.linspace(-1, 2, 1000)"
   ]
  },
  {
   "cell_type": "code",
   "execution_count": null,
   "metadata": {},
   "outputs": [],
   "source": [
    "#look at a plot\n",
    "plt.plot(x, uniform_dist.pdf(x))"
   ]
  },
  {
   "cell_type": "code",
   "execution_count": null,
   "metadata": {},
   "outputs": [],
   "source": [
    "#probability of .5?\n",
    "uniform_dist.pdf(0.5)"
   ]
  },
  {
   "cell_type": "code",
   "execution_count": null,
   "metadata": {},
   "outputs": [],
   "source": [
    "#probabiity of .3 or fewer?\n",
    "uniform_dist.cdf(.3)"
   ]
  },
  {
   "cell_type": "code",
   "execution_count": null,
   "metadata": {},
   "outputs": [],
   "source": [
    "#side by side plot of pdf and cdf\n",
    "fig, ax = plt.subplots(1, 2, figsize = (16, 6))\n",
    "ax[0].plot(x, uniform_dist.pdf(x))\n",
    "ax[1].plot(x, uniform_dist.cdf(x))"
   ]
  },
  {
   "cell_type": "markdown",
   "metadata": {},
   "source": [
    "### The Normal Distribution\n",
    "\n",
    "\n",
    "*Normal distributions are important in statistics and are often used in the natural and social sciences to represent real-valued random variables whose distributions are not known.* -- [Wikipedia](https://en.wikipedia.org/wiki/Normal_distribution)\n",
    "\n",
    "\n",
    "$${\\displaystyle f(x)={\\frac {1}{\\sigma {\\sqrt {2\\pi }}}}e^{-{\\frac {1}{2}}\\left({\\frac {x-\\mu }{\\sigma }}\\right)^{2}}}$$"
   ]
  },
  {
   "cell_type": "code",
   "execution_count": null,
   "metadata": {},
   "outputs": [],
   "source": [
    "#mean of 100 sd of 3\n",
    "norm_1 = stats.norm(loc = 100, scale = 3)"
   ]
  },
  {
   "cell_type": "code",
   "execution_count": null,
   "metadata": {},
   "outputs": [],
   "source": [
    "#plot pdf\n",
    "x = np.linspace(88, 112, 1000)\n",
    "plt.plot(x, norm_1.pdf(x))"
   ]
  },
  {
   "cell_type": "code",
   "execution_count": null,
   "metadata": {},
   "outputs": [],
   "source": [
    "#how much between 97 and 103?\n",
    "norm_1.cdf(103) - norm_1.cdf(97)"
   ]
  },
  {
   "cell_type": "code",
   "execution_count": null,
   "metadata": {},
   "outputs": [],
   "source": [
    "#how much data between 94 and 106?\n",
    "norm_1.cdf(106) - norm_1.cdf(94)"
   ]
  },
  {
   "cell_type": "code",
   "execution_count": null,
   "metadata": {},
   "outputs": [],
   "source": [
    "#between 91 and 109?\n",
    "norm_1.cdf(109) - norm_1.cdf(91)"
   ]
  },
  {
   "cell_type": "markdown",
   "metadata": {},
   "source": [
    "**GENERAL RULE**: 68 - 95 - 99 rule.\n",
    "\n",
    "Within 1, 2, and 3 standard deviations from the mean we have 68%, 95%, and 99% of our data with any normal distribution."
   ]
  },
  {
   "cell_type": "markdown",
   "metadata": {},
   "source": [
    "### Parameters of Normal"
   ]
  },
  {
   "cell_type": "code",
   "execution_count": null,
   "metadata": {},
   "outputs": [],
   "source": [
    "import ipywidgets as widgets\n",
    "from ipywidgets import interact"
   ]
  },
  {
   "cell_type": "code",
   "execution_count": null,
   "metadata": {},
   "outputs": [],
   "source": [
    "#function that takes in mean and standard deviation, returns plot of pdf\n",
    "def plot_pdt(mean_num, std_num):\n",
    "    norm_1 = stats.norm(loc = mean_num, scale = std_num)\n",
    "    x = np.linspace(mean_num - std_num * 4, mean_num + std_num * 4, 1000)\n",
    "    plt.plot(x, norm_1.pdf(x))\n",
    "    plt.xlim(80, 120)"
   ]
  },
  {
   "cell_type": "code",
   "execution_count": null,
   "metadata": {},
   "outputs": [],
   "source": [
    "#plot pdf\n",
    "plot_pdt(100, 3)"
   ]
  },
  {
   "cell_type": "code",
   "execution_count": null,
   "metadata": {},
   "outputs": [],
   "source": [
    "#interact with it\n",
    "interact(plot_pdt, mean_num = widgets.FloatSlider(min = 50, max = 150, step = 1, description = 'Mean'),\n",
    "                    std_num = widgets.FloatSlider(min = 0.1, max = 20, step = 0.1, description = 'σ'))"
   ]
  },
  {
   "cell_type": "markdown",
   "metadata": {},
   "source": [
    "### Standardization\n",
    "\n",
    "Suppose we have two distributions on different domains from which we would like to compare scores.  \n",
    "- An English Class has test scores normally distributed with mean 95 and standard deviation 5.\n",
    "\n",
    "- A Mathematics Class has test scores normally distributed with mean 80 and standard deviation 7."
   ]
  },
  {
   "cell_type": "code",
   "execution_count": null,
   "metadata": {},
   "outputs": [],
   "source": [
    "#math class\n",
    "math_class = stats.norm(loc = 80, scale = 7)"
   ]
  },
  {
   "cell_type": "code",
   "execution_count": null,
   "metadata": {},
   "outputs": [],
   "source": [
    "#histogram\n",
    "plt.hist(math_class.rvs(100))"
   ]
  },
  {
   "cell_type": "code",
   "execution_count": null,
   "metadata": {},
   "outputs": [],
   "source": [
    "#english scores\n",
    "english_class = stats.norm(loc = 95, scale = 5)"
   ]
  },
  {
   "cell_type": "code",
   "execution_count": null,
   "metadata": {},
   "outputs": [],
   "source": [
    "#make a dataframe\n",
    "tests_df = pd.DataFrame({'math': math_class.rvs(1000), 'english': english_class.rvs(1000)})\n",
    "tests_df.head()"
   ]
  },
  {
   "cell_type": "code",
   "execution_count": null,
   "metadata": {},
   "outputs": [],
   "source": [
    "#plot the histograms together\n",
    "plt.hist(tests_df['math'])\n",
    "plt.hist(tests_df['english'])"
   ]
  },
  {
   "cell_type": "code",
   "execution_count": null,
   "metadata": {},
   "outputs": [],
   "source": [
    "#problem: Student A -- 82 in math How many std's away from the mean is 82???\n",
    "#.        Student B -- 97 in English\n",
    "#Who did better?\n"
   ]
  },
  {
   "cell_type": "code",
   "execution_count": null,
   "metadata": {},
   "outputs": [],
   "source": []
  },
  {
   "cell_type": "markdown",
   "metadata": {},
   "source": [
    "**PROBLEMS**\n",
    "\n",
    "1. The final exam scores in a statistics class were normally distributed with a mean of 63 and a standard deviation of five.\n",
    " - Find the probability that a randomly selected student scored more than 65 on the exam.\n",
    " - Find the probability that a randomly selected student scored less than 85.\n",
    " \n",
    "2. The National Assessment of Educational Progress is a test that examines student performance in most states.  The NAEP \n",
    "reading scores assume a normal distribution $N(288, 38)$.  What range of scores encompasses 95% of the student data?\n",
    "\n",
    "3. SAT and ACT examinations.  The SAT ranges from 600 to 2400; scores are normally distributed with mean = 1498 and standard deviation 316. The ACT ranges from 1 to 36 with mean 21.5 and standard deviation 5.4.  \n",
    "\n",
    "- Two students received the following scores, who did better?\n",
    "  - SAT: 1500\n",
    "  - ACT: 23\n",
    "- What is the equivalent score on the ACT to and SAT score of 2090?\n",
    "  \n"
   ]
  },
  {
   "cell_type": "code",
   "execution_count": null,
   "metadata": {},
   "outputs": [],
   "source": []
  },
  {
   "cell_type": "code",
   "execution_count": null,
   "metadata": {},
   "outputs": [],
   "source": []
  },
  {
   "cell_type": "code",
   "execution_count": null,
   "metadata": {},
   "outputs": [],
   "source": []
  },
  {
   "cell_type": "code",
   "execution_count": null,
   "metadata": {},
   "outputs": [],
   "source": []
  },
  {
   "cell_type": "code",
   "execution_count": null,
   "metadata": {},
   "outputs": [],
   "source": []
  },
  {
   "cell_type": "code",
   "execution_count": null,
   "metadata": {},
   "outputs": [],
   "source": []
  },
  {
   "cell_type": "code",
   "execution_count": null,
   "metadata": {},
   "outputs": [],
   "source": []
  },
  {
   "cell_type": "code",
   "execution_count": null,
   "metadata": {},
   "outputs": [],
   "source": []
  }
 ],
 "metadata": {
  "kernelspec": {
   "display_name": "Python 3",
   "language": "python",
   "name": "python3"
  },
  "language_info": {
   "codemirror_mode": {
    "name": "ipython",
    "version": 3
   },
   "file_extension": ".py",
   "mimetype": "text/x-python",
   "name": "python",
   "nbconvert_exporter": "python",
   "pygments_lexer": "ipython3",
   "version": "3.8.3"
  }
 },
 "nbformat": 4,
 "nbformat_minor": 4
}
