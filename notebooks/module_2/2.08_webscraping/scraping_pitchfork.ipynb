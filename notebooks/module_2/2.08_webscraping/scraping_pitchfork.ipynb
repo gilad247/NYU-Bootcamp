{
 "cells": [
  {
   "cell_type": "markdown",
   "metadata": {},
   "source": [
    "### Webscraping\n",
    "\n",
    "**OBJECTIVES**\n",
    "\n",
    "- Use `BeautifulSoup` to parse HTML \n",
    "- Scape websites and structure their data in `DataFrame`\n",
    "- Build models using text as input\n",
    "- Use `CountVectorizer` to create numeric representation of text\n",
    "- Use `selenium` library to interact with web pages"
   ]
  },
  {
   "cell_type": "code",
   "execution_count": 1,
   "metadata": {},
   "outputs": [],
   "source": [
    "import requests\n",
    "from bs4 import BeautifulSoup\n",
    "import matplotlib.pyplot as plt\n",
    "import pandas as pd\n",
    "import numpy as np\n",
    "\n",
    "from sklearn.feature_extraction.text import CountVectorizer\n",
    "from sklearn.pipeline import Pipeline\n",
    "from sklearn.linear_model import LogisticRegression"
   ]
  },
  {
   "cell_type": "markdown",
   "metadata": {},
   "source": [
    "### HTML\n",
    "\n",
    "Below is some basic HTML.  It is always housed in tags, and we will use these tags to locate elements of a webpage that we want to extract."
   ]
  },
  {
   "cell_type": "code",
   "execution_count": 2,
   "metadata": {},
   "outputs": [],
   "source": [
    "some_html = \"\"\"\n",
    "<h1>Hello</h1>\n",
    "<p>This is a paragraph</p>\n",
    "<p class = \"second\">This is another paragraph</p>\n",
    "<div>\n",
    "<a href = 'www.google.com'><p>Your Friend</p></a>\n",
    "\"\"\""
   ]
  },
  {
   "cell_type": "markdown",
   "metadata": {},
   "source": [
    "#### `BeautifulSoup`\n",
    "\n",
    "To located elements in HTML, we use the `BeautifulSoup` library.  "
   ]
  },
  {
   "cell_type": "code",
   "execution_count": 5,
   "metadata": {},
   "outputs": [
    {
     "data": {
      "text/plain": [
       "<html><body><h1>Hello</h1>\n",
       "<p>This is a paragraph</p>\n",
       "<p class=\"second\">This is another paragraph</p>\n",
       "<div>\n",
       "<a href=\"www.google.com\"><p>Your Friend</p></a>\n",
       "</div></body></html>"
      ]
     },
     "execution_count": 5,
     "metadata": {},
     "output_type": "execute_result"
    }
   ],
   "source": [
    "#make the soup\n",
    "soup = BeautifulSoup(some_html)\n",
    "type(soup)\n",
    "soup"
   ]
  },
  {
   "cell_type": "code",
   "execution_count": 6,
   "metadata": {},
   "outputs": [
    {
     "data": {
      "text/plain": [
       "<h1>Hello</h1>"
      ]
     },
     "execution_count": 6,
     "metadata": {},
     "output_type": "execute_result"
    }
   ],
   "source": [
    "#find first h1 tag\n",
    "soup.find('h1')"
   ]
  },
  {
   "cell_type": "code",
   "execution_count": 7,
   "metadata": {},
   "outputs": [
    {
     "data": {
      "text/plain": [
       "<p>This is a paragraph</p>"
      ]
     },
     "execution_count": 7,
     "metadata": {},
     "output_type": "execute_result"
    }
   ],
   "source": [
    "# find first p tag\n",
    "soup.find('p')"
   ]
  },
  {
   "cell_type": "code",
   "execution_count": 8,
   "metadata": {},
   "outputs": [
    {
     "data": {
      "text/plain": [
       "[<p>This is a paragraph</p>,\n",
       " <p class=\"second\">This is another paragraph</p>,\n",
       " <p>Your Friend</p>]"
      ]
     },
     "execution_count": 8,
     "metadata": {},
     "output_type": "execute_result"
    }
   ],
   "source": [
    "# find all paragraphs\n",
    "soup.find_all('p')"
   ]
  },
  {
   "cell_type": "code",
   "execution_count": 11,
   "metadata": {},
   "outputs": [
    {
     "name": "stdout",
     "output_type": "stream",
     "text": [
      "This is a paragraph\n",
      "This is another paragraph\n",
      "Your Friend\n"
     ]
    }
   ],
   "source": [
    "#extract text from p tags\n",
    "paragraphs = soup.find_all('p')\n",
    "for paragraph in paragraphs:\n",
    "    print(paragraph.text)"
   ]
  },
  {
   "cell_type": "code",
   "execution_count": 12,
   "metadata": {},
   "outputs": [
    {
     "data": {
      "text/plain": [
       "<p class=\"second\">This is another paragraph</p>"
      ]
     },
     "execution_count": 12,
     "metadata": {},
     "output_type": "execute_result"
    }
   ],
   "source": [
    "#extract based on css \n",
    "soup.find('p', {'class': 'second'})"
   ]
  },
  {
   "cell_type": "code",
   "execution_count": null,
   "metadata": {},
   "outputs": [],
   "source": []
  },
  {
   "cell_type": "code",
   "execution_count": null,
   "metadata": {},
   "outputs": [],
   "source": []
  },
  {
   "cell_type": "markdown",
   "metadata": {},
   "source": [
    "### Getting HTML\n",
    "\n",
    "Usually, we want to use a webpage to extract information from.  To get the HTML we use `requests` and turn the text of the response into `BeautifulSoup` objects."
   ]
  },
  {
   "cell_type": "code",
   "execution_count": 13,
   "metadata": {},
   "outputs": [],
   "source": [
    "url = 'https://pitchfork.com/reviews/albums/'"
   ]
  },
  {
   "cell_type": "code",
   "execution_count": 15,
   "metadata": {},
   "outputs": [
    {
     "data": {
      "text/plain": [
       "<Response [200]>"
      ]
     },
     "execution_count": 15,
     "metadata": {},
     "output_type": "execute_result"
    }
   ],
   "source": [
    "#make a request\n",
    "r = requests.get(url)\n",
    "r"
   ]
  },
  {
   "cell_type": "code",
   "execution_count": 16,
   "metadata": {},
   "outputs": [],
   "source": [
    "#turn it to soup\n",
    "soup = BeautifulSoup(r.text, 'html.parser')"
   ]
  },
  {
   "cell_type": "code",
   "execution_count": 18,
   "metadata": {},
   "outputs": [],
   "source": [
    "# soup"
   ]
  },
  {
   "cell_type": "markdown",
   "metadata": {},
   "source": [
    "#### Finding elements\n",
    "\n",
    "Typically, this is a bit of a dance with the inspect tool in your browswer.  Let's try to find each individual review as a start."
   ]
  },
  {
   "cell_type": "code",
   "execution_count": 19,
   "metadata": {},
   "outputs": [
    {
     "data": {
      "text/plain": [
       "<div class=\"review\"><a class=\"review__link\" href=\"/reviews/albums/phoenix-alpha-zulu/\"><div class=\"review__artwork artwork\"><div class=\"\"><img alt=\"Phoenix: Alpha Zulu\" src=\"https://media.pitchfork.com/photos/6318afadafa92f85cc3e46c6/1:1/w_160/phoenix-alpha-zulu.jpg\"/></div></div><div class=\"review__title\"><ul class=\"artist-list review__title-artist\"><li>Phoenix</li></ul><h2 class=\"review__title-album\"><em>Alpha Zulu</em></h2></div></a><div class=\"review__meta\"><ul class=\"genre-list genre-list--inline review__genre-list\"><li class=\"genre-list__item\"><a class=\"genre-list__link\" href=\"/reviews/albums/?genre=rock\">Rock</a></li></ul><ul class=\"authors\"><li><a class=\"linked display-name display-name--linked\" href=\"/staff/brady-brickner-wood/\"><span class=\"by\">by: </span>Brady Brickner-Wood</a></li></ul><time class=\"pub-date\" datetime=\"2022-11-10T05:03:00\" title=\"Thu, 10 Nov 2022 05:03:00 GMT\">10 hrs ago</time></div></div>"
      ]
     },
     "execution_count": 19,
     "metadata": {},
     "output_type": "execute_result"
    }
   ],
   "source": [
    "# first review\n",
    "soup.find('div', {'class': 'review'})"
   ]
  },
  {
   "cell_type": "code",
   "execution_count": 21,
   "metadata": {},
   "outputs": [
    {
     "data": {
      "text/plain": [
       "{'src': 'https://media.pitchfork.com/photos/6318afadafa92f85cc3e46c6/1:1/w_160/phoenix-alpha-zulu.jpg',\n",
       " 'alt': 'Phoenix: Alpha Zulu'}"
      ]
     },
     "execution_count": 21,
     "metadata": {},
     "output_type": "execute_result"
    }
   ],
   "source": [
    "# first image\n",
    "soup.find('img').attrs"
   ]
  },
  {
   "cell_type": "code",
   "execution_count": 22,
   "metadata": {},
   "outputs": [
    {
     "data": {
      "text/plain": [
       "'https://media.pitchfork.com/photos/6318afadafa92f85cc3e46c6/1:1/w_160/phoenix-alpha-zulu.jpg'"
      ]
     },
     "execution_count": 22,
     "metadata": {},
     "output_type": "execute_result"
    }
   ],
   "source": [
    "# extract url\n",
    "soup.find('img').attrs['src']"
   ]
  },
  {
   "cell_type": "code",
   "execution_count": 23,
   "metadata": {},
   "outputs": [],
   "source": [
    "from IPython.display import Image"
   ]
  },
  {
   "cell_type": "code",
   "execution_count": 24,
   "metadata": {},
   "outputs": [
    {
     "data": {
      "text/html": [
       "<img src=\"https://media.pitchfork.com/photos/6318afadafa92f85cc3e46c6/1:1/w_160/phoenix-alpha-zulu.jpg\"/>"
      ],
      "text/plain": [
       "<IPython.core.display.Image object>"
      ]
     },
     "execution_count": 24,
     "metadata": {},
     "output_type": "execute_result"
    }
   ],
   "source": [
    "# visualize album cover\n",
    "Image(url = soup.find('img').attrs['src'])"
   ]
  },
  {
   "cell_type": "markdown",
   "metadata": {},
   "source": [
    "#### Extracting data from reviews\n",
    "\n",
    "- Album\n",
    "- Artist\n",
    "- Genre\n",
    "- Reviewer\n",
    "- When\n",
    "- Cover Art\n",
    "- Full review url"
   ]
  },
  {
   "cell_type": "code",
   "execution_count": 45,
   "metadata": {},
   "outputs": [
    {
     "data": {
      "text/plain": [
       "'https://media.pitchfork.com/photos/6369229dfe4a5479c798061b/1:1/w_160/Duke%20Deuce%20-%20Memphis%20Massacre%20III.jpeg'"
      ]
     },
     "execution_count": 45,
     "metadata": {},
     "output_type": "execute_result"
    }
   ],
   "source": [
    "reviews = soup.find_all('div', {'class': 'review'})\n",
    "reviews[-1].find('a', {'class': 'display-name'}).text #reviewer\n",
    "reviews[-1].find('time').attrs['datetime'] #when\n",
    "reviews[-1].find('a', {'class': 'review__link'}).attrs['href'] #full review link\n",
    "reviews[-1].find('img').attrs['src'] #image art"
   ]
  },
  {
   "cell_type": "code",
   "execution_count": 48,
   "metadata": {},
   "outputs": [],
   "source": [
    "#lists to hold our data\n",
    "album_names = []\n",
    "artists = []\n",
    "genres = []\n",
    "reviewers = []\n",
    "whens = []\n",
    "links = []\n",
    "covers = []\n",
    "for review in reviews:\n",
    "    artists.append(review.find('li').text) # get the artist\n",
    "    album_names.append(review.find('em').text) # album name\n",
    "    genres.append(review.find('a', {'class': 'genre-list__link'}).text) # genre\n",
    "    reviewers.append(review.find('a', {'class': 'display-name'}).text) # reviewer\n",
    "    whens.append(review.find('time').attrs['datetime'] ) # when\n",
    "    links.append('https://pitchfork.com' + review.find('a', {'class': 'review__link'}).attrs['href']) # link to full review\n",
    "    covers.append(review.find('img').attrs['src']) # album cover image"
   ]
  },
  {
   "cell_type": "code",
   "execution_count": 49,
   "metadata": {},
   "outputs": [
    {
     "data": {
      "text/plain": [
       "['https://pitchfork.com/reviews/albums/phoenix-alpha-zulu/',\n",
       " 'https://pitchfork.com/reviews/albums/bandmanrill-club-godfather/',\n",
       " 'https://pitchfork.com/reviews/albums/bluebucksclan-clan-way-3/',\n",
       " 'https://pitchfork.com/reviews/albums/aoife-nessa-frances-protector/',\n",
       " 'https://pitchfork.com/reviews/albums/dawn-richard-spencer-zahn-pigments/',\n",
       " 'https://pitchfork.com/reviews/albums/tenci-a-swollen-river-a-well-overflowing/',\n",
       " 'https://pitchfork.com/reviews/albums/knifeplay-animal-drowning/',\n",
       " 'https://pitchfork.com/reviews/albums/sobs-air-guitar/',\n",
       " 'https://pitchfork.com/reviews/albums/drake-21-savage-her-loss/',\n",
       " 'https://pitchfork.com/reviews/albums/hawa-hadja-bangoura/',\n",
       " 'https://pitchfork.com/reviews/albums/okay-kaya-sap/',\n",
       " 'https://pitchfork.com/reviews/albums/duke-deuce-memphis-massacre-iii/']"
      ]
     },
     "execution_count": 49,
     "metadata": {},
     "output_type": "execute_result"
    }
   ],
   "source": [
    "links"
   ]
  },
  {
   "cell_type": "markdown",
   "metadata": {},
   "source": [
    "#### Using the links to extract the data"
   ]
  },
  {
   "cell_type": "code",
   "execution_count": 50,
   "metadata": {},
   "outputs": [],
   "source": [
    "full_review_urls = links[0]"
   ]
  },
  {
   "cell_type": "code",
   "execution_count": 58,
   "metadata": {},
   "outputs": [],
   "source": [
    "review_texts = []\n",
    "scores = []\n",
    "for link in links:\n",
    "    r = requests.get(link)\n",
    "    review_soup = BeautifulSoup(r.text, 'html.parser') # follow link to full review\n",
    "    review_texts.append(review_soup.find('div', {'class': 'body__inner-container'}).text) #extract full review text\n",
    "    scores.append(review_soup.find('div', {'class': 'ScoreCircle-cIILhI'}).text) #extract the score"
   ]
  },
  {
   "cell_type": "code",
   "execution_count": 59,
   "metadata": {},
   "outputs": [
    {
     "data": {
      "text/plain": [
       "['7.1',\n",
       " '7.3',\n",
       " '7.3',\n",
       " '7.5',\n",
       " '8.3',\n",
       " '7.5',\n",
       " '7.3',\n",
       " '7.5',\n",
       " '6.4',\n",
       " '7.4',\n",
       " '7.5',\n",
       " '7.7']"
      ]
     },
     "execution_count": 59,
     "metadata": {},
     "output_type": "execute_result"
    }
   ],
   "source": [
    "scores"
   ]
  },
  {
   "cell_type": "code",
   "execution_count": 77,
   "metadata": {},
   "outputs": [],
   "source": [
    "album_names = []\n",
    "artists = []\n",
    "genres = []\n",
    "reviewers = []\n",
    "whens = []\n",
    "links = []\n",
    "covers = []\n",
    "review_texts = []\n",
    "scores = []\n",
    "for i in range(1, 6):\n",
    "    url = f'https://pitchfork.com/reviews/albums/?page={i}'\n",
    "    r = requests.get(url)\n",
    "    soup = BeautifulSoup(r.text, 'html.parser')\n",
    "    reviews = soup.find_all('div', {'class': 'review'})\n",
    "\n",
    "    for review in reviews:\n",
    "        try:\n",
    "            artists.append(review.find('li').text)\n",
    "        except:\n",
    "            artists.append('unknown')\n",
    "        try:\n",
    "            album_names.append(review.find('em').text)\n",
    "        except:\n",
    "            album_names.append('unknown')\n",
    "        try:\n",
    "            genres.append(review.find('a', {'class': 'genre-list__link'}).text)\n",
    "        except:\n",
    "            genres.append('unknown')\n",
    "        try:\n",
    "            reviewers.append(review.find('a', {'class': 'display-name'}).text)\n",
    "        except:\n",
    "            reviewers.append('unknown')\n",
    "        whens.append(review.find('time').attrs['datetime'] )\n",
    "        links.append('https://pitchfork.com' + review.find('a', {'class': 'review__link'}).attrs['href'])\n",
    "        covers.append(review.find('img').attrs['src'])"
   ]
  },
  {
   "cell_type": "code",
   "execution_count": 109,
   "metadata": {},
   "outputs": [],
   "source": [
    "### THIS CODE WILL LOOP OVER THE LINKS AND EXTRACT TEXT AND SCORE FROM EACH\n",
    "# for link in links:\n",
    "#     r = requests.get(link)\n",
    "#     review_soup = BeautifulSoup(r.text, 'html.parser')\n",
    "#     try:\n",
    "#         review_texts.append(review_soup.find('div', {'class': 'body__inner-container'}).text)\n",
    "#     except:\n",
    "#         review_texts.append('unknown')\n",
    "#     try:\n",
    "#         scores.append(review_soup.find('div', {'class': 'ScoreCircle-cIILhI'}).text)\n",
    "#     except:\n",
    "#         scores.append(np.nan)\n",
    "#     print(link)"
   ]
  },
  {
   "cell_type": "code",
   "execution_count": 103,
   "metadata": {},
   "outputs": [
    {
     "data": {
      "text/html": [
       "<div>\n",
       "<style scoped>\n",
       "    .dataframe tbody tr th:only-of-type {\n",
       "        vertical-align: middle;\n",
       "    }\n",
       "\n",
       "    .dataframe tbody tr th {\n",
       "        vertical-align: top;\n",
       "    }\n",
       "\n",
       "    .dataframe thead th {\n",
       "        text-align: right;\n",
       "    }\n",
       "</style>\n",
       "<table border=\"1\" class=\"dataframe\">\n",
       "  <thead>\n",
       "    <tr style=\"text-align: right;\">\n",
       "      <th></th>\n",
       "      <th>review</th>\n",
       "      <th>scores</th>\n",
       "    </tr>\n",
       "  </thead>\n",
       "  <tbody>\n",
       "    <tr>\n",
       "      <th>0</th>\n",
       "      <td>How does a band as definitively springy as Pho...</td>\n",
       "      <td>7.1</td>\n",
       "    </tr>\n",
       "    <tr>\n",
       "      <th>1</th>\n",
       "      <td>Any song backed by the iconic triple kick drum...</td>\n",
       "      <td>7.3</td>\n",
       "    </tr>\n",
       "    <tr>\n",
       "      <th>2</th>\n",
       "      <td>For BlueBucksClan, popping bottles with models...</td>\n",
       "      <td>7.3</td>\n",
       "    </tr>\n",
       "    <tr>\n",
       "      <th>3</th>\n",
       "      <td>Throughout “Day Out of Time,” the closing song...</td>\n",
       "      <td>7.5</td>\n",
       "    </tr>\n",
       "    <tr>\n",
       "      <th>4</th>\n",
       "      <td>Dawn Richard’s music feels as if it’s emanatin...</td>\n",
       "      <td>8.3</td>\n",
       "    </tr>\n",
       "  </tbody>\n",
       "</table>\n",
       "</div>"
      ],
      "text/plain": [
       "                                              review scores\n",
       "0  How does a band as definitively springy as Pho...    7.1\n",
       "1  Any song backed by the iconic triple kick drum...    7.3\n",
       "2  For BlueBucksClan, popping bottles with models...    7.3\n",
       "3  Throughout “Day Out of Time,” the closing song...    7.5\n",
       "4  Dawn Richard’s music feels as if it’s emanatin...    8.3"
      ]
     },
     "execution_count": 103,
     "metadata": {},
     "output_type": "execute_result"
    }
   ],
   "source": [
    "review_df = pd.DataFrame({'review': review_texts, 'scores': scores})\n",
    "review_df.head()"
   ]
  },
  {
   "cell_type": "code",
   "execution_count": 104,
   "metadata": {},
   "outputs": [
    {
     "data": {
      "text/plain": [
       "(5727, 2)"
      ]
     },
     "execution_count": 104,
     "metadata": {},
     "output_type": "execute_result"
    }
   ],
   "source": [
    "review_df.shape"
   ]
  },
  {
   "cell_type": "code",
   "execution_count": 105,
   "metadata": {},
   "outputs": [],
   "source": [
    "review_df['artist'] = artists[:len(review_df)]"
   ]
  },
  {
   "cell_type": "code",
   "execution_count": 106,
   "metadata": {},
   "outputs": [],
   "source": [
    "review_df['album'] = album_names[:len(review_df)]\n",
    "review_df['genre'] = genres[:len(review_df)]\n",
    "review_df['date'] = whens[:len(review_df)]"
   ]
  },
  {
   "cell_type": "code",
   "execution_count": 107,
   "metadata": {},
   "outputs": [],
   "source": [
    "review_df.to_csv('reviews.csv', index=False)"
   ]
  },
  {
   "cell_type": "code",
   "execution_count": 108,
   "metadata": {},
   "outputs": [
    {
     "data": {
      "text/html": [
       "<div>\n",
       "<style scoped>\n",
       "    .dataframe tbody tr th:only-of-type {\n",
       "        vertical-align: middle;\n",
       "    }\n",
       "\n",
       "    .dataframe tbody tr th {\n",
       "        vertical-align: top;\n",
       "    }\n",
       "\n",
       "    .dataframe thead th {\n",
       "        text-align: right;\n",
       "    }\n",
       "</style>\n",
       "<table border=\"1\" class=\"dataframe\">\n",
       "  <thead>\n",
       "    <tr style=\"text-align: right;\">\n",
       "      <th></th>\n",
       "      <th>review</th>\n",
       "      <th>scores</th>\n",
       "      <th>artist</th>\n",
       "      <th>album</th>\n",
       "      <th>genre</th>\n",
       "      <th>date</th>\n",
       "    </tr>\n",
       "  </thead>\n",
       "  <tbody>\n",
       "    <tr>\n",
       "      <th>5722</th>\n",
       "      <td>Every member of the international avant-garde ...</td>\n",
       "      <td>7.9</td>\n",
       "      <td>Nazoranai</td>\n",
       "      <td>Beginning to Fall in Line Before Me, So Decoro...</td>\n",
       "      <td>Experimental</td>\n",
       "      <td>2017-10-21T05:00:00</td>\n",
       "    </tr>\n",
       "    <tr>\n",
       "      <th>5723</th>\n",
       "      <td>Dan Bejar has been recording as Destroyer for ...</td>\n",
       "      <td>7.9</td>\n",
       "      <td>Destroyer</td>\n",
       "      <td>ken</td>\n",
       "      <td>Rock</td>\n",
       "      <td>2017-10-20T05:00:00</td>\n",
       "    </tr>\n",
       "    <tr>\n",
       "      <th>5724</th>\n",
       "      <td>The events that inspired Reaching for Indigo—H...</td>\n",
       "      <td>8.2</td>\n",
       "      <td>Circuit des Yeux</td>\n",
       "      <td>Reaching for Indigo</td>\n",
       "      <td>Rock</td>\n",
       "      <td>2017-10-20T05:00:00</td>\n",
       "    </tr>\n",
       "    <tr>\n",
       "      <th>5725</th>\n",
       "      <td>unknown</td>\n",
       "      <td>NaN</td>\n",
       "      <td>The Jam</td>\n",
       "      <td>unknown</td>\n",
       "      <td>Rock</td>\n",
       "      <td>2017-10-20T05:00:00</td>\n",
       "    </tr>\n",
       "    <tr>\n",
       "      <th>5726</th>\n",
       "      <td>Like many new rappers, what makes G Herbo inte...</td>\n",
       "      <td>7.8</td>\n",
       "      <td>G Herbo</td>\n",
       "      <td>Humble Beast</td>\n",
       "      <td>Rap</td>\n",
       "      <td>2017-10-20T05:00:00</td>\n",
       "    </tr>\n",
       "  </tbody>\n",
       "</table>\n",
       "</div>"
      ],
      "text/plain": [
       "                                                 review scores  \\\n",
       "5722  Every member of the international avant-garde ...    7.9   \n",
       "5723  Dan Bejar has been recording as Destroyer for ...    7.9   \n",
       "5724  The events that inspired Reaching for Indigo—H...    8.2   \n",
       "5725                                            unknown    NaN   \n",
       "5726  Like many new rappers, what makes G Herbo inte...    7.8   \n",
       "\n",
       "                artist                                              album  \\\n",
       "5722         Nazoranai  Beginning to Fall in Line Before Me, So Decoro...   \n",
       "5723         Destroyer                                                ken   \n",
       "5724  Circuit des Yeux                                Reaching for Indigo   \n",
       "5725           The Jam                                            unknown   \n",
       "5726           G Herbo                                       Humble Beast   \n",
       "\n",
       "             genre                 date  \n",
       "5722  Experimental  2017-10-21T05:00:00  \n",
       "5723          Rock  2017-10-20T05:00:00  \n",
       "5724          Rock  2017-10-20T05:00:00  \n",
       "5725          Rock  2017-10-20T05:00:00  \n",
       "5726           Rap  2017-10-20T05:00:00  "
      ]
     },
     "execution_count": 108,
     "metadata": {},
     "output_type": "execute_result"
    }
   ],
   "source": [
    "review_df.tail()"
   ]
  },
  {
   "cell_type": "markdown",
   "metadata": {},
   "source": [
    "### Getting more data\n",
    "\n",
    "Looking at the url perhaps there is an idea for how to extract the first 10 pages of review data."
   ]
  },
  {
   "cell_type": "code",
   "execution_count": null,
   "metadata": {},
   "outputs": [],
   "source": []
  },
  {
   "cell_type": "code",
   "execution_count": null,
   "metadata": {},
   "outputs": [],
   "source": []
  },
  {
   "cell_type": "code",
   "execution_count": null,
   "metadata": {},
   "outputs": [],
   "source": []
  },
  {
   "cell_type": "code",
   "execution_count": null,
   "metadata": {},
   "outputs": [],
   "source": []
  },
  {
   "cell_type": "markdown",
   "metadata": {},
   "source": [
    "### Getting full review and score\n",
    "\n",
    "Now, we have url's to our full reviews.  Let's use these to extract the score and full text of the review."
   ]
  },
  {
   "cell_type": "code",
   "execution_count": null,
   "metadata": {},
   "outputs": [],
   "source": []
  },
  {
   "cell_type": "code",
   "execution_count": null,
   "metadata": {},
   "outputs": [],
   "source": []
  },
  {
   "cell_type": "code",
   "execution_count": null,
   "metadata": {},
   "outputs": [],
   "source": []
  },
  {
   "cell_type": "markdown",
   "metadata": {},
   "source": [
    "### Good vs. Bad\n",
    "\n",
    "What score would you say makes an album good vs. a score that should be considered bad?"
   ]
  },
  {
   "cell_type": "code",
   "execution_count": null,
   "metadata": {},
   "outputs": [],
   "source": []
  },
  {
   "cell_type": "code",
   "execution_count": null,
   "metadata": {},
   "outputs": [],
   "source": []
  },
  {
   "cell_type": "code",
   "execution_count": null,
   "metadata": {},
   "outputs": [],
   "source": []
  },
  {
   "cell_type": "code",
   "execution_count": null,
   "metadata": {},
   "outputs": [],
   "source": []
  },
  {
   "cell_type": "markdown",
   "metadata": {},
   "source": [
    "### Text Representation\n",
    "\n",
    "To use this in a model we need to turn our text into a numeric representation.  A basic approach to this is to use the count of individual words as features.  Here, we can use the `CountVectorizer` to transform the data.\n",
    "\n",
    "<table border=\"1\" class=\"dataframe\">  <thead>    <tr style=\"text-align: right;\">      <th></th>      <th>the</th>      <th>dog</th>      <th>ate</th>      <th>salami</th>    </tr>  </thead>  <tbody>    <tr>      <th>0</th>      <td>0</td>      <td>1</td>      <td>1</td>      <td>1</td>    </tr>    <tr>      <th>1</th>      <td>1</td>      <td>1</td>      <td>0</td>      <td>1</td>    </tr>  </tbody></table>\n"
   ]
  },
  {
   "cell_type": "code",
   "execution_count": 68,
   "metadata": {},
   "outputs": [],
   "source": [
    "# instantiate count vectorizer\n",
    "cvect = CountVectorizer()"
   ]
  },
  {
   "cell_type": "code",
   "execution_count": 70,
   "metadata": {},
   "outputs": [],
   "source": [
    "# fit and transform the data\n",
    "dtm = cvect.fit_transform(review_df['review'])"
   ]
  },
  {
   "cell_type": "code",
   "execution_count": 71,
   "metadata": {},
   "outputs": [
    {
     "data": {
      "text/plain": [
       "<60x7619 sparse matrix of type '<class 'numpy.int64'>'\n",
       "\twith 18986 stored elements in Compressed Sparse Row format>"
      ]
     },
     "execution_count": 71,
     "metadata": {},
     "output_type": "execute_result"
    }
   ],
   "source": [
    "# kind of thing?\n",
    "dtm"
   ]
  },
  {
   "cell_type": "code",
   "execution_count": null,
   "metadata": {},
   "outputs": [],
   "source": [
    "# convert to dense\n",
    "dtm.toarray()"
   ]
  },
  {
   "cell_type": "code",
   "execution_count": null,
   "metadata": {},
   "outputs": [],
   "source": [
    "# words?\n",
    "cvect.get_feature_names_out()"
   ]
  },
  {
   "cell_type": "code",
   "execution_count": null,
   "metadata": {},
   "outputs": [],
   "source": [
    "# dataframe\n",
    "dtm_df = pd.DataFrame(dtm.toarray(), columns = cvect.get_feature_names_out())\n",
    "dtm_df.head()"
   ]
  },
  {
   "cell_type": "code",
   "execution_count": null,
   "metadata": {},
   "outputs": [],
   "source": [
    "# pipeline\n"
   ]
  },
  {
   "cell_type": "code",
   "execution_count": null,
   "metadata": {},
   "outputs": [],
   "source": [
    "# model\n"
   ]
  },
  {
   "cell_type": "code",
   "execution_count": null,
   "metadata": {},
   "outputs": [],
   "source": [
    "# score it\n"
   ]
  },
  {
   "cell_type": "code",
   "execution_count": null,
   "metadata": {},
   "outputs": [],
   "source": [
    "# coefficients\n"
   ]
  },
  {
   "cell_type": "markdown",
   "metadata": {},
   "source": [
    "### `selenium`\n",
    "\n",
    "Selenium allows you to interact with the webpage directly using a webdriver.  \n",
    "\n",
    "https://selenium-python.readthedocs.io/installation.html#drivers"
   ]
  },
  {
   "cell_type": "code",
   "execution_count": null,
   "metadata": {},
   "outputs": [],
   "source": [
    "# !pip install -U selenium"
   ]
  },
  {
   "cell_type": "code",
   "execution_count": null,
   "metadata": {},
   "outputs": [],
   "source": [
    "from selenium import webdriver\n",
    "from selenium.webdriver.common.keys import Keys\n",
    "from selenium.webdriver.common.by import By"
   ]
  },
  {
   "cell_type": "code",
   "execution_count": null,
   "metadata": {},
   "outputs": [],
   "source": [
    "driver = webdriver.Chrome()\n",
    "driver.get(\"http://www.python.org\")"
   ]
  },
  {
   "cell_type": "code",
   "execution_count": null,
   "metadata": {},
   "outputs": [],
   "source": [
    "#find element\n",
    "elem = driver.find_element(By.NAME, \"q\")\n",
    "elem.clear()\n",
    "elem.send_keys(\"pycon\")\n",
    "elem.send_keys(Keys.RETURN)\n",
    "driver.close()"
   ]
  },
  {
   "cell_type": "markdown",
   "metadata": {},
   "source": [
    "#### Important Examples"
   ]
  },
  {
   "cell_type": "code",
   "execution_count": null,
   "metadata": {},
   "outputs": [],
   "source": [
    "url = 'https://www.slapmagazine.com/'"
   ]
  },
  {
   "cell_type": "code",
   "execution_count": null,
   "metadata": {},
   "outputs": [],
   "source": [
    "driver = webdriver.Chrome()\n",
    "driver.get(url)"
   ]
  },
  {
   "cell_type": "markdown",
   "metadata": {},
   "source": [
    "'''<input class=\"search_input\" type=\"text\" name=\"search\" value=\"Search...\" \n",
    "onfocus=\"this.value = '';\" onblur=\"if(this.value=='') this.value='Search...';\">'''"
   ]
  },
  {
   "cell_type": "code",
   "execution_count": null,
   "metadata": {},
   "outputs": [],
   "source": [
    "element = driver.find_element(By.XPATH, \"//input[@class='search_input']\")"
   ]
  },
  {
   "cell_type": "code",
   "execution_count": null,
   "metadata": {},
   "outputs": [],
   "source": [
    "element.send_keys(\"Drake\")"
   ]
  },
  {
   "cell_type": "code",
   "execution_count": null,
   "metadata": {},
   "outputs": [],
   "source": [
    "results = element.submit()"
   ]
  },
  {
   "cell_type": "code",
   "execution_count": null,
   "metadata": {},
   "outputs": [],
   "source": [
    "elements = driver.find_elements(By.XPATH, \"//div[@class='search_results_posts']\")"
   ]
  },
  {
   "cell_type": "code",
   "execution_count": null,
   "metadata": {},
   "outputs": [],
   "source": [
    "next_page = driver.find_element(By.XPATH, \"//a[@class='navPages']\")"
   ]
  },
  {
   "cell_type": "code",
   "execution_count": null,
   "metadata": {},
   "outputs": [],
   "source": [
    "next_page.click()"
   ]
  },
  {
   "cell_type": "code",
   "execution_count": null,
   "metadata": {},
   "outputs": [],
   "source": [
    "next_page = driver.find_elements(By.XPATH, \"//a[@class='navPages']\")"
   ]
  },
  {
   "cell_type": "code",
   "execution_count": null,
   "metadata": {},
   "outputs": [],
   "source": [
    "elements = driver.find_elements(By.XPATH, \"//div[@class='search_results_posts']\")"
   ]
  },
  {
   "cell_type": "code",
   "execution_count": null,
   "metadata": {},
   "outputs": [],
   "source": [
    "pages = driver.find_elements(By.XPATH, \"//a[@class='navPages']\")"
   ]
  },
  {
   "cell_type": "code",
   "execution_count": null,
   "metadata": {},
   "outputs": [],
   "source": [
    "pages[1].click()"
   ]
  },
  {
   "cell_type": "code",
   "execution_count": null,
   "metadata": {},
   "outputs": [],
   "source": [
    "pages = driver.find_elements(By.XPATH, \"//a[@class='navPages']\")"
   ]
  },
  {
   "cell_type": "code",
   "execution_count": null,
   "metadata": {},
   "outputs": [],
   "source": [
    "pages[2].click()"
   ]
  },
  {
   "cell_type": "code",
   "execution_count": null,
   "metadata": {},
   "outputs": [],
   "source": [
    "url = 'https://www.slapmagazine.com/'\n",
    "driver = webdriver.Chrome()\n",
    "driver.get(url)\n",
    "element = driver.find_element(By.XPATH, \"//input[@class='search_input']\")\n",
    "element.send_keys(\"Drake\")\n",
    "element.submit()\n",
    "\n",
    "\n",
    "titles = []\n",
    "for i in range(5):\n",
    "    elements = driver.find_elements(By.XPATH, \"//div[@class='search_results_posts']\")\n",
    "    for elem in elements:\n",
    "        titles.append(elem.text)\n",
    "    pages = driver.find_elements(By.XPATH, \"//a[@class='navPages']\")\n",
    "    pages[i].click()"
   ]
  },
  {
   "cell_type": "code",
   "execution_count": null,
   "metadata": {},
   "outputs": [],
   "source": [
    "driver.close()"
   ]
  },
  {
   "cell_type": "code",
   "execution_count": null,
   "metadata": {},
   "outputs": [],
   "source": []
  }
 ],
 "metadata": {
  "kernelspec": {
   "display_name": "Python 3",
   "language": "python",
   "name": "python3"
  },
  "language_info": {
   "codemirror_mode": {
    "name": "ipython",
    "version": 3
   },
   "file_extension": ".py",
   "mimetype": "text/x-python",
   "name": "python",
   "nbconvert_exporter": "python",
   "pygments_lexer": "ipython3",
   "version": "3.8.3"
  }
 },
 "nbformat": 4,
 "nbformat_minor": 4
}
