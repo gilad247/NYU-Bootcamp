{
 "cells": [
  {
   "cell_type": "markdown",
   "metadata": {},
   "source": [
    "### Accessing Data with API's\n",
    "\n",
    "**OBJECTIVES**\n",
    "\n",
    "- More with `groupby` and `.agg`\n",
    "- Data Access via API\n"
   ]
  },
  {
   "cell_type": "markdown",
   "metadata": {},
   "source": [
    "### `.groupby` \n",
    "\n",
    "The split-apply-combine paradigm we have explored is incredibly powerful and useful tool.  In addition to performing a single aggregate operation, we can use multiple built in or custom aggregate functions."
   ]
  },
  {
   "cell_type": "code",
   "execution_count": null,
   "metadata": {},
   "outputs": [],
   "source": [
    "import pandas as pd\n",
    "import numpy as np\n",
    "import seaborn as sns\n",
    "import matplotlib.pyplot as plt"
   ]
  },
  {
   "cell_type": "markdown",
   "metadata": {},
   "source": [
    "#### The Data\n",
    "\n",
    "The dataset `salesdaily.csv` contains daily pharmaceutical sales data and the columns are described as follows:\n",
    "\n",
    "```\n",
    "M01AB - Anti-inflammatory and antirheumatic products, non-steroids, Acetic acid derivatives and related substances\n",
    "M01AE - Anti-inflammatory and antirheumatic products, non-steroids, Propionic acid derivatives\n",
    "N02BA - Other analgesics and antipyretics, Salicylic acid and derivatives\n",
    "N02BE/B - Other analgesics and antipyretics, Pyrazolones and Anilides\n",
    "N05B - Psycholeptics drugs, Anxiolytic drugs\n",
    "N05C - Psycholeptics drugs, Hypnotics and sedatives drugs\n",
    "R03 - Drugs for obstructive airway diseases\n",
    "R06 - Antihistamines for systemic use\n",
    "```\n",
    "\n",
    "Load in the data and be sure to set a `datetime` index. "
   ]
  },
  {
   "cell_type": "code",
   "execution_count": null,
   "metadata": {},
   "outputs": [],
   "source": [
    "#read in the data\n",
    "sales = pd.read_csv('data/salesdaily.csv', index_col = 0, parse_dates=True)\n",
    "sales.head()"
   ]
  },
  {
   "cell_type": "code",
   "execution_count": null,
   "metadata": {},
   "outputs": [],
   "source": [
    "#look at the info\n",
    "sales.info()"
   ]
  },
  {
   "cell_type": "markdown",
   "metadata": {},
   "source": [
    "**EXAMPLE**\n",
    "\n",
    "How do the daily average sales of `M01AB` compare to those of `NO5B`?  Construct a horizontal bar chart."
   ]
  },
  {
   "cell_type": "code",
   "execution_count": null,
   "metadata": {},
   "outputs": [],
   "source": [
    "#groupby and then plot -- kind = 'barh'\n",
    "sales.groupby('Weekday Name')[['M01AB', 'N05B']].mean().sort_values(by = 'M01AB').plot(kind = 'barh');"
   ]
  },
  {
   "cell_type": "markdown",
   "metadata": {},
   "source": [
    "#### Multiple Summaries with `agg`\n",
    "\n",
    "Rather than a single aggregate formula, we can use mutliple aggregate functions with the `.agg` method, and pass the functions or common names as strings.  You may also use a custom function."
   ]
  },
  {
   "cell_type": "code",
   "execution_count": null,
   "metadata": {},
   "outputs": [],
   "source": [
    "#mean and standard deviation\n",
    "sales.groupby('Weekday Name')[['M01AB']].agg(['mean', 'std', 'median', np.median])"
   ]
  },
  {
   "cell_type": "code",
   "execution_count": null,
   "metadata": {},
   "outputs": [],
   "source": [
    "#custom functino to fine range in data\n",
    "def lowhi(x):\n",
    "    return x.max() - x.min()"
   ]
  },
  {
   "cell_type": "code",
   "execution_count": null,
   "metadata": {},
   "outputs": [],
   "source": [
    "#mean, median, range\n",
    "sales.groupby('Weekday Name')[['M01AB']].agg(['mean', 'median', lowhi])"
   ]
  },
  {
   "cell_type": "markdown",
   "metadata": {},
   "source": [
    "#### Sparkline Example"
   ]
  },
  {
   "cell_type": "code",
   "execution_count": null,
   "metadata": {},
   "outputs": [],
   "source": [
    "# pip install sparklines"
   ]
  },
  {
   "cell_type": "code",
   "execution_count": null,
   "metadata": {},
   "outputs": [],
   "source": [
    "import sparklines"
   ]
  },
  {
   "cell_type": "code",
   "execution_count": null,
   "metadata": {},
   "outputs": [],
   "source": [
    "#sparklines function\n",
    "sparklines.sparklines([1, 2, 3, 4,5, 5, 3, 2, 5, 3, 2])"
   ]
  },
  {
   "cell_type": "code",
   "execution_count": null,
   "metadata": {},
   "outputs": [],
   "source": [
    "#apply with mean and standard deviation\n",
    "sales.groupby('Weekday Name')[['M01AB']].agg(['mean', 'std', sparklines.sparklines])"
   ]
  },
  {
   "cell_type": "markdown",
   "metadata": {},
   "source": [
    "#### `.resample`\n",
    "\n",
    "Simlar to groupby, with `datetime` indicies you can group on units of time in your data and aggregate across them.  The `.resample` method works similar to `groupby` in that it splits the data into time chunks, and then you apply an aggreagate method."
   ]
  },
  {
   "cell_type": "code",
   "execution_count": null,
   "metadata": {},
   "outputs": [],
   "source": [
    "# resample by quarter and examine the mean\n"
   ]
  },
  {
   "cell_type": "code",
   "execution_count": null,
   "metadata": {},
   "outputs": [],
   "source": []
  },
  {
   "cell_type": "markdown",
   "metadata": {},
   "source": [
    "## Data Input via APIs\n",
    "\n",
    "This is about using an api \"Application program interface\" ...basic idea, allows\n",
    "direct access to some database or parts of it without having do download everything\n",
    "\n",
    "Documentation is here...\n",
    "\n",
    "https://pandas-datareader.readthedocs.io/en/latest/index.html\n",
    "\n",
    "This documentation is good too:\n",
    "\n",
    "http://pandas-datareader.readthedocs.io/en/latest/remote_data.html"
   ]
  },
  {
   "cell_type": "code",
   "execution_count": null,
   "metadata": {},
   "outputs": [],
   "source": [
    "import os\n",
    "import pandas as pd\n",
    "import matplotlib.pyplot as plt\n",
    "import datetime "
   ]
  },
  {
   "cell_type": "code",
   "execution_count": null,
   "metadata": {},
   "outputs": [],
   "source": [
    "# pip install pandas-datareader"
   ]
  },
  {
   "cell_type": "markdown",
   "metadata": {},
   "source": [
    "**Quick Example**\n",
    "\n",
    "Extract five years of 10-year constant maturity yields on U.S. government bonds."
   ]
  },
  {
   "cell_type": "code",
   "execution_count": null,
   "metadata": {},
   "outputs": [],
   "source": [
    "import pandas_datareader as pdr\n",
    "matyld = pdr.get_data_fred('GS10')"
   ]
  },
  {
   "cell_type": "code",
   "execution_count": null,
   "metadata": {},
   "outputs": [],
   "source": [
    "#look at top 5 rows\n",
    "matyld.head()"
   ]
  },
  {
   "cell_type": "code",
   "execution_count": null,
   "metadata": {},
   "outputs": [],
   "source": [
    "#look at info\n",
    "matyld.info()"
   ]
  },
  {
   "cell_type": "markdown",
   "metadata": {},
   "source": [
    "**Excercise** Can you find the unemployment rate for the US from FRED. Use the data reader. And create a plot of unemployment from the 2005 on ward. Challenge, can you create a histogram of unemployment rates?"
   ]
  },
  {
   "cell_type": "code",
   "execution_count": null,
   "metadata": {},
   "outputs": [],
   "source": [
    "unemp = pdr.get_data_fred('UNRATE', start = '01-01-2010')\n",
    "unemp.plot()"
   ]
  },
  {
   "cell_type": "code",
   "execution_count": null,
   "metadata": {},
   "outputs": [],
   "source": []
  },
  {
   "cell_type": "markdown",
   "metadata": {},
   "source": [
    "#### Other Data Sources and Functionality\n",
    "\n",
    "The documentation [here](https://pandas-datareader.readthedocs.io/en/latest/remote_data.html) shows other sources of data from the datareader.  "
   ]
  },
  {
   "cell_type": "code",
   "execution_count": null,
   "metadata": {},
   "outputs": [],
   "source": [
    "# extract aapl data from yahoo\n",
    "apple = pdr.get_data_yahoo('AAPL')\n",
    "apple.head()"
   ]
  },
  {
   "cell_type": "code",
   "execution_count": null,
   "metadata": {},
   "outputs": [],
   "source": [
    "# plot percent change in Adj Close\n",
    "apple['Adj Close'].pct_change().plot()"
   ]
  },
  {
   "cell_type": "code",
   "execution_count": null,
   "metadata": {},
   "outputs": [],
   "source": [
    "apple.resample('M').mean()['Adj Close'].pct_change().plot()"
   ]
  },
  {
   "cell_type": "markdown",
   "metadata": {},
   "source": [
    "**Exercise** Grab luluemon's data. Plot the `Adj Close` and the volume since the begining of the year."
   ]
  },
  {
   "cell_type": "code",
   "execution_count": null,
   "metadata": {},
   "outputs": [],
   "source": [
    "lulu = pdr.get_data_yahoo(['LULU', 'AAPL'])\n",
    "lulu.head()"
   ]
  },
  {
   "cell_type": "code",
   "execution_count": null,
   "metadata": {},
   "outputs": [],
   "source": [
    "lulu[['Adj Close']].plot()"
   ]
  },
  {
   "cell_type": "markdown",
   "metadata": {},
   "source": [
    "### Accessing Data Without a Library\n",
    "\n",
    "In the `pandas_datareader` we have a library written in Python that interacts with data for us.  Sometimes, this is not possible and you will need to interact with the data in a more general environment.  Let's try this out by looking up some information about cats.  Here is the documentation [link](https://developers.thecatapi.com/view-account/ylX4blBYT9FaoVd6OhvR?report=bOoHBz-8t). \n",
    "\n",
    "![](images/catapi.png)"
   ]
  },
  {
   "cell_type": "code",
   "execution_count": null,
   "metadata": {},
   "outputs": [],
   "source": [
    "import requests"
   ]
  },
  {
   "cell_type": "markdown",
   "metadata": {},
   "source": [
    "**Response**\n",
    "\n",
    "- Random Cat: https://api.thecatapi.com/v1/images/search\n",
    "- 10 Bengal Cats: https://api.thecatapi.com/v1/images/search?limit=10&breed_ids=beng&api_key=REPLACE_ME"
   ]
  },
  {
   "cell_type": "code",
   "execution_count": null,
   "metadata": {},
   "outputs": [],
   "source": [
    "#url for a random cat\n",
    "url = 'https://api.thecatapi.com/v1/images/search'"
   ]
  },
  {
   "cell_type": "code",
   "execution_count": null,
   "metadata": {},
   "outputs": [],
   "source": [
    "#request of the url\n",
    "r = requests.get(url)"
   ]
  },
  {
   "cell_type": "code",
   "execution_count": null,
   "metadata": {},
   "outputs": [],
   "source": [
    "#look at response code\n",
    "r"
   ]
  },
  {
   "cell_type": "code",
   "execution_count": null,
   "metadata": {},
   "outputs": [],
   "source": [
    "#text of request\n",
    "r.text"
   ]
  },
  {
   "cell_type": "code",
   "execution_count": null,
   "metadata": {},
   "outputs": [],
   "source": [
    "#examine the json\n",
    "r.json()"
   ]
  },
  {
   "cell_type": "code",
   "execution_count": null,
   "metadata": {},
   "outputs": [],
   "source": [
    "#repeat for bengal cats\n",
    "#url\n",
    "url = 'https://api.thecatapi.com/v1/images/search?limit=10&breed_ids=beng&api_key=REPLACE_ME'\n",
    "#make request\n",
    "r = requests.get(url)\n",
    "#turn into json\n",
    "r.json()"
   ]
  },
  {
   "cell_type": "code",
   "execution_count": null,
   "metadata": {},
   "outputs": [],
   "source": [
    "#extract the links to images\n",
    "[cat['url'] for cat in r.json() ]"
   ]
  },
  {
   "cell_type": "markdown",
   "metadata": {},
   "source": [
    "**Problem**: \n",
    "\n",
    "![](https://dog.ceo/img/dog-api-logo.svg)\n",
    "\n",
    "Head over to the Dog API [here](https://dog.ceo/dog-api/).  \n",
    "\n",
    "1. Make a request that returns a list of all dog breeds.\n",
    "\n",
    "2. Make a request that returns a random image of a dog and extract the url.  "
   ]
  },
  {
   "cell_type": "code",
   "execution_count": null,
   "metadata": {},
   "outputs": [],
   "source": []
  },
  {
   "cell_type": "code",
   "execution_count": null,
   "metadata": {},
   "outputs": [],
   "source": []
  },
  {
   "cell_type": "code",
   "execution_count": null,
   "metadata": {},
   "outputs": [],
   "source": []
  },
  {
   "cell_type": "code",
   "execution_count": null,
   "metadata": {},
   "outputs": [],
   "source": []
  },
  {
   "cell_type": "code",
   "execution_count": null,
   "metadata": {},
   "outputs": [],
   "source": []
  },
  {
   "cell_type": "markdown",
   "metadata": {},
   "source": [
    "### ALPHA VANTAGE\n",
    "\n",
    "A more detailed example than that of `pandas_datareader`.  The API for Alpha Vantage provides many Forex and Crypto feeds as well as economic and technical indicators.  To use it, you will need an API key -- so head over to [here](https://www.alphavantage.co/#page-top) and let's sign up for one. \n",
    "\n",
    "![](images/alpha.png)"
   ]
  },
  {
   "cell_type": "code",
   "execution_count": 2,
   "metadata": {},
   "outputs": [],
   "source": [
    "import requests"
   ]
  },
  {
   "cell_type": "code",
   "execution_count": 37,
   "metadata": {},
   "outputs": [],
   "source": [
    "base_url = 'https://www.alphavantage.co/query'\n",
    "req = requests.get(\n",
    "    base_url,\n",
    "    params={\n",
    "        \"function\": \"TIME_SERIES_DAILY\",\n",
    "        \"symbol\": \"HD\",\n",
    "        \"apikey\": \"LW9XCI6UYMQY5E14\",\n",
    "        \"outputsize\": \"full\",\n",
    "    }\n",
    ")"
   ]
  },
  {
   "cell_type": "code",
   "execution_count": 38,
   "metadata": {},
   "outputs": [],
   "source": [
    "import pandas as pd"
   ]
  },
  {
   "cell_type": "code",
   "execution_count": 39,
   "metadata": {},
   "outputs": [],
   "source": [
    "#examine the response\n",
    "aapl = pd.DataFrame(req.json()['Time Series (Daily)']).T"
   ]
  },
  {
   "cell_type": "code",
   "execution_count": 56,
   "metadata": {},
   "outputs": [
    {
     "data": {
      "text/plain": [
       "'50'"
      ]
     },
     "execution_count": 56,
     "metadata": {},
     "output_type": "execute_result"
    }
   ],
   "source": [
    "url = 'https://www.alphavantage.co/query?function=NEWS_SENTIMENT&tickers=AAPL&topics=technology&apikey=demo'\n",
    "r = requests.get(url)\n",
    "data = r.json()\n",
    "\n",
    "data['items']"
   ]
  },
  {
   "cell_type": "code",
   "execution_count": 62,
   "metadata": {},
   "outputs": [
    {
     "name": "stdout",
     "output_type": "stream",
     "text": [
      "0.150094\n",
      "0.135774\n",
      "0.129595\n",
      "0.118143\n",
      "0.045599\n",
      "0.111133\n",
      "0.156031\n",
      "0.116612\n",
      "-0.067805\n",
      "0.150487\n",
      "-0.101082\n",
      "0.090826\n",
      "0.192957\n",
      "0.400747\n",
      "0.336167\n",
      "-0.055637\n",
      "0.384182\n",
      "0.296278\n",
      "0.118644\n",
      "0.06909\n",
      "0.2934\n",
      "0.1268\n",
      "0.234528\n",
      "0.086779\n",
      "0.102279\n",
      "-0.108217\n",
      "0.094999\n",
      "-0.117384\n",
      "0.109232\n",
      "0.315261\n",
      "0.207594\n",
      "0.228526\n",
      "0.00702\n",
      "0.244022\n",
      "-0.002354\n",
      "0.092746\n",
      "0.093017\n",
      "0.057315\n",
      "0.055114\n",
      "0.138265\n",
      "0.203803\n",
      "0.014476\n",
      "0.132616\n",
      "0.243732\n",
      "0.057521\n",
      "0.104376\n",
      "0.353088\n",
      "0.009462\n",
      "-0.036104\n",
      "-0.007274\n"
     ]
    }
   ],
   "source": [
    "for i in range(50):\n",
    "    print(data['feed'][i]['overall_sentiment_score'])"
   ]
  },
  {
   "cell_type": "code",
   "execution_count": null,
   "metadata": {},
   "outputs": [],
   "source": []
  },
  {
   "cell_type": "code",
   "execution_count": 40,
   "metadata": {},
   "outputs": [],
   "source": [
    "base_url = 'https://www.alphavantage.co/query'\n",
    "req = requests.get(\n",
    "    base_url,\n",
    "    params={\n",
    "        \"function\": \"TIME_SERIES_DAILY\",\n",
    "        \"symbol\": \"LOW\",\n",
    "        \"apikey\": \"LW9XCI6UYMQY5E14\",\n",
    "        \"outputsize\": \"full\",\n",
    "    }\n",
    ")"
   ]
  },
  {
   "cell_type": "code",
   "execution_count": 41,
   "metadata": {},
   "outputs": [],
   "source": [
    "tsla = pd.DataFrame(req.json()['Time Series (Daily)']).T"
   ]
  },
  {
   "cell_type": "code",
   "execution_count": 42,
   "metadata": {},
   "outputs": [
    {
     "name": "stdout",
     "output_type": "stream",
     "text": [
      "<class 'pandas.core.frame.DataFrame'>\n",
      "Index: 5770 entries, 2022-10-05 to 1999-11-01\n",
      "Data columns (total 5 columns):\n",
      " #   Column     Non-Null Count  Dtype \n",
      "---  ------     --------------  ----- \n",
      " 0   1. open    5770 non-null   object\n",
      " 1   2. high    5770 non-null   object\n",
      " 2   3. low     5770 non-null   object\n",
      " 3   4. close   5770 non-null   object\n",
      " 4   5. volume  5770 non-null   object\n",
      "dtypes: object(5)\n",
      "memory usage: 270.5+ KB\n"
     ]
    }
   ],
   "source": [
    "aapl.info()"
   ]
  },
  {
   "cell_type": "code",
   "execution_count": 43,
   "metadata": {},
   "outputs": [],
   "source": [
    "aapl = aapl.astype('float')\n",
    "aapl.index = pd.to_datetime(aapl.index)"
   ]
  },
  {
   "cell_type": "code",
   "execution_count": 44,
   "metadata": {},
   "outputs": [],
   "source": [
    "tsla = tsla.astype('float')\n",
    "tsla.index = pd.to_datetime(tsla.index)"
   ]
  },
  {
   "cell_type": "code",
   "execution_count": 45,
   "metadata": {},
   "outputs": [],
   "source": [
    "aapl['month'] = aapl.index.month"
   ]
  },
  {
   "cell_type": "code",
   "execution_count": 46,
   "metadata": {},
   "outputs": [],
   "source": [
    "tsla['month'] = tsla.index.month"
   ]
  },
  {
   "cell_type": "code",
   "execution_count": 47,
   "metadata": {},
   "outputs": [],
   "source": [
    "import seaborn as sns"
   ]
  },
  {
   "cell_type": "code",
   "execution_count": 54,
   "metadata": {},
   "outputs": [
    {
     "data": {
      "text/plain": [
       "<AxesSubplot: xlabel='month', ylabel='4. close'>"
      ]
     },
     "execution_count": 54,
     "metadata": {},
     "output_type": "execute_result"
    },
    {
     "data": {
      "image/png": "[encoded data removed]",
      "text/plain": [
       "<Figure size 432x288 with 1 Axes>"
      ]
     },
     "metadata": {
      "needs_background": "light"
     },
     "output_type": "display_data"
    }
   ],
   "source": [
    "sns.boxplot(data = aapl, x = 'month', y = '4. close', color = 'orange')\n",
    "sns.boxplot(data = tsla, x = 'month', y = '4. close', color = 'blue')"
   ]
  },
  {
   "cell_type": "code",
   "execution_count": null,
   "metadata": {},
   "outputs": [],
   "source": []
  },
  {
   "cell_type": "code",
   "execution_count": 49,
   "metadata": {},
   "outputs": [
    {
     "data": {
      "text/plain": [
       "1999-11-30     76.25\n",
       "1999-12-31     81.31\n",
       "2000-01-31     65.19\n",
       "2000-02-29     62.00\n",
       "2000-03-31     55.63\n",
       "               ...  \n",
       "2022-06-30    297.19\n",
       "2022-07-31    279.08\n",
       "2022-08-31    305.82\n",
       "2022-09-30    293.37\n",
       "2022-10-31    283.70\n",
       "Freq: M, Name: 4. close, Length: 276, dtype: float64"
      ]
     },
     "execution_count": 49,
     "metadata": {},
     "output_type": "execute_result"
    }
   ],
   "source": [
    "aapl.resample('M')['4. close'].first()"
   ]
  },
  {
   "cell_type": "code",
   "execution_count": null,
   "metadata": {},
   "outputs": [],
   "source": []
  },
  {
   "cell_type": "code",
   "execution_count": null,
   "metadata": {},
   "outputs": [],
   "source": [
    "#extract the headline\n",
    "base_url = 'https://www.alphavantage.co/query'\n",
    "req = requests.get(\n",
    "    base_url,\n",
    "    params={\n",
    "        \"function\": \"NEWS_SENTIMENT\",\n",
    "        \"symbol\": \"AAPL\",\n",
    "        \"apikey\": \"LW9XCI6UYMQY5E14\"\n",
    "    }\n",
    ")\n",
    "req.json()"
   ]
  },
  {
   "cell_type": "markdown",
   "metadata": {},
   "source": [
    "**Exercise**\n",
    "\n",
    "Use the `TIME_SERIES_DAILY` endpoint to extract data for `AAPL`. "
   ]
  },
  {
   "cell_type": "markdown",
   "metadata": {},
   "source": [
    "### Different Endpoints\n",
    "\n",
    "Let's explore some news about Apple.  The documentation on the news & sentiment endpoint is [here](https://www.alphavantage.co/documentation/#news-sentiment). "
   ]
  },
  {
   "cell_type": "code",
   "execution_count": null,
   "metadata": {},
   "outputs": [],
   "source": [
    "base_url = 'https://www.alphavantage.co/query'"
   ]
  },
  {
   "cell_type": "code",
   "execution_count": null,
   "metadata": {},
   "outputs": [],
   "source": [
    "#news about AAPL\n"
   ]
  },
  {
   "cell_type": "markdown",
   "metadata": {},
   "source": [
    "**PROBLEM**: Extract weekly data for bitcoin (`BTC`) from the Cryptocurrency endpoint in Alpha Vantage.\n"
   ]
  },
  {
   "cell_type": "code",
   "execution_count": null,
   "metadata": {},
   "outputs": [],
   "source": []
  },
  {
   "cell_type": "code",
   "execution_count": null,
   "metadata": {},
   "outputs": [],
   "source": []
  },
  {
   "cell_type": "code",
   "execution_count": null,
   "metadata": {},
   "outputs": [],
   "source": []
  },
  {
   "cell_type": "code",
   "execution_count": null,
   "metadata": {},
   "outputs": [],
   "source": []
  },
  {
   "cell_type": "markdown",
   "metadata": {},
   "source": [
    "#### API Wrappers\n",
    "\n",
    "Often, someone has written a library to wrap the API.  For example, there is an alpha vantage Python API wrapper:\n",
    "\n",
    "- https://github.com/RomelTorres/alpha_vantage\n",
    "\n",
    "Let's head over, install the library, and retrieve some intraday returns."
   ]
  },
  {
   "cell_type": "code",
   "execution_count": null,
   "metadata": {},
   "outputs": [],
   "source": []
  },
  {
   "cell_type": "code",
   "execution_count": null,
   "metadata": {},
   "outputs": [],
   "source": []
  },
  {
   "cell_type": "code",
   "execution_count": null,
   "metadata": {},
   "outputs": [],
   "source": []
  },
  {
   "cell_type": "code",
   "execution_count": null,
   "metadata": {},
   "outputs": [],
   "source": []
  },
  {
   "cell_type": "markdown",
   "metadata": {},
   "source": [
    "#### Summary\n",
    "\n",
    "Great job!  Now, you have additional tools for going out and accessing data from a variety of sources.  Your homework this week will involve extracting further information from the API's and visualizing this with `seaborn` and `matplotlib`."
   ]
  }
 ],
 "metadata": {
  "anaconda-cloud": {},
  "hide_input": false,
  "kernelspec": {
   "display_name": "Python 3",
   "language": "python",
   "name": "python3"
  },
  "language_info": {
   "codemirror_mode": {
    "name": "ipython",
    "version": 3
   },
   "file_extension": ".py",
   "mimetype": "text/x-python",
   "name": "python",
   "nbconvert_exporter": "python",
   "pygments_lexer": "ipython3",
   "version": "3.8.3"
  }
 },
 "nbformat": 4,
 "nbformat_minor": 4
}
