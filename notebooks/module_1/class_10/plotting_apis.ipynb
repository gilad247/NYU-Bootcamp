{
 "cells": [
  {
   "cell_type": "markdown",
   "metadata": {},
   "source": [
    "### More with API's and Wrappers\n",
    "\n",
    "This class focuses on more work with data visualization and `seaborn` as well as working with API's to retrieve data.  "
   ]
  },
  {
   "cell_type": "code",
   "execution_count": 6,
   "metadata": {
    "id": "iGtdhTevN08g"
   },
   "outputs": [],
   "source": [
    "import seaborn as sns\n",
    "import matplotlib.pyplot as plt\n",
    "import numpy as np\n",
    "import pandas as pd \n",
    "import pandas_datareader as pdr\n",
    "import requests\n",
    "import statsmodels.api as sm"
   ]
  },
  {
   "cell_type": "code",
   "execution_count": 2,
   "metadata": {},
   "outputs": [],
   "source": [
    "#pip install statsmodels"
   ]
  },
  {
   "cell_type": "markdown",
   "metadata": {},
   "source": [
    "**Warm Up**\n",
    "\n",
    "Below a dataset from the `statsmodels` library is described and loaded.  Examine the dataset and \n",
    "using `seaborn` prepare the following plots. \n",
    "\n",
    "- `pairplot` with data colored by the `type` feature\n",
    "- Side by side boxplot of `type` vs. `income` and barplot of average income by `type`"
   ]
  },
  {
   "cell_type": "code",
   "execution_count": 3,
   "metadata": {
    "id": "y8HPXJJPODEE"
   },
   "outputs": [],
   "source": [
    "duncan_prestige = sm.datasets.get_rdataset(\"Duncan\", \"carData\")"
   ]
  },
  {
   "cell_type": "code",
   "execution_count": 4,
   "metadata": {
    "colab": {
     "base_uri": "https://localhost:8080/"
    },
    "id": "EHHnBgPfOFtW",
    "outputId": "98b77b8d-4def-44c0-9f61-cecf722e1151"
   },
   "outputs": [
    {
     "name": "stdout",
     "output_type": "stream",
     "text": [
      ".. container::\n",
      "\n",
      "   ====== ===============\n",
      "   Duncan R Documentation\n",
      "   ====== ===============\n",
      "\n",
      "   .. rubric:: Duncan's Occupational Prestige Data\n",
      "      :name: duncans-occupational-prestige-data\n",
      "\n",
      "   .. rubric:: Description\n",
      "      :name: description\n",
      "\n",
      "   The ``Duncan`` data frame has 45 rows and 4 columns. Data on the\n",
      "   prestige and other characteristics of 45 U. S. occupations in 1950.\n",
      "\n",
      "   .. rubric:: Usage\n",
      "      :name: usage\n",
      "\n",
      "   ::\n",
      "\n",
      "      Duncan\n",
      "\n",
      "   .. rubric:: Format\n",
      "      :name: format\n",
      "\n",
      "   This data frame contains the following columns:\n",
      "\n",
      "   type\n",
      "      Type of occupation. A factor with the following levels: ``prof``,\n",
      "      professional and managerial; ``wc``, white-collar; ``bc``,\n",
      "      blue-collar.\n",
      "\n",
      "   income\n",
      "      Percentage of occupational incumbents in the 1950 US Census who\n",
      "      earned $3,500 or more per year (about $36,000 in 2017 US dollars).\n",
      "\n",
      "   education\n",
      "      Percentage of occupational incumbents in 1950 who were high school\n",
      "      graduates (which, were we cynical, we would say is roughly\n",
      "      equivalent to a PhD in 2017)\n",
      "\n",
      "   prestige\n",
      "      Percentage of respondents in a social survey who rated the\n",
      "      occupation as “good” or better in prestige\n",
      "\n",
      "   .. rubric:: Source\n",
      "      :name: source\n",
      "\n",
      "   Duncan, O. D. (1961) A socioeconomic index for all occupations. In\n",
      "   Reiss, A. J., Jr. (Ed.) *Occupations and Social Status.* Free Press\n",
      "   [Table VI-1].\n",
      "\n",
      "   .. rubric:: References\n",
      "      :name: references\n",
      "\n",
      "   Fox, J. (2016) *Applied Regression Analysis and Generalized Linear\n",
      "   Models*, Third Edition. Sage.\n",
      "\n",
      "   Fox, J. and Weisberg, S. (2019) *An R Companion to Applied\n",
      "   Regression*, Third Edition, Sage.\n",
      "\n"
     ]
    }
   ],
   "source": [
    "print(duncan_prestige.__doc__)"
   ]
  },
  {
   "cell_type": "code",
   "execution_count": 5,
   "metadata": {
    "colab": {
     "base_uri": "https://localhost:8080/",
     "height": 206
    },
    "id": "Z7vZBzAteVfa",
    "outputId": "38c2ac6d-e7de-4e91-f4cd-d76870dffd87"
   },
   "outputs": [
    {
     "data": {
      "text/html": [
       "<div>\n",
       "<style scoped>\n",
       "    .dataframe tbody tr th:only-of-type {\n",
       "        vertical-align: middle;\n",
       "    }\n",
       "\n",
       "    .dataframe tbody tr th {\n",
       "        vertical-align: top;\n",
       "    }\n",
       "\n",
       "    .dataframe thead th {\n",
       "        text-align: right;\n",
       "    }\n",
       "</style>\n",
       "<table border=\"1\" class=\"dataframe\">\n",
       "  <thead>\n",
       "    <tr style=\"text-align: right;\">\n",
       "      <th></th>\n",
       "      <th>type</th>\n",
       "      <th>income</th>\n",
       "      <th>education</th>\n",
       "      <th>prestige</th>\n",
       "    </tr>\n",
       "  </thead>\n",
       "  <tbody>\n",
       "    <tr>\n",
       "      <th>accountant</th>\n",
       "      <td>prof</td>\n",
       "      <td>62</td>\n",
       "      <td>86</td>\n",
       "      <td>82</td>\n",
       "    </tr>\n",
       "    <tr>\n",
       "      <th>pilot</th>\n",
       "      <td>prof</td>\n",
       "      <td>72</td>\n",
       "      <td>76</td>\n",
       "      <td>83</td>\n",
       "    </tr>\n",
       "    <tr>\n",
       "      <th>architect</th>\n",
       "      <td>prof</td>\n",
       "      <td>75</td>\n",
       "      <td>92</td>\n",
       "      <td>90</td>\n",
       "    </tr>\n",
       "    <tr>\n",
       "      <th>author</th>\n",
       "      <td>prof</td>\n",
       "      <td>55</td>\n",
       "      <td>90</td>\n",
       "      <td>76</td>\n",
       "    </tr>\n",
       "    <tr>\n",
       "      <th>chemist</th>\n",
       "      <td>prof</td>\n",
       "      <td>64</td>\n",
       "      <td>86</td>\n",
       "      <td>90</td>\n",
       "    </tr>\n",
       "  </tbody>\n",
       "</table>\n",
       "</div>"
      ],
      "text/plain": [
       "            type  income  education  prestige\n",
       "accountant  prof      62         86        82\n",
       "pilot       prof      72         76        83\n",
       "architect   prof      75         92        90\n",
       "author      prof      55         90        76\n",
       "chemist     prof      64         86        90"
      ]
     },
     "execution_count": 5,
     "metadata": {},
     "output_type": "execute_result"
    }
   ],
   "source": [
    "duncan_df = duncan_prestige.data\n",
    "duncan_df.head()"
   ]
  },
  {
   "cell_type": "code",
   "execution_count": 9,
   "metadata": {
    "id": "93hTH3Laep_J"
   },
   "outputs": [
    {
     "data": {
      "text/plain": [
       "<seaborn.axisgrid.PairGrid at 0x7f7a4f2e0190>"
      ]
     },
     "execution_count": 9,
     "metadata": {},
     "output_type": "execute_result"
    },
    {
     "data": {
      "image/png": "[encoded data removed]",
      "text/plain": [
       "<Figure size 595.75x540 with 12 Axes>"
      ]
     },
     "metadata": {
      "needs_background": "light"
     },
     "output_type": "display_data"
    }
   ],
   "source": [
    "# pairplot by type\n",
    "sns.pairplot(duncan_df, hue = 'type')"
   ]
  },
  {
   "cell_type": "code",
   "execution_count": 12,
   "metadata": {},
   "outputs": [
    {
     "data": {
      "text/plain": [
       "[<matplotlib.lines.Line2D at 0x7f7a4f929940>]"
      ]
     },
     "execution_count": 12,
     "metadata": {},
     "output_type": "execute_result"
    },
    {
     "data": {
      "image/png": "[encoded data removed]",
      "text/plain": [
       "<Figure size 432x288 with 2 Axes>"
      ]
     },
     "metadata": {
      "needs_background": "light"
     },
     "output_type": "display_data"
    }
   ],
   "source": [
    "fig, ax = plt.subplots(1, 2)\n",
    "ax[0].plot([1, 2, 3])"
   ]
  },
  {
   "cell_type": "code",
   "execution_count": 15,
   "metadata": {
    "id": "e2RAtgb9ew3L"
   },
   "outputs": [
    {
     "data": {
      "image/png": "[encoded data removed]",
      "text/plain": [
       "<Figure size 1440x360 with 2 Axes>"
      ]
     },
     "metadata": {
      "needs_background": "light"
     },
     "output_type": "display_data"
    }
   ],
   "source": [
    "# boxplot of type vs. income\n",
    "fig, ax = plt.subplots(1, 2, figsize = (20, 5))\n",
    "sns.boxplot(data=duncan_df, x=\"type\", y=\"income\", ax = ax[0]);\n",
    "sns.barplot(data = duncan_df, x = \"type\", y = \"income\", ax = ax[1]);"
   ]
  },
  {
   "cell_type": "code",
   "execution_count": null,
   "metadata": {},
   "outputs": [],
   "source": [
    "# barplot ? \n",
    "# sns.barplot()"
   ]
  },
  {
   "cell_type": "code",
   "execution_count": 17,
   "metadata": {},
   "outputs": [
    {
     "data": {
      "text/plain": [
       "<AxesSubplot: xlabel='type', ylabel='income'>"
      ]
     },
     "execution_count": 17,
     "metadata": {},
     "output_type": "execute_result"
    },
    {
     "data": {
      "image/png": "[encoded data removed]",
      "text/plain": [
       "<Figure size 432x288 with 2 Axes>"
      ]
     },
     "metadata": {
      "needs_background": "light"
     },
     "output_type": "display_data"
    }
   ],
   "source": [
    "# barplot and boxplot together \n",
    "f, axes = plt.subplots(1, 2)\n",
    "sns.boxplot(x=\"type\",\n",
    "                y=\"income\",\n",
    "                data=duncan_df,\n",
    "                ax=axes[0])\n",
    "sns.barplot(x = 'type',\n",
    "            y = 'income',\n",
    "            data = duncan_df, \n",
    "            errorbar = None,\n",
    "            ax=axes[1])"
   ]
  },
  {
   "cell_type": "markdown",
   "metadata": {},
   "source": [
    "#### API Review\n",
    "\n",
    "![](https://res.cloudinary.com/di2vaxvhl/image/upload/v1545849277/HTTP_txch7g.png)"
   ]
  },
  {
   "cell_type": "code",
   "execution_count": 18,
   "metadata": {
    "id": "hax1XhY2uPDR"
   },
   "outputs": [],
   "source": [
    "# url to pitchfork album reviews\n",
    "pitch_url = 'https://pitchfork.com/reviews/albums/'"
   ]
  },
  {
   "cell_type": "code",
   "execution_count": 20,
   "metadata": {
    "id": "esJpteL8vYzl"
   },
   "outputs": [
    {
     "data": {
      "text/plain": [
       "<Response [200]>"
      ]
     },
     "execution_count": 20,
     "metadata": {},
     "output_type": "execute_result"
    }
   ],
   "source": [
    "# make a request of the url\n",
    "r = requests.get(pitch_url)\n",
    "r"
   ]
  },
  {
   "cell_type": "code",
   "execution_count": 22,
   "metadata": {},
   "outputs": [
    {
     "data": {
      "text/plain": [
       "'<!DOCTYPE html><html lang=\"en\"><head><title data-react-helmet=\"true\">New Albums &amp; Music Reviews '"
      ]
     },
     "execution_count": 22,
     "metadata": {},
     "output_type": "execute_result"
    }
   ],
   "source": [
    "# examine the text of the response\n",
    "r.text[:100]"
   ]
  },
  {
   "cell_type": "markdown",
   "metadata": {},
   "source": [
    "#### URL's with data\n",
    "\n",
    "Let's look over the PokeAPI with data about Pokemon [here](https://pokeapi.co/).\n",
    "\n",
    "![](https://raw.githubusercontent.com/PokeAPI/media/master/logo/pokeapi_256.png)"
   ]
  },
  {
   "cell_type": "code",
   "execution_count": 23,
   "metadata": {},
   "outputs": [],
   "source": [
    "#sample url\n",
    "poke_url = 'https://pokeapi.co/api/v2/pokemon/ditto'"
   ]
  },
  {
   "cell_type": "code",
   "execution_count": 24,
   "metadata": {},
   "outputs": [
    {
     "data": {
      "text/plain": [
       "<Response [200]>"
      ]
     },
     "execution_count": 24,
     "metadata": {},
     "output_type": "execute_result"
    }
   ],
   "source": [
    "# make a request\n",
    "response = requests.get(poke_url)\n",
    "response"
   ]
  },
  {
   "cell_type": "code",
   "execution_count": 25,
   "metadata": {},
   "outputs": [],
   "source": [
    "# extract json\n",
    "ditto_data = response.json()"
   ]
  },
  {
   "cell_type": "code",
   "execution_count": 26,
   "metadata": {},
   "outputs": [
    {
     "data": {
      "text/plain": [
       "dict"
      ]
     },
     "execution_count": 26,
     "metadata": {},
     "output_type": "execute_result"
    }
   ],
   "source": [
    "# examine the type of object\n",
    "type(ditto_data)"
   ]
  },
  {
   "cell_type": "code",
   "execution_count": 27,
   "metadata": {},
   "outputs": [
    {
     "data": {
      "text/plain": [
       "dict_keys(['abilities', 'base_experience', 'forms', 'game_indices', 'height', 'held_items', 'id', 'is_default', 'location_area_encounters', 'moves', 'name', 'order', 'past_types', 'species', 'sprites', 'stats', 'types', 'weight'])"
      ]
     },
     "execution_count": 27,
     "metadata": {},
     "output_type": "execute_result"
    }
   ],
   "source": [
    "# what are the keys? \n",
    "ditto_data.keys()"
   ]
  },
  {
   "cell_type": "code",
   "execution_count": 31,
   "metadata": {},
   "outputs": [
    {
     "name": "stdout",
     "output_type": "stream",
     "text": [
      "transform\n"
     ]
    }
   ],
   "source": [
    "# extract their moves \n",
    "for ent in ditto_data['moves']:\n",
    "    print(ent['move']['name'])"
   ]
  },
  {
   "cell_type": "markdown",
   "metadata": {},
   "source": [
    "**PROBLEM**\n",
    "\n",
    "1. Extract information on the berry named `cheri`.  What is its firmness?\n",
    "2. Extract information on the berry named `chesto`.  What is its firmness?\n",
    "3. Write a function that takes in a berry name and returns its firmness.  Test your function with `pecha` berries. "
   ]
  },
  {
   "cell_type": "code",
   "execution_count": 35,
   "metadata": {},
   "outputs": [
    {
     "data": {
      "text/plain": [
       "'soft'"
      ]
     },
     "execution_count": 35,
     "metadata": {},
     "output_type": "execute_result"
    }
   ],
   "source": [
    "#make the url\n",
    "cheri_url = 'https://pokeapi.co/api/v2/berry/cheri/'\n",
    "#request\n",
    "response = requests.get(cheri_url)\n",
    "#look at dictionary\n",
    "data = response.json()\n",
    "\n",
    "data['firmness']['name']"
   ]
  },
  {
   "cell_type": "code",
   "execution_count": 36,
   "metadata": {},
   "outputs": [
    {
     "data": {
      "text/plain": [
       "'super-hard'"
      ]
     },
     "execution_count": 36,
     "metadata": {},
     "output_type": "execute_result"
    }
   ],
   "source": [
    "#make the url\n",
    "chesto_url = 'https://pokeapi.co/api/v2/berry/chesto/'\n",
    "#request\n",
    "response = requests.get(chesto_url)\n",
    "#look at dictionary\n",
    "data = response.json()\n",
    "\n",
    "data['firmness']['name']"
   ]
  },
  {
   "cell_type": "code",
   "execution_count": 38,
   "metadata": {},
   "outputs": [],
   "source": [
    "def berry_hardness(berry_name):\n",
    "    #make the url\n",
    "    berry_url = f'https://pokeapi.co/api/v2/berry/{berry_name}/'\n",
    "    #request\n",
    "    response = requests.get(berry_url)\n",
    "    #look at dictionary\n",
    "    data = response.json()\n",
    "\n",
    "    return data['firmness']['name']"
   ]
  },
  {
   "cell_type": "code",
   "execution_count": 39,
   "metadata": {},
   "outputs": [
    {
     "data": {
      "text/plain": [
       "'very-soft'"
      ]
     },
     "execution_count": 39,
     "metadata": {},
     "output_type": "execute_result"
    }
   ],
   "source": [
    "berry_hardness('pecha')"
   ]
  },
  {
   "cell_type": "markdown",
   "metadata": {},
   "source": [
    "#### Using Alpha Vantage\n",
    "\n",
    "When we use an API, there is typically additional information required to extract specific data.  We used alpha vantage last time, we will do so again today.  The important idea here is understanding how the documentation helps you to format the URL and how we can use `requests` to help us to do so. Open up the docs [here](https://www.alphavantage.co/documentation/#intraday), and we will visit the url below to see the results.\n",
    "\n",
    "- https://www.alphavantage.co/query?function=TIME_SERIES_INTRADAY&symbol=IBM&interval=5min&apikey=demo\n"
   ]
  },
  {
   "cell_type": "code",
   "execution_count": 40,
   "metadata": {
    "id": "xZ_6QmlVycm3"
   },
   "outputs": [],
   "source": [
    "# intraday api endpoint url\n",
    "url = 'https://www.alphavantage.co/query?function=TIME_SERIES_INTRADAY&symbol=IBM&interval=5min&apikey=demo'"
   ]
  },
  {
   "cell_type": "code",
   "execution_count": 41,
   "metadata": {
    "id": "sy6odM0eymuI"
   },
   "outputs": [],
   "source": [
    "# one approach with whole url\n",
    "response = requests.get(url)"
   ]
  },
  {
   "cell_type": "code",
   "execution_count": 43,
   "metadata": {},
   "outputs": [
    {
     "data": {
      "text/plain": [
       "dict_keys(['Meta Data', 'Time Series (5min)'])"
      ]
     },
     "execution_count": 43,
     "metadata": {},
     "output_type": "execute_result"
    }
   ],
   "source": [
    "# examine output -- keys\n",
    "response.json().keys()"
   ]
  },
  {
   "cell_type": "code",
   "execution_count": 44,
   "metadata": {
    "collapsed": true,
    "jupyter": {
     "outputs_hidden": true
    }
   },
   "outputs": [
    {
     "data": {
      "text/plain": [
       "{'2022-10-03 20:00:00': {'1. open': '121.5200',\n",
       "  '2. high': '121.5200',\n",
       "  '3. low': '121.5200',\n",
       "  '4. close': '121.5200',\n",
       "  '5. volume': '125'},\n",
       " '2022-10-03 19:50:00': {'1. open': '121.8700',\n",
       "  '2. high': '121.8700',\n",
       "  '3. low': '121.8700',\n",
       "  '4. close': '121.8700',\n",
       "  '5. volume': '100'},\n",
       " '2022-10-03 18:35:00': {'1. open': '121.5300',\n",
       "  '2. high': '121.5300',\n",
       "  '3. low': '121.5300',\n",
       "  '4. close': '121.5300',\n",
       "  '5. volume': '100'},\n",
       " '2022-10-03 17:45:00': {'1. open': '121.5500',\n",
       "  '2. high': '121.5500',\n",
       "  '3. low': '121.5500',\n",
       "  '4. close': '121.5500',\n",
       "  '5. volume': '100'},\n",
       " '2022-10-03 17:20:00': {'1. open': '121.5400',\n",
       "  '2. high': '121.5400',\n",
       "  '3. low': '121.5400',\n",
       "  '4. close': '121.5400',\n",
       "  '5. volume': '502'},\n",
       " '2022-10-03 17:05:00': {'1. open': '121.7000',\n",
       "  '2. high': '121.7000',\n",
       "  '3. low': '121.7000',\n",
       "  '4. close': '121.7000',\n",
       "  '5. volume': '250'},\n",
       " '2022-10-03 16:15:00': {'1. open': '121.5100',\n",
       "  '2. high': '121.5200',\n",
       "  '3. low': '121.4900',\n",
       "  '4. close': '121.5100',\n",
       "  '5. volume': '12022'},\n",
       " '2022-10-03 16:05:00': {'1. open': '121.5100',\n",
       "  '2. high': '121.5100',\n",
       "  '3. low': '121.5100',\n",
       "  '4. close': '121.5100',\n",
       "  '5. volume': '159585'},\n",
       " '2022-10-03 16:00:00': {'1. open': '121.6200',\n",
       "  '2. high': '121.6200',\n",
       "  '3. low': '121.4350',\n",
       "  '4. close': '121.5100',\n",
       "  '5. volume': '271193'},\n",
       " '2022-10-03 15:55:00': {'1. open': '121.6500',\n",
       "  '2. high': '121.6850',\n",
       "  '3. low': '121.4800',\n",
       "  '4. close': '121.6300',\n",
       "  '5. volume': '128433'},\n",
       " '2022-10-03 15:50:00': {'1. open': '121.6650',\n",
       "  '2. high': '121.7700',\n",
       "  '3. low': '121.6000',\n",
       "  '4. close': '121.6300',\n",
       "  '5. volume': '84070'},\n",
       " '2022-10-03 15:45:00': {'1. open': '121.9100',\n",
       "  '2. high': '121.9150',\n",
       "  '3. low': '121.6700',\n",
       "  '4. close': '121.6700',\n",
       "  '5. volume': '66389'},\n",
       " '2022-10-03 15:40:00': {'1. open': '121.8550',\n",
       "  '2. high': '121.9800',\n",
       "  '3. low': '121.8200',\n",
       "  '4. close': '121.9100',\n",
       "  '5. volume': '44926'},\n",
       " '2022-10-03 15:35:00': {'1. open': '121.8050',\n",
       "  '2. high': '121.9300',\n",
       "  '3. low': '121.7900',\n",
       "  '4. close': '121.8550',\n",
       "  '5. volume': '57732'},\n",
       " '2022-10-03 15:30:00': {'1. open': '121.7750',\n",
       "  '2. high': '121.8600',\n",
       "  '3. low': '121.7500',\n",
       "  '4. close': '121.8100',\n",
       "  '5. volume': '56398'},\n",
       " '2022-10-03 15:25:00': {'1. open': '121.7100',\n",
       "  '2. high': '121.8300',\n",
       "  '3. low': '121.7050',\n",
       "  '4. close': '121.7850',\n",
       "  '5. volume': '46210'},\n",
       " '2022-10-03 15:20:00': {'1. open': '121.7800',\n",
       "  '2. high': '121.7900',\n",
       "  '3. low': '121.6000',\n",
       "  '4. close': '121.7100',\n",
       "  '5. volume': '74083'},\n",
       " '2022-10-03 15:15:00': {'1. open': '122.0100',\n",
       "  '2. high': '122.0100',\n",
       "  '3. low': '121.7650',\n",
       "  '4. close': '121.8100',\n",
       "  '5. volume': '46973'},\n",
       " '2022-10-03 15:10:00': {'1. open': '122.0500',\n",
       "  '2. high': '122.1300',\n",
       "  '3. low': '121.9700',\n",
       "  '4. close': '122.0000',\n",
       "  '5. volume': '34762'},\n",
       " '2022-10-03 15:05:00': {'1. open': '122.1100',\n",
       "  '2. high': '122.1200',\n",
       "  '3. low': '122.0096',\n",
       "  '4. close': '122.0410',\n",
       "  '5. volume': '28100'},\n",
       " '2022-10-03 15:00:00': {'1. open': '122.1200',\n",
       "  '2. high': '122.2100',\n",
       "  '3. low': '122.0800',\n",
       "  '4. close': '122.1200',\n",
       "  '5. volume': '31093'},\n",
       " '2022-10-03 14:55:00': {'1. open': '122.0400',\n",
       "  '2. high': '122.1400',\n",
       "  '3. low': '122.0300',\n",
       "  '4. close': '122.1150',\n",
       "  '5. volume': '30596'},\n",
       " '2022-10-03 14:50:00': {'1. open': '121.9800',\n",
       "  '2. high': '122.0900',\n",
       "  '3. low': '121.9350',\n",
       "  '4. close': '122.0300',\n",
       "  '5. volume': '39840'},\n",
       " '2022-10-03 14:45:00': {'1. open': '121.9200',\n",
       "  '2. high': '122.0300',\n",
       "  '3. low': '121.9000',\n",
       "  '4. close': '121.9900',\n",
       "  '5. volume': '29601'},\n",
       " '2022-10-03 14:40:00': {'1. open': '121.9350',\n",
       "  '2. high': '122.0000',\n",
       "  '3. low': '121.9100',\n",
       "  '4. close': '121.9100',\n",
       "  '5. volume': '31826'},\n",
       " '2022-10-03 14:35:00': {'1. open': '121.9300',\n",
       "  '2. high': '121.9900',\n",
       "  '3. low': '121.8800',\n",
       "  '4. close': '121.9500',\n",
       "  '5. volume': '34874'},\n",
       " '2022-10-03 14:30:00': {'1. open': '121.8700',\n",
       "  '2. high': '121.9618',\n",
       "  '3. low': '121.7700',\n",
       "  '4. close': '121.9350',\n",
       "  '5. volume': '59183'},\n",
       " '2022-10-03 14:25:00': {'1. open': '121.8800',\n",
       "  '2. high': '121.9752',\n",
       "  '3. low': '121.8500',\n",
       "  '4. close': '121.8900',\n",
       "  '5. volume': '46166'},\n",
       " '2022-10-03 14:20:00': {'1. open': '121.8600',\n",
       "  '2. high': '121.9300',\n",
       "  '3. low': '121.8400',\n",
       "  '4. close': '121.8700',\n",
       "  '5. volume': '17357'},\n",
       " '2022-10-03 14:15:00': {'1. open': '121.8200',\n",
       "  '2. high': '121.9200',\n",
       "  '3. low': '121.8200',\n",
       "  '4. close': '121.8600',\n",
       "  '5. volume': '23119'},\n",
       " '2022-10-03 14:10:00': {'1. open': '121.8000',\n",
       "  '2. high': '121.9100',\n",
       "  '3. low': '121.7845',\n",
       "  '4. close': '121.8200',\n",
       "  '5. volume': '23151'},\n",
       " '2022-10-03 14:05:00': {'1. open': '121.7900',\n",
       "  '2. high': '121.8900',\n",
       "  '3. low': '121.7900',\n",
       "  '4. close': '121.8000',\n",
       "  '5. volume': '22837'},\n",
       " '2022-10-03 14:00:00': {'1. open': '121.7800',\n",
       "  '2. high': '121.8500',\n",
       "  '3. low': '121.7600',\n",
       "  '4. close': '121.7800',\n",
       "  '5. volume': '19779'},\n",
       " '2022-10-03 13:55:00': {'1. open': '121.7900',\n",
       "  '2. high': '121.8069',\n",
       "  '3. low': '121.7400',\n",
       "  '4. close': '121.7700',\n",
       "  '5. volume': '17141'},\n",
       " '2022-10-03 13:50:00': {'1. open': '121.7300',\n",
       "  '2. high': '121.8600',\n",
       "  '3. low': '121.7250',\n",
       "  '4. close': '121.8000',\n",
       "  '5. volume': '24954'},\n",
       " '2022-10-03 13:45:00': {'1. open': '121.7400',\n",
       "  '2. high': '121.8050',\n",
       "  '3. low': '121.6450',\n",
       "  '4. close': '121.7200',\n",
       "  '5. volume': '20083'},\n",
       " '2022-10-03 13:40:00': {'1. open': '121.8000',\n",
       "  '2. high': '121.8200',\n",
       "  '3. low': '121.7061',\n",
       "  '4. close': '121.7372',\n",
       "  '5. volume': '22122'},\n",
       " '2022-10-03 13:35:00': {'1. open': '121.6200',\n",
       "  '2. high': '121.8600',\n",
       "  '3. low': '121.6000',\n",
       "  '4. close': '121.8200',\n",
       "  '5. volume': '26557'},\n",
       " '2022-10-03 13:30:00': {'1. open': '121.7400',\n",
       "  '2. high': '121.7400',\n",
       "  '3. low': '121.5900',\n",
       "  '4. close': '121.6200',\n",
       "  '5. volume': '25554'},\n",
       " '2022-10-03 13:25:00': {'1. open': '121.5300',\n",
       "  '2. high': '121.8000',\n",
       "  '3. low': '121.5200',\n",
       "  '4. close': '121.7400',\n",
       "  '5. volume': '38776'},\n",
       " '2022-10-03 13:20:00': {'1. open': '121.6100',\n",
       "  '2. high': '121.6200',\n",
       "  '3. low': '121.5200',\n",
       "  '4. close': '121.5450',\n",
       "  '5. volume': '23878'},\n",
       " '2022-10-03 13:15:00': {'1. open': '121.7000',\n",
       "  '2. high': '121.7200',\n",
       "  '3. low': '121.5893',\n",
       "  '4. close': '121.6250',\n",
       "  '5. volume': '24344'},\n",
       " '2022-10-03 13:10:00': {'1. open': '121.6300',\n",
       "  '2. high': '121.7000',\n",
       "  '3. low': '121.5200',\n",
       "  '4. close': '121.6700',\n",
       "  '5. volume': '21395'},\n",
       " '2022-10-03 13:05:00': {'1. open': '121.5700',\n",
       "  '2. high': '121.7200',\n",
       "  '3. low': '121.5500',\n",
       "  '4. close': '121.6100',\n",
       "  '5. volume': '22631'},\n",
       " '2022-10-03 13:00:00': {'1. open': '121.4901',\n",
       "  '2. high': '121.5700',\n",
       "  '3. low': '121.4200',\n",
       "  '4. close': '121.5700',\n",
       "  '5. volume': '36357'},\n",
       " '2022-10-03 12:55:00': {'1. open': '121.5750',\n",
       "  '2. high': '121.6300',\n",
       "  '3. low': '121.4100',\n",
       "  '4. close': '121.4950',\n",
       "  '5. volume': '19624'},\n",
       " '2022-10-03 12:50:00': {'1. open': '121.5000',\n",
       "  '2. high': '121.5976',\n",
       "  '3. low': '121.4300',\n",
       "  '4. close': '121.5550',\n",
       "  '5. volume': '18667'},\n",
       " '2022-10-03 12:45:00': {'1. open': '121.4900',\n",
       "  '2. high': '121.5000',\n",
       "  '3. low': '121.4050',\n",
       "  '4. close': '121.4890',\n",
       "  '5. volume': '23263'},\n",
       " '2022-10-03 12:40:00': {'1. open': '121.4200',\n",
       "  '2. high': '121.5000',\n",
       "  '3. low': '121.3286',\n",
       "  '4. close': '121.4900',\n",
       "  '5. volume': '26219'},\n",
       " '2022-10-03 12:35:00': {'1. open': '121.4100',\n",
       "  '2. high': '121.4255',\n",
       "  '3. low': '121.2300',\n",
       "  '4. close': '121.4255',\n",
       "  '5. volume': '20376'},\n",
       " '2022-10-03 12:30:00': {'1. open': '121.6300',\n",
       "  '2. high': '121.6550',\n",
       "  '3. low': '121.4000',\n",
       "  '4. close': '121.4200',\n",
       "  '5. volume': '24995'},\n",
       " '2022-10-03 12:25:00': {'1. open': '121.6600',\n",
       "  '2. high': '121.6700',\n",
       "  '3. low': '121.4900',\n",
       "  '4. close': '121.6400',\n",
       "  '5. volume': '31252'},\n",
       " '2022-10-03 12:20:00': {'1. open': '121.7650',\n",
       "  '2. high': '121.7650',\n",
       "  '3. low': '121.6100',\n",
       "  '4. close': '121.6550',\n",
       "  '5. volume': '17581'},\n",
       " '2022-10-03 12:15:00': {'1. open': '121.7700',\n",
       "  '2. high': '121.8300',\n",
       "  '3. low': '121.7300',\n",
       "  '4. close': '121.7600',\n",
       "  '5. volume': '22383'},\n",
       " '2022-10-03 12:10:00': {'1. open': '121.6548',\n",
       "  '2. high': '121.7900',\n",
       "  '3. low': '121.6200',\n",
       "  '4. close': '121.7800',\n",
       "  '5. volume': '28920'},\n",
       " '2022-10-03 12:05:00': {'1. open': '121.4600',\n",
       "  '2. high': '121.6800',\n",
       "  '3. low': '121.4600',\n",
       "  '4. close': '121.6450',\n",
       "  '5. volume': '22955'},\n",
       " '2022-10-03 12:00:00': {'1. open': '121.4700',\n",
       "  '2. high': '121.5200',\n",
       "  '3. low': '121.3100',\n",
       "  '4. close': '121.4800',\n",
       "  '5. volume': '26001'},\n",
       " '2022-10-03 11:55:00': {'1. open': '121.5800',\n",
       "  '2. high': '121.6300',\n",
       "  '3. low': '121.4900',\n",
       "  '4. close': '121.4900',\n",
       "  '5. volume': '18573'},\n",
       " '2022-10-03 11:50:00': {'1. open': '121.4100',\n",
       "  '2. high': '121.5700',\n",
       "  '3. low': '121.3800',\n",
       "  '4. close': '121.5600',\n",
       "  '5. volume': '25562'},\n",
       " '2022-10-03 11:45:00': {'1. open': '121.4450',\n",
       "  '2. high': '121.4800',\n",
       "  '3. low': '121.2700',\n",
       "  '4. close': '121.3950',\n",
       "  '5. volume': '29252'},\n",
       " '2022-10-03 11:40:00': {'1. open': '121.4900',\n",
       "  '2. high': '121.5000',\n",
       "  '3. low': '121.3200',\n",
       "  '4. close': '121.4427',\n",
       "  '5. volume': '27221'},\n",
       " '2022-10-03 11:35:00': {'1. open': '121.5300',\n",
       "  '2. high': '121.5600',\n",
       "  '3. low': '121.3450',\n",
       "  '4. close': '121.5000',\n",
       "  '5. volume': '40475'},\n",
       " '2022-10-03 11:30:00': {'1. open': '121.6300',\n",
       "  '2. high': '121.6300',\n",
       "  '3. low': '121.4900',\n",
       "  '4. close': '121.5300',\n",
       "  '5. volume': '36842'},\n",
       " '2022-10-03 11:25:00': {'1. open': '121.5100',\n",
       "  '2. high': '121.6800',\n",
       "  '3. low': '121.3500',\n",
       "  '4. close': '121.6324',\n",
       "  '5. volume': '44568'},\n",
       " '2022-10-03 11:20:00': {'1. open': '121.4800',\n",
       "  '2. high': '121.6350',\n",
       "  '3. low': '121.4700',\n",
       "  '4. close': '121.5100',\n",
       "  '5. volume': '36867'},\n",
       " '2022-10-03 11:15:00': {'1. open': '121.5600',\n",
       "  '2. high': '121.6100',\n",
       "  '3. low': '121.3900',\n",
       "  '4. close': '121.4800',\n",
       "  '5. volume': '60274'},\n",
       " '2022-10-03 11:10:00': {'1. open': '121.4250',\n",
       "  '2. high': '121.5600',\n",
       "  '3. low': '121.2950',\n",
       "  '4. close': '121.5267',\n",
       "  '5. volume': '35855'},\n",
       " '2022-10-03 11:05:00': {'1. open': '121.2900',\n",
       "  '2. high': '121.4850',\n",
       "  '3. low': '121.2900',\n",
       "  '4. close': '121.4400',\n",
       "  '5. volume': '30681'},\n",
       " '2022-10-03 11:00:00': {'1. open': '121.4173',\n",
       "  '2. high': '121.5500',\n",
       "  '3. low': '121.3000',\n",
       "  '4. close': '121.3100',\n",
       "  '5. volume': '52298'},\n",
       " '2022-10-03 10:55:00': {'1. open': '121.4050',\n",
       "  '2. high': '121.4500',\n",
       "  '3. low': '121.3100',\n",
       "  '4. close': '121.4071',\n",
       "  '5. volume': '40754'},\n",
       " '2022-10-03 10:50:00': {'1. open': '121.0200',\n",
       "  '2. high': '121.4300',\n",
       "  '3. low': '121.0200',\n",
       "  '4. close': '121.4000',\n",
       "  '5. volume': '35476'},\n",
       " '2022-10-03 10:45:00': {'1. open': '121.0200',\n",
       "  '2. high': '121.1200',\n",
       "  '3. low': '120.8500',\n",
       "  '4. close': '120.9700',\n",
       "  '5. volume': '81918'},\n",
       " '2022-10-03 10:40:00': {'1. open': '121.0000',\n",
       "  '2. high': '121.1400',\n",
       "  '3. low': '120.9800',\n",
       "  '4. close': '121.0200',\n",
       "  '5. volume': '36135'},\n",
       " '2022-10-03 10:35:00': {'1. open': '121.1600',\n",
       "  '2. high': '121.3100',\n",
       "  '3. low': '120.9500',\n",
       "  '4. close': '120.9800',\n",
       "  '5. volume': '56555'},\n",
       " '2022-10-03 10:30:00': {'1. open': '121.2000',\n",
       "  '2. high': '121.3465',\n",
       "  '3. low': '121.1200',\n",
       "  '4. close': '121.1400',\n",
       "  '5. volume': '47607'},\n",
       " '2022-10-03 10:25:00': {'1. open': '121.0000',\n",
       "  '2. high': '121.2400',\n",
       "  '3. low': '121.0000',\n",
       "  '4. close': '121.2100',\n",
       "  '5. volume': '51072'},\n",
       " '2022-10-03 10:20:00': {'1. open': '120.8900',\n",
       "  '2. high': '121.0900',\n",
       "  '3. low': '120.7850',\n",
       "  '4. close': '121.0000',\n",
       "  '5. volume': '45834'},\n",
       " '2022-10-03 10:15:00': {'1. open': '120.8400',\n",
       "  '2. high': '120.9900',\n",
       "  '3. low': '120.7600',\n",
       "  '4. close': '120.8900',\n",
       "  '5. volume': '51212'},\n",
       " '2022-10-03 10:10:00': {'1. open': '120.2480',\n",
       "  '2. high': '120.8600',\n",
       "  '3. low': '120.2450',\n",
       "  '4. close': '120.7800',\n",
       "  '5. volume': '64652'},\n",
       " '2022-10-03 10:05:00': {'1. open': '119.8200',\n",
       "  '2. high': '120.2900',\n",
       "  '3. low': '119.7900',\n",
       "  '4. close': '120.2200',\n",
       "  '5. volume': '41575'},\n",
       " '2022-10-03 10:00:00': {'1. open': '119.7100',\n",
       "  '2. high': '119.9800',\n",
       "  '3. low': '119.6600',\n",
       "  '4. close': '119.8000',\n",
       "  '5. volume': '36245'},\n",
       " '2022-10-03 09:55:00': {'1. open': '120.1500',\n",
       "  '2. high': '120.2300',\n",
       "  '3. low': '119.6200',\n",
       "  '4. close': '119.7200',\n",
       "  '5. volume': '47772'},\n",
       " '2022-10-03 09:50:00': {'1. open': '120.3300',\n",
       "  '2. high': '120.4600',\n",
       "  '3. low': '120.1100',\n",
       "  '4. close': '120.1500',\n",
       "  '5. volume': '61173'},\n",
       " '2022-10-03 09:45:00': {'1. open': '120.0851',\n",
       "  '2. high': '120.3900',\n",
       "  '3. low': '119.9900',\n",
       "  '4. close': '120.3000',\n",
       "  '5. volume': '35285'},\n",
       " '2022-10-03 09:40:00': {'1. open': '120.0800',\n",
       "  '2. high': '120.0800',\n",
       "  '3. low': '119.6000',\n",
       "  '4. close': '120.0500',\n",
       "  '5. volume': '55306'},\n",
       " '2022-10-03 09:35:00': {'1. open': '120.1600',\n",
       "  '2. high': '120.2000',\n",
       "  '3. low': '119.7900',\n",
       "  '4. close': '120.1247',\n",
       "  '5. volume': '143670'},\n",
       " '2022-10-03 09:30:00': {'1. open': '120.1504',\n",
       "  '2. high': '120.1600',\n",
       "  '3. low': '120.1504',\n",
       "  '4. close': '120.1600',\n",
       "  '5. volume': '300'},\n",
       " '2022-10-03 09:25:00': {'1. open': '120.1600',\n",
       "  '2. high': '120.1600',\n",
       "  '3. low': '120.1600',\n",
       "  '4. close': '120.1600',\n",
       "  '5. volume': '100'},\n",
       " '2022-10-03 09:20:00': {'1. open': '120.1700',\n",
       "  '2. high': '120.1700',\n",
       "  '3. low': '120.1700',\n",
       "  '4. close': '120.1700',\n",
       "  '5. volume': '486'},\n",
       " '2022-10-03 09:00:00': {'1. open': '120.2500',\n",
       "  '2. high': '120.2500',\n",
       "  '3. low': '120.2500',\n",
       "  '4. close': '120.2500',\n",
       "  '5. volume': '100'},\n",
       " '2022-10-03 08:50:00': {'1. open': '119.5200',\n",
       "  '2. high': '119.7000',\n",
       "  '3. low': '119.4300',\n",
       "  '4. close': '119.7000',\n",
       "  '5. volume': '1092'},\n",
       " '2022-10-03 05:10:00': {'1. open': '118.8100',\n",
       "  '2. high': '118.8100',\n",
       "  '3. low': '118.8100',\n",
       "  '4. close': '118.8100',\n",
       "  '5. volume': '209'},\n",
       " '2022-09-30 19:45:00': {'1. open': '119.0500',\n",
       "  '2. high': '119.0500',\n",
       "  '3. low': '119.0500',\n",
       "  '4. close': '119.0500',\n",
       "  '5. volume': '100'},\n",
       " '2022-09-30 17:30:00': {'1. open': '119.0500',\n",
       "  '2. high': '119.0500',\n",
       "  '3. low': '119.0500',\n",
       "  '4. close': '119.0500',\n",
       "  '5. volume': '225'},\n",
       " '2022-09-30 17:10:00': {'1. open': '119.0000',\n",
       "  '2. high': '119.0000',\n",
       "  '3. low': '119.0000',\n",
       "  '4. close': '119.0000',\n",
       "  '5. volume': '430'},\n",
       " '2022-09-30 17:00:00': {'1. open': '118.8600',\n",
       "  '2. high': '118.8600',\n",
       "  '3. low': '118.8500',\n",
       "  '4. close': '118.8500',\n",
       "  '5. volume': '1278'},\n",
       " '2022-09-30 16:55:00': {'1. open': '118.9700',\n",
       "  '2. high': '118.9700',\n",
       "  '3. low': '118.9700',\n",
       "  '4. close': '118.9700',\n",
       "  '5. volume': '408'},\n",
       " '2022-09-30 16:50:00': {'1. open': '119.0000',\n",
       "  '2. high': '119.0000',\n",
       "  '3. low': '119.0000',\n",
       "  '4. close': '119.0000',\n",
       "  '5. volume': '317'},\n",
       " '2022-09-30 16:30:00': {'1. open': '119.1600',\n",
       "  '2. high': '119.1600',\n",
       "  '3. low': '119.1600',\n",
       "  '4. close': '119.1600',\n",
       "  '5. volume': '215'},\n",
       " '2022-09-30 16:25:00': {'1. open': '119.3900',\n",
       "  '2. high': '119.3900',\n",
       "  '3. low': '119.1200',\n",
       "  '4. close': '119.1200',\n",
       "  '5. volume': '928'}}"
      ]
     },
     "execution_count": 44,
     "metadata": {},
     "output_type": "execute_result"
    }
   ],
   "source": [
    "# extract time series data\n",
    "data = response.json()\n",
    "data['Time Series (5min)']"
   ]
  },
  {
   "cell_type": "markdown",
   "metadata": {},
   "source": [
    "**Using Params**\n",
    "\n",
    "- `function`\n",
    "- `symbol`\n",
    "- `interval`\n",
    "- `api_key`"
   ]
  },
  {
   "cell_type": "code",
   "execution_count": 60,
   "metadata": {
    "id": "c5Se02hfyvU6"
   },
   "outputs": [
    {
     "data": {
      "text/plain": [
       "<Response [200]>"
      ]
     },
     "execution_count": 60,
     "metadata": {},
     "output_type": "execute_result"
    }
   ],
   "source": [
    "# another request\n",
    "base_url = 'https://www.alphavantage.co/query'\n",
    "response = requests.get(base_url, params={'function': 'TIME_SERIES_INTRADAY',\n",
    "                                         'symbol': ['IBM', 'TSLA'],\n",
    "                                         'interval': '5min',\n",
    "                                         'apikey': 'LW9XCI6UYMQY5E14'})\n",
    "response"
   ]
  },
  {
   "cell_type": "code",
   "execution_count": 61,
   "metadata": {
    "id": "G8BU3jC-zIq8"
   },
   "outputs": [
    {
     "data": {
      "text/plain": [
       "{'Meta Data': {'1. Information': 'Intraday (5min) open, high, low, close prices and volume',\n",
       "  '2. Symbol': 'TSLA',\n",
       "  '3. Last Refreshed': '2022-10-03 20:00:00',\n",
       "  '4. Interval': '5min',\n",
       "  '5. Output Size': 'Compact',\n",
       "  '6. Time Zone': 'US/Eastern'},\n",
       " 'Time Series (5min)': {'2022-10-03 20:00:00': {'1. open': '243.9400',\n",
       "   '2. high': '243.9500',\n",
       "   '3. low': '243.7000',\n",
       "   '4. close': '243.7000',\n",
       "   '5. volume': '27269'},\n",
       "  '2022-10-03 19:55:00': {'1. open': '243.7900',\n",
       "   '2. high': '243.9400',\n",
       "   '3. low': '243.6000',\n",
       "   '4. close': '243.9200',\n",
       "   '5. volume': '22377'},\n",
       "  '2022-10-03 19:50:00': {'1. open': '243.7500',\n",
       "   '2. high': '243.8400',\n",
       "   '3. low': '243.6800',\n",
       "   '4. close': '243.7700',\n",
       "   '5. volume': '14649'},\n",
       "  '2022-10-03 19:45:00': {'1. open': '243.6800',\n",
       "   '2. high': '243.8200',\n",
       "   '3. low': '243.6800',\n",
       "   '4. close': '243.8000',\n",
       "   '5. volume': '8550'},\n",
       "  '2022-10-03 19:40:00': {'1. open': '243.7600',\n",
       "   '2. high': '243.8400',\n",
       "   '3. low': '243.6500',\n",
       "   '4. close': '243.6600',\n",
       "   '5. volume': '11022'},\n",
       "  '2022-10-03 19:35:00': {'1. open': '243.8000',\n",
       "   '2. high': '243.9000',\n",
       "   '3. low': '243.7100',\n",
       "   '4. close': '243.7900',\n",
       "   '5. volume': '8517'},\n",
       "  '2022-10-03 19:30:00': {'1. open': '243.7600',\n",
       "   '2. high': '243.9900',\n",
       "   '3. low': '243.7500',\n",
       "   '4. close': '243.7500',\n",
       "   '5. volume': '17121'},\n",
       "  '2022-10-03 19:25:00': {'1. open': '243.6500',\n",
       "   '2. high': '243.9000',\n",
       "   '3. low': '243.6500',\n",
       "   '4. close': '243.8000',\n",
       "   '5. volume': '20075'},\n",
       "  '2022-10-03 19:20:00': {'1. open': '243.5700',\n",
       "   '2. high': '243.6500',\n",
       "   '3. low': '243.5700',\n",
       "   '4. close': '243.6500',\n",
       "   '5. volume': '7497'},\n",
       "  '2022-10-03 19:15:00': {'1. open': '243.6300',\n",
       "   '2. high': '243.6900',\n",
       "   '3. low': '243.5000',\n",
       "   '4. close': '243.5900',\n",
       "   '5. volume': '10797'},\n",
       "  '2022-10-03 19:10:00': {'1. open': '243.6300',\n",
       "   '2. high': '243.6300',\n",
       "   '3. low': '243.5400',\n",
       "   '4. close': '243.6100',\n",
       "   '5. volume': '7669'},\n",
       "  '2022-10-03 19:05:00': {'1. open': '243.5600',\n",
       "   '2. high': '243.7000',\n",
       "   '3. low': '243.5500',\n",
       "   '4. close': '243.6000',\n",
       "   '5. volume': '8109'},\n",
       "  '2022-10-03 19:00:00': {'1. open': '243.6500',\n",
       "   '2. high': '243.7000',\n",
       "   '3. low': '243.5500',\n",
       "   '4. close': '243.5500',\n",
       "   '5. volume': '6621'},\n",
       "  '2022-10-03 18:55:00': {'1. open': '243.5600',\n",
       "   '2. high': '243.7000',\n",
       "   '3. low': '243.5600',\n",
       "   '4. close': '243.6000',\n",
       "   '5. volume': '6527'},\n",
       "  '2022-10-03 18:50:00': {'1. open': '243.5500',\n",
       "   '2. high': '243.6800',\n",
       "   '3. low': '243.5500',\n",
       "   '4. close': '243.6500',\n",
       "   '5. volume': '9106'},\n",
       "  '2022-10-03 18:45:00': {'1. open': '243.1900',\n",
       "   '2. high': '243.6000',\n",
       "   '3. low': '243.1000',\n",
       "   '4. close': '243.6000',\n",
       "   '5. volume': '7285'},\n",
       "  '2022-10-03 18:40:00': {'1. open': '242.9200',\n",
       "   '2. high': '243.1800',\n",
       "   '3. low': '242.9100',\n",
       "   '4. close': '243.0500',\n",
       "   '5. volume': '6716'},\n",
       "  '2022-10-03 18:35:00': {'1. open': '243.6000',\n",
       "   '2. high': '243.6000',\n",
       "   '3. low': '242.8000',\n",
       "   '4. close': '242.9500',\n",
       "   '5. volume': '43598'},\n",
       "  '2022-10-03 18:30:00': {'1. open': '243.6600',\n",
       "   '2. high': '243.8300',\n",
       "   '3. low': '243.5000',\n",
       "   '4. close': '243.6000',\n",
       "   '5. volume': '9767'},\n",
       "  '2022-10-03 18:25:00': {'1. open': '243.5800',\n",
       "   '2. high': '243.8100',\n",
       "   '3. low': '243.5200',\n",
       "   '4. close': '243.7600',\n",
       "   '5. volume': '11449'},\n",
       "  '2022-10-03 18:20:00': {'1. open': '243.8000',\n",
       "   '2. high': '243.8000',\n",
       "   '3. low': '243.5600',\n",
       "   '4. close': '243.5600',\n",
       "   '5. volume': '9718'},\n",
       "  '2022-10-03 18:15:00': {'1. open': '243.9000',\n",
       "   '2. high': '243.9000',\n",
       "   '3. low': '243.7400',\n",
       "   '4. close': '243.9000',\n",
       "   '5. volume': '14535'},\n",
       "  '2022-10-03 18:10:00': {'1. open': '243.6500',\n",
       "   '2. high': '243.9600',\n",
       "   '3. low': '243.5900',\n",
       "   '4. close': '243.8400',\n",
       "   '5. volume': '25357'},\n",
       "  '2022-10-03 18:05:00': {'1. open': '243.2900',\n",
       "   '2. high': '243.7000',\n",
       "   '3. low': '243.2900',\n",
       "   '4. close': '243.6000',\n",
       "   '5. volume': '32353'},\n",
       "  '2022-10-03 18:00:00': {'1. open': '243.3200',\n",
       "   '2. high': '243.3400',\n",
       "   '3. low': '243.2000',\n",
       "   '4. close': '243.2800',\n",
       "   '5. volume': '4939'},\n",
       "  '2022-10-03 17:55:00': {'1. open': '243.2686',\n",
       "   '2. high': '243.3900',\n",
       "   '3. low': '243.2100',\n",
       "   '4. close': '243.2100',\n",
       "   '5. volume': '13935'},\n",
       "  '2022-10-03 17:50:00': {'1. open': '243.4000',\n",
       "   '2. high': '243.4000',\n",
       "   '3. low': '243.2375',\n",
       "   '4. close': '243.3000',\n",
       "   '5. volume': '9192'},\n",
       "  '2022-10-03 17:45:00': {'1. open': '243.4300',\n",
       "   '2. high': '243.4400',\n",
       "   '3. low': '243.2100',\n",
       "   '4. close': '243.3000',\n",
       "   '5. volume': '4876'},\n",
       "  '2022-10-03 17:40:00': {'1. open': '243.4300',\n",
       "   '2. high': '243.4800',\n",
       "   '3. low': '243.2000',\n",
       "   '4. close': '243.4400',\n",
       "   '5. volume': '12062'},\n",
       "  '2022-10-03 17:35:00': {'1. open': '243.6100',\n",
       "   '2. high': '243.7000',\n",
       "   '3. low': '243.3000',\n",
       "   '4. close': '243.3306',\n",
       "   '5. volume': '10694'},\n",
       "  '2022-10-03 17:30:00': {'1. open': '243.6000',\n",
       "   '2. high': '243.6000',\n",
       "   '3. low': '243.3100',\n",
       "   '4. close': '243.6000',\n",
       "   '5. volume': '9105'},\n",
       "  '2022-10-03 17:25:00': {'1. open': '243.5700',\n",
       "   '2. high': '243.7000',\n",
       "   '3. low': '243.4000',\n",
       "   '4. close': '243.4800',\n",
       "   '5. volume': '16870'},\n",
       "  '2022-10-03 17:20:00': {'1. open': '243.5700',\n",
       "   '2. high': '243.8700',\n",
       "   '3. low': '243.3700',\n",
       "   '4. close': '243.6500',\n",
       "   '5. volume': '20604'},\n",
       "  '2022-10-03 17:15:00': {'1. open': '243.4000',\n",
       "   '2. high': '243.6700',\n",
       "   '3. low': '243.2500',\n",
       "   '4. close': '243.5900',\n",
       "   '5. volume': '16121'},\n",
       "  '2022-10-03 17:10:00': {'1. open': '243.5000',\n",
       "   '2. high': '243.5000',\n",
       "   '3. low': '243.3000',\n",
       "   '4. close': '243.4200',\n",
       "   '5. volume': '12385'},\n",
       "  '2022-10-03 17:05:00': {'1. open': '243.2700',\n",
       "   '2. high': '243.4800',\n",
       "   '3. low': '243.2300',\n",
       "   '4. close': '243.4800',\n",
       "   '5. volume': '23814'},\n",
       "  '2022-10-03 17:00:00': {'1. open': '243.0900',\n",
       "   '2. high': '243.2700',\n",
       "   '3. low': '243.0900',\n",
       "   '4. close': '243.2700',\n",
       "   '5. volume': '23896'},\n",
       "  '2022-10-03 16:55:00': {'1. open': '243.1000',\n",
       "   '2. high': '243.2000',\n",
       "   '3. low': '243.0500',\n",
       "   '4. close': '243.1500',\n",
       "   '5. volume': '40702'},\n",
       "  '2022-10-03 16:50:00': {'1. open': '243.0800',\n",
       "   '2. high': '243.1500',\n",
       "   '3. low': '243.0100',\n",
       "   '4. close': '243.1400',\n",
       "   '5. volume': '9595'},\n",
       "  '2022-10-03 16:45:00': {'1. open': '243.1000',\n",
       "   '2. high': '243.1100',\n",
       "   '3. low': '242.4000',\n",
       "   '4. close': '243.1000',\n",
       "   '5. volume': '337670'},\n",
       "  '2022-10-03 16:40:00': {'1. open': '243.1500',\n",
       "   '2. high': '243.1900',\n",
       "   '3. low': '243.1000',\n",
       "   '4. close': '243.1000',\n",
       "   '5. volume': '13076'},\n",
       "  '2022-10-03 16:35:00': {'1. open': '243.1700',\n",
       "   '2. high': '243.2200',\n",
       "   '3. low': '242.4000',\n",
       "   '4. close': '243.1500',\n",
       "   '5. volume': '571923'},\n",
       "  '2022-10-03 16:30:00': {'1. open': '243.0800',\n",
       "   '2. high': '243.2199',\n",
       "   '3. low': '243.0800',\n",
       "   '4. close': '243.1800',\n",
       "   '5. volume': '15373'},\n",
       "  '2022-10-03 16:25:00': {'1. open': '242.8866',\n",
       "   '2. high': '243.1700',\n",
       "   '3. low': '242.4000',\n",
       "   '4. close': '243.1000',\n",
       "   '5. volume': '50762'},\n",
       "  '2022-10-03 16:20:00': {'1. open': '242.7502',\n",
       "   '2. high': '243.0000',\n",
       "   '3. low': '242.6000',\n",
       "   '4. close': '242.8900',\n",
       "   '5. volume': '37456'},\n",
       "  '2022-10-03 16:15:00': {'1. open': '242.7700',\n",
       "   '2. high': '242.9400',\n",
       "   '3. low': '242.4000',\n",
       "   '4. close': '242.8000',\n",
       "   '5. volume': '68534'},\n",
       "  '2022-10-03 16:10:00': {'1. open': '242.6400',\n",
       "   '2. high': '243.1200',\n",
       "   '3. low': '242.4000',\n",
       "   '4. close': '242.7400',\n",
       "   '5. volume': '101755'},\n",
       "  '2022-10-03 16:05:00': {'1. open': '242.4000',\n",
       "   '2. high': '243.1000',\n",
       "   '3. low': '241.2500',\n",
       "   '4. close': '242.6000',\n",
       "   '5. volume': '606676'},\n",
       "  '2022-10-03 16:00:00': {'1. open': '243.2300',\n",
       "   '2. high': '243.2300',\n",
       "   '3. low': '242.1900',\n",
       "   '4. close': '242.3400',\n",
       "   '5. volume': '2074377'},\n",
       "  '2022-10-03 15:55:00': {'1. open': '243.6600',\n",
       "   '2. high': '243.7700',\n",
       "   '3. low': '242.9664',\n",
       "   '4. close': '243.2300',\n",
       "   '5. volume': '1497337'},\n",
       "  '2022-10-03 15:50:00': {'1. open': '244.1800',\n",
       "   '2. high': '244.1900',\n",
       "   '3. low': '243.3900',\n",
       "   '4. close': '243.6300',\n",
       "   '5. volume': '1139192'},\n",
       "  '2022-10-03 15:45:00': {'1. open': '244.5800',\n",
       "   '2. high': '244.6400',\n",
       "   '3. low': '243.7405',\n",
       "   '4. close': '244.1800',\n",
       "   '5. volume': '1238690'},\n",
       "  '2022-10-03 15:40:00': {'1. open': '245.3800',\n",
       "   '2. high': '245.8800',\n",
       "   '3. low': '244.5200',\n",
       "   '4. close': '244.6086',\n",
       "   '5. volume': '1130377'},\n",
       "  '2022-10-03 15:35:00': {'1. open': '245.6732',\n",
       "   '2. high': '246.1700',\n",
       "   '3. low': '245.3400',\n",
       "   '4. close': '245.4100',\n",
       "   '5. volume': '927833'},\n",
       "  '2022-10-03 15:30:00': {'1. open': '246.1850',\n",
       "   '2. high': '246.5700',\n",
       "   '3. low': '245.5634',\n",
       "   '4. close': '245.6850',\n",
       "   '5. volume': '962944'},\n",
       "  '2022-10-03 15:25:00': {'1. open': '245.5300',\n",
       "   '2. high': '246.2500',\n",
       "   '3. low': '245.2100',\n",
       "   '4. close': '246.2081',\n",
       "   '5. volume': '1071104'},\n",
       "  '2022-10-03 15:20:00': {'1. open': '247.0497',\n",
       "   '2. high': '247.1994',\n",
       "   '3. low': '245.4900',\n",
       "   '4. close': '245.5500',\n",
       "   '5. volume': '1160667'},\n",
       "  '2022-10-03 15:15:00': {'1. open': '247.1887',\n",
       "   '2. high': '247.2000',\n",
       "   '3. low': '246.3844',\n",
       "   '4. close': '247.0550',\n",
       "   '5. volume': '1153462'},\n",
       "  '2022-10-03 15:10:00': {'1. open': '246.1550',\n",
       "   '2. high': '247.2550',\n",
       "   '3. low': '245.6000',\n",
       "   '4. close': '247.1500',\n",
       "   '5. volume': '1480605'},\n",
       "  '2022-10-03 15:05:00': {'1. open': '245.0301',\n",
       "   '2. high': '246.3800',\n",
       "   '3. low': '244.9300',\n",
       "   '4. close': '246.1600',\n",
       "   '5. volume': '1417340'},\n",
       "  '2022-10-03 15:00:00': {'1. open': '245.4725',\n",
       "   '2. high': '245.9400',\n",
       "   '3. low': '245.0100',\n",
       "   '4. close': '245.0500',\n",
       "   '5. volume': '950651'},\n",
       "  '2022-10-03 14:55:00': {'1. open': '245.1514',\n",
       "   '2. high': '245.8700',\n",
       "   '3. low': '244.7250',\n",
       "   '4. close': '245.4689',\n",
       "   '5. volume': '1142874'},\n",
       "  '2022-10-03 14:50:00': {'1. open': '244.8500',\n",
       "   '2. high': '245.5999',\n",
       "   '3. low': '244.3400',\n",
       "   '4. close': '245.1399',\n",
       "   '5. volume': '1237213'},\n",
       "  '2022-10-03 14:45:00': {'1. open': '243.7500',\n",
       "   '2. high': '245.0200',\n",
       "   '3. low': '243.0950',\n",
       "   '4. close': '244.8600',\n",
       "   '5. volume': '1343126'},\n",
       "  '2022-10-03 14:40:00': {'1. open': '243.2900',\n",
       "   '2. high': '243.8100',\n",
       "   '3. low': '242.9500',\n",
       "   '4. close': '243.7354',\n",
       "   '5. volume': '1001617'},\n",
       "  '2022-10-03 14:35:00': {'1. open': '242.6800',\n",
       "   '2. high': '243.3700',\n",
       "   '3. low': '242.5300',\n",
       "   '4. close': '243.2700',\n",
       "   '5. volume': '630169'},\n",
       "  '2022-10-03 14:30:00': {'1. open': '242.9400',\n",
       "   '2. high': '243.0788',\n",
       "   '3. low': '242.2800',\n",
       "   '4. close': '242.7200',\n",
       "   '5. volume': '694555'},\n",
       "  '2022-10-03 14:25:00': {'1. open': '242.9900',\n",
       "   '2. high': '243.5399',\n",
       "   '3. low': '242.8300',\n",
       "   '4. close': '242.9407',\n",
       "   '5. volume': '720028'},\n",
       "  '2022-10-03 14:20:00': {'1. open': '242.6575',\n",
       "   '2. high': '243.2400',\n",
       "   '3. low': '242.4300',\n",
       "   '4. close': '242.9850',\n",
       "   '5. volume': '601401'},\n",
       "  '2022-10-03 14:15:00': {'1. open': '241.9700',\n",
       "   '2. high': '243.0100',\n",
       "   '3. low': '241.8400',\n",
       "   '4. close': '242.6500',\n",
       "   '5. volume': '678201'},\n",
       "  '2022-10-03 14:10:00': {'1. open': '241.8100',\n",
       "   '2. high': '242.3600',\n",
       "   '3. low': '241.6300',\n",
       "   '4. close': '241.9550',\n",
       "   '5. volume': '614347'},\n",
       "  '2022-10-03 14:05:00': {'1. open': '241.5800',\n",
       "   '2. high': '242.0900',\n",
       "   '3. low': '241.5487',\n",
       "   '4. close': '241.8599',\n",
       "   '5. volume': '564689'},\n",
       "  '2022-10-03 14:00:00': {'1. open': '242.0000',\n",
       "   '2. high': '242.0000',\n",
       "   '3. low': '241.3100',\n",
       "   '4. close': '241.5600',\n",
       "   '5. volume': '775298'},\n",
       "  '2022-10-03 13:55:00': {'1. open': '243.1800',\n",
       "   '2. high': '243.2650',\n",
       "   '3. low': '241.9200',\n",
       "   '4. close': '242.0038',\n",
       "   '5. volume': '643197'},\n",
       "  '2022-10-03 13:50:00': {'1. open': '242.8000',\n",
       "   '2. high': '243.6500',\n",
       "   '3. low': '242.7100',\n",
       "   '4. close': '243.2000',\n",
       "   '5. volume': '632453'},\n",
       "  '2022-10-03 13:45:00': {'1. open': '242.7204',\n",
       "   '2. high': '243.2450',\n",
       "   '3. low': '242.6000',\n",
       "   '4. close': '242.8000',\n",
       "   '5. volume': '546678'},\n",
       "  '2022-10-03 13:40:00': {'1. open': '243.6000',\n",
       "   '2. high': '243.6399',\n",
       "   '3. low': '242.7200',\n",
       "   '4. close': '242.7500',\n",
       "   '5. volume': '706419'},\n",
       "  '2022-10-03 13:35:00': {'1. open': '243.0500',\n",
       "   '2. high': '243.6900',\n",
       "   '3. low': '242.7700',\n",
       "   '4. close': '243.6066',\n",
       "   '5. volume': '802074'},\n",
       "  '2022-10-03 13:30:00': {'1. open': '243.0650',\n",
       "   '2. high': '243.6200',\n",
       "   '3. low': '242.8100',\n",
       "   '4. close': '243.0599',\n",
       "   '5. volume': '769368'},\n",
       "  '2022-10-03 13:25:00': {'1. open': '241.5697',\n",
       "   '2. high': '243.6000',\n",
       "   '3. low': '241.4700',\n",
       "   '4. close': '243.0500',\n",
       "   '5. volume': '1022866'},\n",
       "  '2022-10-03 13:20:00': {'1. open': '242.1899',\n",
       "   '2. high': '242.4600',\n",
       "   '3. low': '241.5500',\n",
       "   '4. close': '241.5500',\n",
       "   '5. volume': '581870'},\n",
       "  '2022-10-03 13:15:00': {'1. open': '242.6127',\n",
       "   '2. high': '242.8600',\n",
       "   '3. low': '242.0100',\n",
       "   '4. close': '242.1400',\n",
       "   '5. volume': '608166'},\n",
       "  '2022-10-03 13:10:00': {'1. open': '242.4300',\n",
       "   '2. high': '242.8800',\n",
       "   '3. low': '242.0300',\n",
       "   '4. close': '242.6147',\n",
       "   '5. volume': '632012'},\n",
       "  '2022-10-03 13:05:00': {'1. open': '242.2500',\n",
       "   '2. high': '242.7500',\n",
       "   '3. low': '242.0500',\n",
       "   '4. close': '242.4607',\n",
       "   '5. volume': '687716'},\n",
       "  '2022-10-03 13:00:00': {'1. open': '241.6550',\n",
       "   '2. high': '242.4500',\n",
       "   '3. low': '241.4800',\n",
       "   '4. close': '242.2300',\n",
       "   '5. volume': '697333'},\n",
       "  '2022-10-03 12:55:00': {'1. open': '242.5800',\n",
       "   '2. high': '242.7100',\n",
       "   '3. low': '241.0100',\n",
       "   '4. close': '241.6100',\n",
       "   '5. volume': '1270415'},\n",
       "  '2022-10-03 12:50:00': {'1. open': '243.8500',\n",
       "   '2. high': '243.9100',\n",
       "   '3. low': '242.4635',\n",
       "   '4. close': '242.6000',\n",
       "   '5. volume': '797738'},\n",
       "  '2022-10-03 12:45:00': {'1. open': '242.7750',\n",
       "   '2. high': '243.8816',\n",
       "   '3. low': '242.7750',\n",
       "   '4. close': '243.8508',\n",
       "   '5. volume': '718449'},\n",
       "  '2022-10-03 12:40:00': {'1. open': '243.2300',\n",
       "   '2. high': '243.2900',\n",
       "   '3. low': '242.2800',\n",
       "   '4. close': '242.7700',\n",
       "   '5. volume': '560509'},\n",
       "  '2022-10-03 12:35:00': {'1. open': '242.7546',\n",
       "   '2. high': '243.4900',\n",
       "   '3. low': '242.3800',\n",
       "   '4. close': '243.2500',\n",
       "   '5. volume': '565135'},\n",
       "  '2022-10-03 12:30:00': {'1. open': '243.1000',\n",
       "   '2. high': '243.6800',\n",
       "   '3. low': '242.4800',\n",
       "   '4. close': '242.7400',\n",
       "   '5. volume': '648622'},\n",
       "  '2022-10-03 12:25:00': {'1. open': '243.4784',\n",
       "   '2. high': '243.6300',\n",
       "   '3. low': '242.8000',\n",
       "   '4. close': '243.1683',\n",
       "   '5. volume': '681197'},\n",
       "  '2022-10-03 12:20:00': {'1. open': '243.6000',\n",
       "   '2. high': '243.9300',\n",
       "   '3. low': '242.9211',\n",
       "   '4. close': '243.4800',\n",
       "   '5. volume': '577523'},\n",
       "  '2022-10-03 12:15:00': {'1. open': '243.1300',\n",
       "   '2. high': '244.1000',\n",
       "   '3. low': '242.9400',\n",
       "   '4. close': '243.6200',\n",
       "   '5. volume': '1063079'},\n",
       "  '2022-10-03 12:10:00': {'1. open': '242.5200',\n",
       "   '2. high': '243.2000',\n",
       "   '3. low': '242.1000',\n",
       "   '4. close': '243.1500',\n",
       "   '5. volume': '844453'},\n",
       "  '2022-10-03 12:05:00': {'1. open': '242.6400',\n",
       "   '2. high': '243.1000',\n",
       "   '3. low': '242.4800',\n",
       "   '4. close': '242.5400',\n",
       "   '5. volume': '833425'},\n",
       "  '2022-10-03 12:00:00': {'1. open': '242.3000',\n",
       "   '2. high': '242.8500',\n",
       "   '3. low': '241.8000',\n",
       "   '4. close': '242.6600',\n",
       "   '5. volume': '1133974'},\n",
       "  '2022-10-03 11:55:00': {'1. open': '242.9200',\n",
       "   '2. high': '243.0400',\n",
       "   '3. low': '242.3000',\n",
       "   '4. close': '242.3000',\n",
       "   '5. volume': '808044'},\n",
       "  '2022-10-03 11:50:00': {'1. open': '243.6192',\n",
       "   '2. high': '243.7200',\n",
       "   '3. low': '242.7000',\n",
       "   '4. close': '242.9300',\n",
       "   '5. volume': '1105128'},\n",
       "  '2022-10-03 11:45:00': {'1. open': '244.4400',\n",
       "   '2. high': '244.4400',\n",
       "   '3. low': '243.5600',\n",
       "   '4. close': '243.5902',\n",
       "   '5. volume': '643824'}}}"
      ]
     },
     "execution_count": 61,
     "metadata": {},
     "output_type": "execute_result"
    }
   ],
   "source": [
    "# look at the results\n",
    "data = response.json()\n",
    "data"
   ]
  },
  {
   "cell_type": "code",
   "execution_count": 50,
   "metadata": {
    "colab": {
     "base_uri": "https://localhost:8080/"
    },
    "id": "8xo1Vb-FzKLZ",
    "outputId": "e685d0d2-b962-4193-9521-7ffa9bed016b"
   },
   "outputs": [
    {
     "name": "stdout",
     "output_type": "stream",
     "text": [
      "<class 'pandas.core.frame.DataFrame'>\n",
      "Index: 100 entries, 2022-10-03 20:00:00 to 2022-09-30 16:25:00\n",
      "Data columns (total 5 columns):\n",
      " #   Column     Non-Null Count  Dtype \n",
      "---  ------     --------------  ----- \n",
      " 0   1. open    100 non-null    object\n",
      " 1   2. high    100 non-null    object\n",
      " 2   3. low     100 non-null    object\n",
      " 3   4. close   100 non-null    object\n",
      " 4   5. volume  100 non-null    object\n",
      "dtypes: object(5)\n",
      "memory usage: 4.7+ KB\n"
     ]
    }
   ],
   "source": [
    "# format time series data as DataFrame\n",
    "ibm_data = pd.DataFrame(data['Time Series (5min)']).T\n",
    "ibm_data.info()"
   ]
  },
  {
   "cell_type": "code",
   "execution_count": null,
   "metadata": {},
   "outputs": [],
   "source": [
    "# look at the info\n"
   ]
  },
  {
   "cell_type": "code",
   "execution_count": 51,
   "metadata": {},
   "outputs": [],
   "source": [
    "# rename the columns\n",
    "ibm_data = pd.DataFrame(data['Time Series (5min)']).T\n",
    "ibm_data.info()\n",
    "cols = ['open', 'high', 'low', 'close', 'volume']\n",
    "ibm_data.columns = cols"
   ]
  },
  {
   "cell_type": "code",
   "execution_count": 53,
   "metadata": {},
   "outputs": [],
   "source": [
    "# format the data as floats using .astype()\n",
    "ibm_data = ibm_data.astype('float')"
   ]
  },
  {
   "cell_type": "code",
   "execution_count": 55,
   "metadata": {},
   "outputs": [],
   "source": [
    "# format the index as datetime\n",
    "ibm_data.index = pd.to_datetime(ibm_data.index)"
   ]
  },
  {
   "cell_type": "code",
   "execution_count": 56,
   "metadata": {},
   "outputs": [
    {
     "name": "stdout",
     "output_type": "stream",
     "text": [
      "<class 'pandas.core.frame.DataFrame'>\n",
      "DatetimeIndex: 100 entries, 2022-10-03 20:00:00 to 2022-09-30 16:25:00\n",
      "Data columns (total 5 columns):\n",
      " #   Column  Non-Null Count  Dtype  \n",
      "---  ------  --------------  -----  \n",
      " 0   open    100 non-null    float64\n",
      " 1   high    100 non-null    float64\n",
      " 2   low     100 non-null    float64\n",
      " 3   close   100 non-null    float64\n",
      " 4   volume  100 non-null    float64\n",
      "dtypes: float64(5)\n",
      "memory usage: 4.7 KB\n"
     ]
    }
   ],
   "source": [
    "# plots of volume and close in 2 rows 1 column\n",
    "ibm_data.info()"
   ]
  },
  {
   "cell_type": "markdown",
   "metadata": {
    "id": "D53Kyhja5Il4"
   },
   "source": [
    "**PROBLEM**\n",
    "\n",
    "Examine the earnings for TSLA to GM using the earnings endpoint [here](https://www.alphavantage.co/documentation/#earnings).  Create a scatterplot that visualizes these comparisons."
   ]
  },
  {
   "cell_type": "code",
   "execution_count": null,
   "metadata": {},
   "outputs": [],
   "source": []
  },
  {
   "cell_type": "code",
   "execution_count": null,
   "metadata": {},
   "outputs": [],
   "source": []
  },
  {
   "cell_type": "code",
   "execution_count": null,
   "metadata": {},
   "outputs": [],
   "source": []
  },
  {
   "cell_type": "code",
   "execution_count": null,
   "metadata": {},
   "outputs": [],
   "source": []
  },
  {
   "cell_type": "markdown",
   "metadata": {},
   "source": [
    "**PROBLEM**\n",
    "\n",
    "Use the consumer sentiment API [here](https://www.alphavantage.co/documentation/#consumer-sentiment).  Extract the dates and times and construct a DataFrame with appropriate datatypes and plot the results."
   ]
  },
  {
   "cell_type": "code",
   "execution_count": null,
   "metadata": {},
   "outputs": [],
   "source": []
  },
  {
   "cell_type": "code",
   "execution_count": null,
   "metadata": {},
   "outputs": [],
   "source": []
  },
  {
   "cell_type": "code",
   "execution_count": null,
   "metadata": {},
   "outputs": [],
   "source": []
  },
  {
   "cell_type": "code",
   "execution_count": null,
   "metadata": {},
   "outputs": [],
   "source": []
  },
  {
   "cell_type": "code",
   "execution_count": null,
   "metadata": {},
   "outputs": [],
   "source": []
  },
  {
   "cell_type": "markdown",
   "metadata": {},
   "source": [
    "#### API Wrappers\n",
    "\n",
    "Often, someone has written a library to wrap the API.  For example, there is an alpha vantage Python API wrapper:\n",
    "\n",
    "- https://github.com/RomelTorres/alpha_vantage\n",
    "\n",
    "Let's head over, install the library, and retrieve some intraday returns."
   ]
  },
  {
   "cell_type": "code",
   "execution_count": null,
   "metadata": {},
   "outputs": [],
   "source": []
  },
  {
   "cell_type": "code",
   "execution_count": null,
   "metadata": {},
   "outputs": [],
   "source": []
  },
  {
   "cell_type": "code",
   "execution_count": null,
   "metadata": {},
   "outputs": [],
   "source": []
  },
  {
   "cell_type": "code",
   "execution_count": null,
   "metadata": {},
   "outputs": [],
   "source": []
  },
  {
   "cell_type": "markdown",
   "metadata": {},
   "source": [
    "**PROBLEM**\n",
    "\n",
    "Head over to New York City's Open Data Portal documentation on the 311 calls api [here](https://dev.socrata.com/foundry/data.cityofnewyork.us/erm2-nwe9).  Use the Socrata library to make a request and retrieve the 2000 most recent 311 calls.  Construct a barplot with counts of calls for each borough and one for each complaint type."
   ]
  },
  {
   "cell_type": "code",
   "execution_count": null,
   "metadata": {},
   "outputs": [],
   "source": []
  },
  {
   "cell_type": "code",
   "execution_count": null,
   "metadata": {},
   "outputs": [],
   "source": []
  },
  {
   "cell_type": "code",
   "execution_count": null,
   "metadata": {},
   "outputs": [],
   "source": []
  },
  {
   "cell_type": "code",
   "execution_count": null,
   "metadata": {},
   "outputs": [],
   "source": []
  },
  {
   "cell_type": "code",
   "execution_count": null,
   "metadata": {},
   "outputs": [],
   "source": []
  }
 ],
 "metadata": {
  "colab": {
   "provenance": []
  },
  "kernelspec": {
   "display_name": "Python 3",
   "language": "python",
   "name": "python3"
  },
  "language_info": {
   "codemirror_mode": {
    "name": "ipython",
    "version": 3
   },
   "file_extension": ".py",
   "mimetype": "text/x-python",
   "name": "python",
   "nbconvert_exporter": "python",
   "pygments_lexer": "ipython3",
   "version": "3.8.3"
  }
 },
 "nbformat": 4,
 "nbformat_minor": 4
}
