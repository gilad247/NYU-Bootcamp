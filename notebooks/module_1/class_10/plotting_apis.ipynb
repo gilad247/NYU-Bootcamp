{
 "cells": [
  {
   "cell_type": "markdown",
   "metadata": {},
   "source": [
    "### More with API's and Wrappers\n",
    "\n",
    "This class focuses on more work with data visualization and `seaborn` as well as working with API's to retrieve data.  "
   ]
  },
  {
   "cell_type": "code",
   "execution_count": null,
   "metadata": {
    "id": "iGtdhTevN08g"
   },
   "outputs": [],
   "source": [
    "import seaborn as sns\n",
    "import matplotlib.pyplot as plt\n",
    "import numpy as np\n",
    "import pandas as pd \n",
    "import pandas_datareader as pdr\n",
    "import requests\n",
    "import statsmodels.api as sm"
   ]
  },
  {
   "cell_type": "code",
   "execution_count": null,
   "metadata": {},
   "outputs": [],
   "source": [
    "#pip install statsmodels"
   ]
  },
  {
   "cell_type": "markdown",
   "metadata": {},
   "source": [
    "**Warm Up**\n",
    "\n",
    "Below a dataset from the `statsmodels` library is described and loaded.  Examine the dataset and \n",
    "using `seaborn` prepare the following plots. \n",
    "\n",
    "- `pairplot` with data colored by the `type` feature\n",
    "- Side by side boxplot of `type` vs. `income` and barplot of average income by `type`"
   ]
  },
  {
   "cell_type": "code",
   "execution_count": null,
   "metadata": {
    "id": "y8HPXJJPODEE"
   },
   "outputs": [],
   "source": [
    "duncan_prestige = sm.datasets.get_rdataset(\"Duncan\", \"carData\")"
   ]
  },
  {
   "cell_type": "code",
   "execution_count": null,
   "metadata": {
    "colab": {
     "base_uri": "https://localhost:8080/"
    },
    "id": "EHHnBgPfOFtW",
    "outputId": "98b77b8d-4def-44c0-9f61-cecf722e1151"
   },
   "outputs": [],
   "source": [
    "print(duncan_prestige.__doc__)"
   ]
  },
  {
   "cell_type": "code",
   "execution_count": null,
   "metadata": {
    "colab": {
     "base_uri": "https://localhost:8080/",
     "height": 206
    },
    "id": "Z7vZBzAteVfa",
    "outputId": "38c2ac6d-e7de-4e91-f4cd-d76870dffd87"
   },
   "outputs": [],
   "source": [
    "duncan_df = duncan_prestige.data\n",
    "duncan_df.head()"
   ]
  },
  {
   "cell_type": "markdown",
   "metadata": {},
   "source": [
    "Using `seaborn` prepare the following plots. \n",
    "\n",
    "- `pairplot` with data colored by the `type` feature\n",
    "- Side by side boxplot of `type` vs. `income` and barplot of average income by `type`"
   ]
  },
  {
   "cell_type": "code",
   "execution_count": null,
   "metadata": {
    "id": "93hTH3Laep_J"
   },
   "outputs": [],
   "source": [
    "# pairplot by type\n"
   ]
  },
  {
   "cell_type": "code",
   "execution_count": null,
   "metadata": {
    "id": "e2RAtgb9ew3L"
   },
   "outputs": [],
   "source": [
    "# boxplot of type vs. income\n"
   ]
  },
  {
   "cell_type": "markdown",
   "metadata": {},
   "source": [
    "#### API Review\n",
    "\n",
    "![](https://res.cloudinary.com/di2vaxvhl/image/upload/v1545849277/HTTP_txch7g.png)"
   ]
  },
  {
   "cell_type": "code",
   "execution_count": null,
   "metadata": {
    "id": "hax1XhY2uPDR"
   },
   "outputs": [],
   "source": [
    "# url to pitchfork album reviews\n",
    "pitch_url = 'https://pitchfork.com/reviews/albums/'"
   ]
  },
  {
   "cell_type": "code",
   "execution_count": null,
   "metadata": {
    "id": "esJpteL8vYzl"
   },
   "outputs": [],
   "source": [
    "# make a request of the url\n"
   ]
  },
  {
   "cell_type": "code",
   "execution_count": null,
   "metadata": {},
   "outputs": [],
   "source": [
    "# examine the text of the response\n"
   ]
  },
  {
   "cell_type": "markdown",
   "metadata": {},
   "source": [
    "#### URL's with data\n",
    "\n",
    "Let's look over the PokeAPI with data about Pokemon [here](https://pokeapi.co/).\n",
    "\n",
    "![](https://raw.githubusercontent.com/PokeAPI/media/master/logo/pokeapi_256.png)"
   ]
  },
  {
   "cell_type": "code",
   "execution_count": null,
   "metadata": {},
   "outputs": [],
   "source": [
    "#sample url\n",
    "poke_url = 'https://pokeapi.co/api/v2/pokemon/ditto'"
   ]
  },
  {
   "cell_type": "code",
   "execution_count": null,
   "metadata": {},
   "outputs": [],
   "source": [
    "# make a request\n"
   ]
  },
  {
   "cell_type": "code",
   "execution_count": null,
   "metadata": {},
   "outputs": [],
   "source": [
    "# extract json\n"
   ]
  },
  {
   "cell_type": "code",
   "execution_count": null,
   "metadata": {},
   "outputs": [],
   "source": [
    "# examine the type of object\n"
   ]
  },
  {
   "cell_type": "code",
   "execution_count": null,
   "metadata": {},
   "outputs": [],
   "source": [
    "# what are the keys? \n"
   ]
  },
  {
   "cell_type": "code",
   "execution_count": null,
   "metadata": {},
   "outputs": [],
   "source": [
    "# extract their moves \n"
   ]
  },
  {
   "cell_type": "markdown",
   "metadata": {},
   "source": [
    "**PROBLEM**\n",
    "\n",
    "1. Extract information on the berry named `cheri`.  What is its firmness?\n",
    "2. Extract information on the berry named `chesto`.  What is its firmness?\n",
    "3. Write a function that takes in a berry name and returns its firmness.  Test your function with `pecha` berries. "
   ]
  },
  {
   "cell_type": "code",
   "execution_count": null,
   "metadata": {},
   "outputs": [],
   "source": []
  },
  {
   "cell_type": "code",
   "execution_count": null,
   "metadata": {},
   "outputs": [],
   "source": []
  },
  {
   "cell_type": "markdown",
   "metadata": {},
   "source": [
    "#### Using Alpha Vantage\n",
    "\n",
    "When we use an API, there is typically additional information required to extract specific data.  We used alpha vantage last time, we will do so again today.  The important idea here is understanding how the documentation helps you to format the URL and how we can use `requests` to help us to do so. Open up the docs [here](https://www.alphavantage.co/documentation/#intraday), and we will visit the url below to see the results.\n",
    "\n",
    "- https://www.alphavantage.co/query?function=TIME_SERIES_INTRADAY&symbol=IBM&interval=5min&apikey=demo\n"
   ]
  },
  {
   "cell_type": "code",
   "execution_count": null,
   "metadata": {
    "id": "xZ_6QmlVycm3"
   },
   "outputs": [],
   "source": [
    "# intraday api endpoint url\n"
   ]
  },
  {
   "cell_type": "code",
   "execution_count": null,
   "metadata": {
    "id": "sy6odM0eymuI"
   },
   "outputs": [],
   "source": [
    "# one approach with whole url\n"
   ]
  },
  {
   "cell_type": "code",
   "execution_count": null,
   "metadata": {},
   "outputs": [],
   "source": [
    "# examine output -- keys\n"
   ]
  },
  {
   "cell_type": "code",
   "execution_count": null,
   "metadata": {},
   "outputs": [],
   "source": [
    "# extract time series data\n"
   ]
  },
  {
   "cell_type": "markdown",
   "metadata": {},
   "source": [
    "**Using Params**\n",
    "\n",
    "- `function`\n",
    "- `symbol`\n",
    "- `interval`\n",
    "- `api_key`"
   ]
  },
  {
   "cell_type": "code",
   "execution_count": null,
   "metadata": {
    "id": "c5Se02hfyvU6"
   },
   "outputs": [],
   "source": [
    "# another request\n"
   ]
  },
  {
   "cell_type": "code",
   "execution_count": null,
   "metadata": {
    "id": "G8BU3jC-zIq8"
   },
   "outputs": [],
   "source": [
    "# look at the results\n"
   ]
  },
  {
   "cell_type": "code",
   "execution_count": null,
   "metadata": {
    "colab": {
     "base_uri": "https://localhost:8080/"
    },
    "id": "8xo1Vb-FzKLZ",
    "outputId": "e685d0d2-b962-4193-9521-7ffa9bed016b"
   },
   "outputs": [],
   "source": [
    "# format time series data as DataFrame\n"
   ]
  },
  {
   "cell_type": "code",
   "execution_count": null,
   "metadata": {},
   "outputs": [],
   "source": [
    "# look at the info\n"
   ]
  },
  {
   "cell_type": "code",
   "execution_count": null,
   "metadata": {},
   "outputs": [],
   "source": [
    "# rename the columns\n",
    "cols = ['open', 'high', 'low', 'close', 'volume']\n"
   ]
  },
  {
   "cell_type": "code",
   "execution_count": null,
   "metadata": {},
   "outputs": [],
   "source": [
    "# format the data as floats using .astype()\n"
   ]
  },
  {
   "cell_type": "code",
   "execution_count": null,
   "metadata": {},
   "outputs": [],
   "source": [
    "# format the index as datetime\n"
   ]
  },
  {
   "cell_type": "code",
   "execution_count": null,
   "metadata": {},
   "outputs": [],
   "source": [
    "# plots of volume and close in 2 rows 1 column\n"
   ]
  },
  {
   "cell_type": "markdown",
   "metadata": {
    "id": "D53Kyhja5Il4"
   },
   "source": [
    "**PROBLEM**\n",
    "\n",
    "Examine the earnings for TSLA to GM using the earnings endpoint [here](https://www.alphavantage.co/documentation/#earnings).  Create a scatterplot that visualizes these comparisons."
   ]
  },
  {
   "cell_type": "code",
   "execution_count": null,
   "metadata": {},
   "outputs": [],
   "source": []
  },
  {
   "cell_type": "code",
   "execution_count": null,
   "metadata": {},
   "outputs": [],
   "source": []
  },
  {
   "cell_type": "code",
   "execution_count": null,
   "metadata": {},
   "outputs": [],
   "source": []
  },
  {
   "cell_type": "code",
   "execution_count": null,
   "metadata": {},
   "outputs": [],
   "source": []
  },
  {
   "cell_type": "markdown",
   "metadata": {},
   "source": [
    "**PROBLEM**\n",
    "\n",
    "Use the consumer sentiment API [here](https://www.alphavantage.co/documentation/#consumer-sentiment).  Extract the dates and times and construct a DataFrame with appropriate datatypes and plot the results."
   ]
  },
  {
   "cell_type": "code",
   "execution_count": null,
   "metadata": {},
   "outputs": [],
   "source": []
  },
  {
   "cell_type": "code",
   "execution_count": null,
   "metadata": {},
   "outputs": [],
   "source": []
  },
  {
   "cell_type": "code",
   "execution_count": null,
   "metadata": {},
   "outputs": [],
   "source": []
  },
  {
   "cell_type": "code",
   "execution_count": null,
   "metadata": {},
   "outputs": [],
   "source": []
  },
  {
   "cell_type": "code",
   "execution_count": null,
   "metadata": {},
   "outputs": [],
   "source": []
  },
  {
   "cell_type": "markdown",
   "metadata": {},
   "source": [
    "#### API Wrappers\n",
    "\n",
    "Often, someone has written a library to wrap the API.  For example, there is an alpha vantage Python API wrapper:\n",
    "\n",
    "- https://github.com/RomelTorres/alpha_vantage\n",
    "\n",
    "Let's head over, install the library, and retrieve some intraday returns."
   ]
  },
  {
   "cell_type": "code",
   "execution_count": null,
   "metadata": {},
   "outputs": [],
   "source": []
  },
  {
   "cell_type": "code",
   "execution_count": null,
   "metadata": {},
   "outputs": [],
   "source": []
  },
  {
   "cell_type": "code",
   "execution_count": null,
   "metadata": {},
   "outputs": [],
   "source": []
  },
  {
   "cell_type": "code",
   "execution_count": null,
   "metadata": {},
   "outputs": [],
   "source": []
  },
  {
   "cell_type": "markdown",
   "metadata": {},
   "source": [
    "**PROBLEM**\n",
    "\n",
    "Head over to New York City's Open Data Portal documentation on the 311 calls api [here](https://dev.socrata.com/foundry/data.cityofnewyork.us/erm2-nwe9).  Use the Socrata library to make a request and retrieve the 2000 most recent 311 calls.  Construct a barplot with counts of calls for each borough and one for each complaint type."
   ]
  },
  {
   "cell_type": "code",
   "execution_count": null,
   "metadata": {},
   "outputs": [],
   "source": []
  },
  {
   "cell_type": "code",
   "execution_count": null,
   "metadata": {},
   "outputs": [],
   "source": []
  },
  {
   "cell_type": "code",
   "execution_count": null,
   "metadata": {},
   "outputs": [],
   "source": []
  },
  {
   "cell_type": "code",
   "execution_count": null,
   "metadata": {},
   "outputs": [],
   "source": []
  },
  {
   "cell_type": "code",
   "execution_count": null,
   "metadata": {},
   "outputs": [],
   "source": []
  }
 ],
 "metadata": {
  "colab": {
   "provenance": []
  },
  "kernelspec": {
   "display_name": "Python 3",
   "language": "python",
   "name": "python3"
  },
  "language_info": {
   "codemirror_mode": {
    "name": "ipython",
    "version": 3
   },
   "file_extension": ".py",
   "mimetype": "text/x-python",
   "name": "python",
   "nbconvert_exporter": "python",
   "pygments_lexer": "ipython3",
   "version": "3.8.3"
  }
 },
 "nbformat": 4,
 "nbformat_minor": 4
}
